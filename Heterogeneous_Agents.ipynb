{
  "cells": [
    {
      "cell_type": "markdown",
      "metadata": {
        "id": "view-in-github",
        "colab_type": "text"
      },
      "source": [
        "<a href=\"https://colab.research.google.com/github/simplexityware/algodyn/blob/master/Heterogeneous_Agents.ipynb\" target=\"_parent\"><img src=\"https://colab.research.google.com/assets/colab-badge.svg\" alt=\"Open In Colab\"/></a>"
      ]
    },
    {
      "cell_type": "markdown",
      "source": [
        "https://figshare.com/articles/dataset/Data_for_A_detailed_heterogeneous_agent_model_for_a_single_asset_financial_market_with_trading_via_an_order_book/4579474"
      ],
      "metadata": {
        "id": "NxWrohPM3sCp"
      }
    },
    {
      "cell_type": "markdown",
      "source": [
        "## A social network model of investment behaviour in the stock market"
      ],
      "metadata": {
        "id": "AO2mur7uVJjL"
      }
    },
    {
      "cell_type": "code",
      "source": [
        "pip install cellpylib"
      ],
      "metadata": {
        "colab": {
          "base_uri": "https://localhost:8080/"
        },
        "id": "8ECplZ4sUiOc",
        "outputId": "778e034c-f067-4e2d-fd90-039090ad63e0"
      },
      "execution_count": 6,
      "outputs": [
        {
          "output_type": "stream",
          "name": "stdout",
          "text": [
            "Collecting cellpylib\n",
            "  Downloading cellpylib-2.4.0.tar.gz (38 kB)\n",
            "  Preparing metadata (setup.py) ... \u001b[?25l\u001b[?25hdone\n",
            "Requirement already satisfied: numpy>=1.15.4 in /usr/local/lib/python3.10/dist-packages (from cellpylib) (1.25.2)\n",
            "Requirement already satisfied: matplotlib>=3.0.2 in /usr/local/lib/python3.10/dist-packages (from cellpylib) (3.7.1)\n",
            "Requirement already satisfied: contourpy>=1.0.1 in /usr/local/lib/python3.10/dist-packages (from matplotlib>=3.0.2->cellpylib) (1.2.1)\n",
            "Requirement already satisfied: cycler>=0.10 in /usr/local/lib/python3.10/dist-packages (from matplotlib>=3.0.2->cellpylib) (0.12.1)\n",
            "Requirement already satisfied: fonttools>=4.22.0 in /usr/local/lib/python3.10/dist-packages (from matplotlib>=3.0.2->cellpylib) (4.53.0)\n",
            "Requirement already satisfied: kiwisolver>=1.0.1 in /usr/local/lib/python3.10/dist-packages (from matplotlib>=3.0.2->cellpylib) (1.4.5)\n",
            "Requirement already satisfied: packaging>=20.0 in /usr/local/lib/python3.10/dist-packages (from matplotlib>=3.0.2->cellpylib) (24.1)\n",
            "Requirement already satisfied: pillow>=6.2.0 in /usr/local/lib/python3.10/dist-packages (from matplotlib>=3.0.2->cellpylib) (9.4.0)\n",
            "Requirement already satisfied: pyparsing>=2.3.1 in /usr/local/lib/python3.10/dist-packages (from matplotlib>=3.0.2->cellpylib) (3.1.2)\n",
            "Requirement already satisfied: python-dateutil>=2.7 in /usr/local/lib/python3.10/dist-packages (from matplotlib>=3.0.2->cellpylib) (2.8.2)\n",
            "Requirement already satisfied: six>=1.5 in /usr/local/lib/python3.10/dist-packages (from python-dateutil>=2.7->matplotlib>=3.0.2->cellpylib) (1.16.0)\n",
            "Building wheels for collected packages: cellpylib\n",
            "  Building wheel for cellpylib (setup.py) ... \u001b[?25l\u001b[?25hdone\n",
            "  Created wheel for cellpylib: filename=cellpylib-2.4.0-py3-none-any.whl size=37922 sha256=1cc1e1272517d4764f08f25881eb1016e6de6de5514050748e3c7429848c2b08\n",
            "  Stored in directory: /root/.cache/pip/wheels/44/bc/c4/4730d328071b164c25d392c2d932b513e56ff0857da63d17e7\n",
            "Successfully built cellpylib\n",
            "Installing collected packages: cellpylib\n",
            "Successfully installed cellpylib-2.4.0\n"
          ]
        }
      ]
    },
    {
      "cell_type": "code",
      "source": [
        "!pip install plotly ipywidgets"
      ],
      "metadata": {
        "colab": {
          "base_uri": "https://localhost:8080/"
        },
        "id": "xbVDeAYxgD_9",
        "outputId": "58d71f09-b59a-4368-bca5-38e5c1a71b44"
      },
      "execution_count": 1,
      "outputs": [
        {
          "output_type": "stream",
          "name": "stdout",
          "text": [
            "Requirement already satisfied: plotly in /usr/local/lib/python3.10/dist-packages (5.15.0)\n",
            "Requirement already satisfied: ipywidgets in /usr/local/lib/python3.10/dist-packages (7.7.1)\n",
            "Requirement already satisfied: tenacity>=6.2.0 in /usr/local/lib/python3.10/dist-packages (from plotly) (8.4.2)\n",
            "Requirement already satisfied: packaging in /usr/local/lib/python3.10/dist-packages (from plotly) (24.1)\n",
            "Requirement already satisfied: ipykernel>=4.5.1 in /usr/local/lib/python3.10/dist-packages (from ipywidgets) (5.5.6)\n",
            "Requirement already satisfied: ipython-genutils~=0.2.0 in /usr/local/lib/python3.10/dist-packages (from ipywidgets) (0.2.0)\n",
            "Requirement already satisfied: traitlets>=4.3.1 in /usr/local/lib/python3.10/dist-packages (from ipywidgets) (5.7.1)\n",
            "Requirement already satisfied: widgetsnbextension~=3.6.0 in /usr/local/lib/python3.10/dist-packages (from ipywidgets) (3.6.6)\n",
            "Requirement already satisfied: ipython>=4.0.0 in /usr/local/lib/python3.10/dist-packages (from ipywidgets) (7.34.0)\n",
            "Requirement already satisfied: jupyterlab-widgets>=1.0.0 in /usr/local/lib/python3.10/dist-packages (from ipywidgets) (3.0.11)\n",
            "Requirement already satisfied: jupyter-client in /usr/local/lib/python3.10/dist-packages (from ipykernel>=4.5.1->ipywidgets) (6.1.12)\n",
            "Requirement already satisfied: tornado>=4.2 in /usr/local/lib/python3.10/dist-packages (from ipykernel>=4.5.1->ipywidgets) (6.3.3)\n",
            "Requirement already satisfied: setuptools>=18.5 in /usr/local/lib/python3.10/dist-packages (from ipython>=4.0.0->ipywidgets) (67.7.2)\n",
            "Requirement already satisfied: jedi>=0.16 in /usr/local/lib/python3.10/dist-packages (from ipython>=4.0.0->ipywidgets) (0.19.1)\n",
            "Requirement already satisfied: decorator in /usr/local/lib/python3.10/dist-packages (from ipython>=4.0.0->ipywidgets) (4.4.2)\n",
            "Requirement already satisfied: pickleshare in /usr/local/lib/python3.10/dist-packages (from ipython>=4.0.0->ipywidgets) (0.7.5)\n",
            "Requirement already satisfied: prompt-toolkit!=3.0.0,!=3.0.1,<3.1.0,>=2.0.0 in /usr/local/lib/python3.10/dist-packages (from ipython>=4.0.0->ipywidgets) (3.0.47)\n",
            "Requirement already satisfied: pygments in /usr/local/lib/python3.10/dist-packages (from ipython>=4.0.0->ipywidgets) (2.16.1)\n",
            "Requirement already satisfied: backcall in /usr/local/lib/python3.10/dist-packages (from ipython>=4.0.0->ipywidgets) (0.2.0)\n",
            "Requirement already satisfied: matplotlib-inline in /usr/local/lib/python3.10/dist-packages (from ipython>=4.0.0->ipywidgets) (0.1.7)\n",
            "Requirement already satisfied: pexpect>4.3 in /usr/local/lib/python3.10/dist-packages (from ipython>=4.0.0->ipywidgets) (4.9.0)\n",
            "Requirement already satisfied: notebook>=4.4.1 in /usr/local/lib/python3.10/dist-packages (from widgetsnbextension~=3.6.0->ipywidgets) (6.5.5)\n",
            "Requirement already satisfied: parso<0.9.0,>=0.8.3 in /usr/local/lib/python3.10/dist-packages (from jedi>=0.16->ipython>=4.0.0->ipywidgets) (0.8.4)\n",
            "Requirement already satisfied: jinja2 in /usr/local/lib/python3.10/dist-packages (from notebook>=4.4.1->widgetsnbextension~=3.6.0->ipywidgets) (3.1.4)\n",
            "Requirement already satisfied: pyzmq<25,>=17 in /usr/local/lib/python3.10/dist-packages (from notebook>=4.4.1->widgetsnbextension~=3.6.0->ipywidgets) (24.0.1)\n",
            "Requirement already satisfied: argon2-cffi in /usr/local/lib/python3.10/dist-packages (from notebook>=4.4.1->widgetsnbextension~=3.6.0->ipywidgets) (23.1.0)\n",
            "Requirement already satisfied: jupyter-core>=4.6.1 in /usr/local/lib/python3.10/dist-packages (from notebook>=4.4.1->widgetsnbextension~=3.6.0->ipywidgets) (5.7.2)\n",
            "Requirement already satisfied: nbformat in /usr/local/lib/python3.10/dist-packages (from notebook>=4.4.1->widgetsnbextension~=3.6.0->ipywidgets) (5.10.4)\n",
            "Requirement already satisfied: nbconvert>=5 in /usr/local/lib/python3.10/dist-packages (from notebook>=4.4.1->widgetsnbextension~=3.6.0->ipywidgets) (6.5.4)\n",
            "Requirement already satisfied: nest-asyncio>=1.5 in /usr/local/lib/python3.10/dist-packages (from notebook>=4.4.1->widgetsnbextension~=3.6.0->ipywidgets) (1.6.0)\n",
            "Requirement already satisfied: Send2Trash>=1.8.0 in /usr/local/lib/python3.10/dist-packages (from notebook>=4.4.1->widgetsnbextension~=3.6.0->ipywidgets) (1.8.3)\n",
            "Requirement already satisfied: terminado>=0.8.3 in /usr/local/lib/python3.10/dist-packages (from notebook>=4.4.1->widgetsnbextension~=3.6.0->ipywidgets) (0.18.1)\n",
            "Requirement already satisfied: prometheus-client in /usr/local/lib/python3.10/dist-packages (from notebook>=4.4.1->widgetsnbextension~=3.6.0->ipywidgets) (0.20.0)\n",
            "Requirement already satisfied: nbclassic>=0.4.7 in /usr/local/lib/python3.10/dist-packages (from notebook>=4.4.1->widgetsnbextension~=3.6.0->ipywidgets) (1.1.0)\n",
            "Requirement already satisfied: python-dateutil>=2.1 in /usr/local/lib/python3.10/dist-packages (from jupyter-client->ipykernel>=4.5.1->ipywidgets) (2.8.2)\n",
            "Requirement already satisfied: ptyprocess>=0.5 in /usr/local/lib/python3.10/dist-packages (from pexpect>4.3->ipython>=4.0.0->ipywidgets) (0.7.0)\n",
            "Requirement already satisfied: wcwidth in /usr/local/lib/python3.10/dist-packages (from prompt-toolkit!=3.0.0,!=3.0.1,<3.1.0,>=2.0.0->ipython>=4.0.0->ipywidgets) (0.2.13)\n",
            "Requirement already satisfied: platformdirs>=2.5 in /usr/local/lib/python3.10/dist-packages (from jupyter-core>=4.6.1->notebook>=4.4.1->widgetsnbextension~=3.6.0->ipywidgets) (4.2.2)\n",
            "Requirement already satisfied: notebook-shim>=0.2.3 in /usr/local/lib/python3.10/dist-packages (from nbclassic>=0.4.7->notebook>=4.4.1->widgetsnbextension~=3.6.0->ipywidgets) (0.2.4)\n",
            "Requirement already satisfied: lxml in /usr/local/lib/python3.10/dist-packages (from nbconvert>=5->notebook>=4.4.1->widgetsnbextension~=3.6.0->ipywidgets) (4.9.4)\n",
            "Requirement already satisfied: beautifulsoup4 in /usr/local/lib/python3.10/dist-packages (from nbconvert>=5->notebook>=4.4.1->widgetsnbextension~=3.6.0->ipywidgets) (4.12.3)\n",
            "Requirement already satisfied: bleach in /usr/local/lib/python3.10/dist-packages (from nbconvert>=5->notebook>=4.4.1->widgetsnbextension~=3.6.0->ipywidgets) (6.1.0)\n",
            "Requirement already satisfied: defusedxml in /usr/local/lib/python3.10/dist-packages (from nbconvert>=5->notebook>=4.4.1->widgetsnbextension~=3.6.0->ipywidgets) (0.7.1)\n",
            "Requirement already satisfied: entrypoints>=0.2.2 in /usr/local/lib/python3.10/dist-packages (from nbconvert>=5->notebook>=4.4.1->widgetsnbextension~=3.6.0->ipywidgets) (0.4)\n",
            "Requirement already satisfied: jupyterlab-pygments in /usr/local/lib/python3.10/dist-packages (from nbconvert>=5->notebook>=4.4.1->widgetsnbextension~=3.6.0->ipywidgets) (0.3.0)\n",
            "Requirement already satisfied: MarkupSafe>=2.0 in /usr/local/lib/python3.10/dist-packages (from nbconvert>=5->notebook>=4.4.1->widgetsnbextension~=3.6.0->ipywidgets) (2.1.5)\n",
            "Requirement already satisfied: mistune<2,>=0.8.1 in /usr/local/lib/python3.10/dist-packages (from nbconvert>=5->notebook>=4.4.1->widgetsnbextension~=3.6.0->ipywidgets) (0.8.4)\n",
            "Requirement already satisfied: nbclient>=0.5.0 in /usr/local/lib/python3.10/dist-packages (from nbconvert>=5->notebook>=4.4.1->widgetsnbextension~=3.6.0->ipywidgets) (0.10.0)\n",
            "Requirement already satisfied: pandocfilters>=1.4.1 in /usr/local/lib/python3.10/dist-packages (from nbconvert>=5->notebook>=4.4.1->widgetsnbextension~=3.6.0->ipywidgets) (1.5.1)\n",
            "Requirement already satisfied: tinycss2 in /usr/local/lib/python3.10/dist-packages (from nbconvert>=5->notebook>=4.4.1->widgetsnbextension~=3.6.0->ipywidgets) (1.3.0)\n",
            "Requirement already satisfied: fastjsonschema>=2.15 in /usr/local/lib/python3.10/dist-packages (from nbformat->notebook>=4.4.1->widgetsnbextension~=3.6.0->ipywidgets) (2.20.0)\n",
            "Requirement already satisfied: jsonschema>=2.6 in /usr/local/lib/python3.10/dist-packages (from nbformat->notebook>=4.4.1->widgetsnbextension~=3.6.0->ipywidgets) (4.19.2)\n",
            "Requirement already satisfied: six>=1.5 in /usr/local/lib/python3.10/dist-packages (from python-dateutil>=2.1->jupyter-client->ipykernel>=4.5.1->ipywidgets) (1.16.0)\n",
            "Requirement already satisfied: argon2-cffi-bindings in /usr/local/lib/python3.10/dist-packages (from argon2-cffi->notebook>=4.4.1->widgetsnbextension~=3.6.0->ipywidgets) (21.2.0)\n",
            "Requirement already satisfied: attrs>=22.2.0 in /usr/local/lib/python3.10/dist-packages (from jsonschema>=2.6->nbformat->notebook>=4.4.1->widgetsnbextension~=3.6.0->ipywidgets) (23.2.0)\n",
            "Requirement already satisfied: jsonschema-specifications>=2023.03.6 in /usr/local/lib/python3.10/dist-packages (from jsonschema>=2.6->nbformat->notebook>=4.4.1->widgetsnbextension~=3.6.0->ipywidgets) (2023.12.1)\n",
            "Requirement already satisfied: referencing>=0.28.4 in /usr/local/lib/python3.10/dist-packages (from jsonschema>=2.6->nbformat->notebook>=4.4.1->widgetsnbextension~=3.6.0->ipywidgets) (0.35.1)\n",
            "Requirement already satisfied: rpds-py>=0.7.1 in /usr/local/lib/python3.10/dist-packages (from jsonschema>=2.6->nbformat->notebook>=4.4.1->widgetsnbextension~=3.6.0->ipywidgets) (0.18.1)\n",
            "Requirement already satisfied: jupyter-server<3,>=1.8 in /usr/local/lib/python3.10/dist-packages (from notebook-shim>=0.2.3->nbclassic>=0.4.7->notebook>=4.4.1->widgetsnbextension~=3.6.0->ipywidgets) (1.24.0)\n",
            "Requirement already satisfied: cffi>=1.0.1 in /usr/local/lib/python3.10/dist-packages (from argon2-cffi-bindings->argon2-cffi->notebook>=4.4.1->widgetsnbextension~=3.6.0->ipywidgets) (1.16.0)\n",
            "Requirement already satisfied: soupsieve>1.2 in /usr/local/lib/python3.10/dist-packages (from beautifulsoup4->nbconvert>=5->notebook>=4.4.1->widgetsnbextension~=3.6.0->ipywidgets) (2.5)\n",
            "Requirement already satisfied: webencodings in /usr/local/lib/python3.10/dist-packages (from bleach->nbconvert>=5->notebook>=4.4.1->widgetsnbextension~=3.6.0->ipywidgets) (0.5.1)\n",
            "Requirement already satisfied: pycparser in /usr/local/lib/python3.10/dist-packages (from cffi>=1.0.1->argon2-cffi-bindings->argon2-cffi->notebook>=4.4.1->widgetsnbextension~=3.6.0->ipywidgets) (2.22)\n",
            "Requirement already satisfied: anyio<4,>=3.1.0 in /usr/local/lib/python3.10/dist-packages (from jupyter-server<3,>=1.8->notebook-shim>=0.2.3->nbclassic>=0.4.7->notebook>=4.4.1->widgetsnbextension~=3.6.0->ipywidgets) (3.7.1)\n",
            "Requirement already satisfied: websocket-client in /usr/local/lib/python3.10/dist-packages (from jupyter-server<3,>=1.8->notebook-shim>=0.2.3->nbclassic>=0.4.7->notebook>=4.4.1->widgetsnbextension~=3.6.0->ipywidgets) (1.8.0)\n",
            "Requirement already satisfied: idna>=2.8 in /usr/local/lib/python3.10/dist-packages (from anyio<4,>=3.1.0->jupyter-server<3,>=1.8->notebook-shim>=0.2.3->nbclassic>=0.4.7->notebook>=4.4.1->widgetsnbextension~=3.6.0->ipywidgets) (3.7)\n",
            "Requirement already satisfied: sniffio>=1.1 in /usr/local/lib/python3.10/dist-packages (from anyio<4,>=3.1.0->jupyter-server<3,>=1.8->notebook-shim>=0.2.3->nbclassic>=0.4.7->notebook>=4.4.1->widgetsnbextension~=3.6.0->ipywidgets) (1.3.1)\n",
            "Requirement already satisfied: exceptiongroup in /usr/local/lib/python3.10/dist-packages (from anyio<4,>=3.1.0->jupyter-server<3,>=1.8->notebook-shim>=0.2.3->nbclassic>=0.4.7->notebook>=4.4.1->widgetsnbextension~=3.6.0->ipywidgets) (1.2.1)\n"
          ]
        }
      ]
    },
    {
      "cell_type": "code",
      "source": [
        "import numpy as np\n",
        "import plotly.express as px\n",
        "import ipywidgets as widgets\n",
        "from IPython.display import display, clear_output\n",
        "import plotly.io as pio\n",
        "\n",
        "pio.renderers.default = \"colab\""
      ],
      "metadata": {
        "id": "WFMpgjbBi3JC"
      },
      "execution_count": 2,
      "outputs": []
    },
    {
      "cell_type": "code",
      "source": [
        "import plotly.graph_objects as go\n",
        "\n",
        "# Create simple data\n",
        "x = [0, 1, 2, 3, 4, 5]\n",
        "y = [0, 1, 0, 1, 0, 1]\n",
        "\n",
        "# Create the figure\n",
        "fig = go.Figure(data=go.Scatter(x=x, y=y, mode='lines+markers'))\n",
        "\n",
        "# Update layout\n",
        "fig.update_layout(title='Simple Plot',\n",
        "                  xaxis_title='X Axis',\n",
        "                  yaxis_title='Y Axis')\n",
        "\n",
        "# Show the plot\n",
        "fig.show()"
      ],
      "metadata": {
        "colab": {
          "base_uri": "https://localhost:8080/",
          "height": 542
        },
        "id": "TTBULggPkC6H",
        "outputId": "675a2f10-fc5b-4c78-b676-a87321349cda"
      },
      "execution_count": 4,
      "outputs": [
        {
          "output_type": "display_data",
          "data": {
            "text/html": [
              "<html>\n",
              "<head><meta charset=\"utf-8\" /></head>\n",
              "<body>\n",
              "    <div>            <script src=\"https://cdnjs.cloudflare.com/ajax/libs/mathjax/2.7.5/MathJax.js?config=TeX-AMS-MML_SVG\"></script><script type=\"text/javascript\">if (window.MathJax && window.MathJax.Hub && window.MathJax.Hub.Config) {window.MathJax.Hub.Config({SVG: {font: \"STIX-Web\"}});}</script>                <script type=\"text/javascript\">window.PlotlyConfig = {MathJaxConfig: 'local'};</script>\n",
              "        <script charset=\"utf-8\" src=\"https://cdn.plot.ly/plotly-2.24.1.min.js\"></script>                <div id=\"b119f1a5-ee18-4324-bfb4-5074ba71c5bc\" class=\"plotly-graph-div\" style=\"height:525px; width:100%;\"></div>            <script type=\"text/javascript\">                                    window.PLOTLYENV=window.PLOTLYENV || {};                                    if (document.getElementById(\"b119f1a5-ee18-4324-bfb4-5074ba71c5bc\")) {                    Plotly.newPlot(                        \"b119f1a5-ee18-4324-bfb4-5074ba71c5bc\",                        [{\"mode\":\"lines+markers\",\"x\":[0,1,2,3,4,5],\"y\":[0,1,0,1,0,1],\"type\":\"scatter\"}],                        {\"template\":{\"data\":{\"histogram2dcontour\":[{\"type\":\"histogram2dcontour\",\"colorbar\":{\"outlinewidth\":0,\"ticks\":\"\"},\"colorscale\":[[0.0,\"#0d0887\"],[0.1111111111111111,\"#46039f\"],[0.2222222222222222,\"#7201a8\"],[0.3333333333333333,\"#9c179e\"],[0.4444444444444444,\"#bd3786\"],[0.5555555555555556,\"#d8576b\"],[0.6666666666666666,\"#ed7953\"],[0.7777777777777778,\"#fb9f3a\"],[0.8888888888888888,\"#fdca26\"],[1.0,\"#f0f921\"]]}],\"choropleth\":[{\"type\":\"choropleth\",\"colorbar\":{\"outlinewidth\":0,\"ticks\":\"\"}}],\"histogram2d\":[{\"type\":\"histogram2d\",\"colorbar\":{\"outlinewidth\":0,\"ticks\":\"\"},\"colorscale\":[[0.0,\"#0d0887\"],[0.1111111111111111,\"#46039f\"],[0.2222222222222222,\"#7201a8\"],[0.3333333333333333,\"#9c179e\"],[0.4444444444444444,\"#bd3786\"],[0.5555555555555556,\"#d8576b\"],[0.6666666666666666,\"#ed7953\"],[0.7777777777777778,\"#fb9f3a\"],[0.8888888888888888,\"#fdca26\"],[1.0,\"#f0f921\"]]}],\"heatmap\":[{\"type\":\"heatmap\",\"colorbar\":{\"outlinewidth\":0,\"ticks\":\"\"},\"colorscale\":[[0.0,\"#0d0887\"],[0.1111111111111111,\"#46039f\"],[0.2222222222222222,\"#7201a8\"],[0.3333333333333333,\"#9c179e\"],[0.4444444444444444,\"#bd3786\"],[0.5555555555555556,\"#d8576b\"],[0.6666666666666666,\"#ed7953\"],[0.7777777777777778,\"#fb9f3a\"],[0.8888888888888888,\"#fdca26\"],[1.0,\"#f0f921\"]]}],\"heatmapgl\":[{\"type\":\"heatmapgl\",\"colorbar\":{\"outlinewidth\":0,\"ticks\":\"\"},\"colorscale\":[[0.0,\"#0d0887\"],[0.1111111111111111,\"#46039f\"],[0.2222222222222222,\"#7201a8\"],[0.3333333333333333,\"#9c179e\"],[0.4444444444444444,\"#bd3786\"],[0.5555555555555556,\"#d8576b\"],[0.6666666666666666,\"#ed7953\"],[0.7777777777777778,\"#fb9f3a\"],[0.8888888888888888,\"#fdca26\"],[1.0,\"#f0f921\"]]}],\"contourcarpet\":[{\"type\":\"contourcarpet\",\"colorbar\":{\"outlinewidth\":0,\"ticks\":\"\"}}],\"contour\":[{\"type\":\"contour\",\"colorbar\":{\"outlinewidth\":0,\"ticks\":\"\"},\"colorscale\":[[0.0,\"#0d0887\"],[0.1111111111111111,\"#46039f\"],[0.2222222222222222,\"#7201a8\"],[0.3333333333333333,\"#9c179e\"],[0.4444444444444444,\"#bd3786\"],[0.5555555555555556,\"#d8576b\"],[0.6666666666666666,\"#ed7953\"],[0.7777777777777778,\"#fb9f3a\"],[0.8888888888888888,\"#fdca26\"],[1.0,\"#f0f921\"]]}],\"surface\":[{\"type\":\"surface\",\"colorbar\":{\"outlinewidth\":0,\"ticks\":\"\"},\"colorscale\":[[0.0,\"#0d0887\"],[0.1111111111111111,\"#46039f\"],[0.2222222222222222,\"#7201a8\"],[0.3333333333333333,\"#9c179e\"],[0.4444444444444444,\"#bd3786\"],[0.5555555555555556,\"#d8576b\"],[0.6666666666666666,\"#ed7953\"],[0.7777777777777778,\"#fb9f3a\"],[0.8888888888888888,\"#fdca26\"],[1.0,\"#f0f921\"]]}],\"mesh3d\":[{\"type\":\"mesh3d\",\"colorbar\":{\"outlinewidth\":0,\"ticks\":\"\"}}],\"scatter\":[{\"fillpattern\":{\"fillmode\":\"overlay\",\"size\":10,\"solidity\":0.2},\"type\":\"scatter\"}],\"parcoords\":[{\"type\":\"parcoords\",\"line\":{\"colorbar\":{\"outlinewidth\":0,\"ticks\":\"\"}}}],\"scatterpolargl\":[{\"type\":\"scatterpolargl\",\"marker\":{\"colorbar\":{\"outlinewidth\":0,\"ticks\":\"\"}}}],\"bar\":[{\"error_x\":{\"color\":\"#2a3f5f\"},\"error_y\":{\"color\":\"#2a3f5f\"},\"marker\":{\"line\":{\"color\":\"#E5ECF6\",\"width\":0.5},\"pattern\":{\"fillmode\":\"overlay\",\"size\":10,\"solidity\":0.2}},\"type\":\"bar\"}],\"scattergeo\":[{\"type\":\"scattergeo\",\"marker\":{\"colorbar\":{\"outlinewidth\":0,\"ticks\":\"\"}}}],\"scatterpolar\":[{\"type\":\"scatterpolar\",\"marker\":{\"colorbar\":{\"outlinewidth\":0,\"ticks\":\"\"}}}],\"histogram\":[{\"marker\":{\"pattern\":{\"fillmode\":\"overlay\",\"size\":10,\"solidity\":0.2}},\"type\":\"histogram\"}],\"scattergl\":[{\"type\":\"scattergl\",\"marker\":{\"colorbar\":{\"outlinewidth\":0,\"ticks\":\"\"}}}],\"scatter3d\":[{\"type\":\"scatter3d\",\"line\":{\"colorbar\":{\"outlinewidth\":0,\"ticks\":\"\"}},\"marker\":{\"colorbar\":{\"outlinewidth\":0,\"ticks\":\"\"}}}],\"scattermapbox\":[{\"type\":\"scattermapbox\",\"marker\":{\"colorbar\":{\"outlinewidth\":0,\"ticks\":\"\"}}}],\"scatterternary\":[{\"type\":\"scatterternary\",\"marker\":{\"colorbar\":{\"outlinewidth\":0,\"ticks\":\"\"}}}],\"scattercarpet\":[{\"type\":\"scattercarpet\",\"marker\":{\"colorbar\":{\"outlinewidth\":0,\"ticks\":\"\"}}}],\"carpet\":[{\"aaxis\":{\"endlinecolor\":\"#2a3f5f\",\"gridcolor\":\"white\",\"linecolor\":\"white\",\"minorgridcolor\":\"white\",\"startlinecolor\":\"#2a3f5f\"},\"baxis\":{\"endlinecolor\":\"#2a3f5f\",\"gridcolor\":\"white\",\"linecolor\":\"white\",\"minorgridcolor\":\"white\",\"startlinecolor\":\"#2a3f5f\"},\"type\":\"carpet\"}],\"table\":[{\"cells\":{\"fill\":{\"color\":\"#EBF0F8\"},\"line\":{\"color\":\"white\"}},\"header\":{\"fill\":{\"color\":\"#C8D4E3\"},\"line\":{\"color\":\"white\"}},\"type\":\"table\"}],\"barpolar\":[{\"marker\":{\"line\":{\"color\":\"#E5ECF6\",\"width\":0.5},\"pattern\":{\"fillmode\":\"overlay\",\"size\":10,\"solidity\":0.2}},\"type\":\"barpolar\"}],\"pie\":[{\"automargin\":true,\"type\":\"pie\"}]},\"layout\":{\"autotypenumbers\":\"strict\",\"colorway\":[\"#636efa\",\"#EF553B\",\"#00cc96\",\"#ab63fa\",\"#FFA15A\",\"#19d3f3\",\"#FF6692\",\"#B6E880\",\"#FF97FF\",\"#FECB52\"],\"font\":{\"color\":\"#2a3f5f\"},\"hovermode\":\"closest\",\"hoverlabel\":{\"align\":\"left\"},\"paper_bgcolor\":\"white\",\"plot_bgcolor\":\"#E5ECF6\",\"polar\":{\"bgcolor\":\"#E5ECF6\",\"angularaxis\":{\"gridcolor\":\"white\",\"linecolor\":\"white\",\"ticks\":\"\"},\"radialaxis\":{\"gridcolor\":\"white\",\"linecolor\":\"white\",\"ticks\":\"\"}},\"ternary\":{\"bgcolor\":\"#E5ECF6\",\"aaxis\":{\"gridcolor\":\"white\",\"linecolor\":\"white\",\"ticks\":\"\"},\"baxis\":{\"gridcolor\":\"white\",\"linecolor\":\"white\",\"ticks\":\"\"},\"caxis\":{\"gridcolor\":\"white\",\"linecolor\":\"white\",\"ticks\":\"\"}},\"coloraxis\":{\"colorbar\":{\"outlinewidth\":0,\"ticks\":\"\"}},\"colorscale\":{\"sequential\":[[0.0,\"#0d0887\"],[0.1111111111111111,\"#46039f\"],[0.2222222222222222,\"#7201a8\"],[0.3333333333333333,\"#9c179e\"],[0.4444444444444444,\"#bd3786\"],[0.5555555555555556,\"#d8576b\"],[0.6666666666666666,\"#ed7953\"],[0.7777777777777778,\"#fb9f3a\"],[0.8888888888888888,\"#fdca26\"],[1.0,\"#f0f921\"]],\"sequentialminus\":[[0.0,\"#0d0887\"],[0.1111111111111111,\"#46039f\"],[0.2222222222222222,\"#7201a8\"],[0.3333333333333333,\"#9c179e\"],[0.4444444444444444,\"#bd3786\"],[0.5555555555555556,\"#d8576b\"],[0.6666666666666666,\"#ed7953\"],[0.7777777777777778,\"#fb9f3a\"],[0.8888888888888888,\"#fdca26\"],[1.0,\"#f0f921\"]],\"diverging\":[[0,\"#8e0152\"],[0.1,\"#c51b7d\"],[0.2,\"#de77ae\"],[0.3,\"#f1b6da\"],[0.4,\"#fde0ef\"],[0.5,\"#f7f7f7\"],[0.6,\"#e6f5d0\"],[0.7,\"#b8e186\"],[0.8,\"#7fbc41\"],[0.9,\"#4d9221\"],[1,\"#276419\"]]},\"xaxis\":{\"gridcolor\":\"white\",\"linecolor\":\"white\",\"ticks\":\"\",\"title\":{\"standoff\":15},\"zerolinecolor\":\"white\",\"automargin\":true,\"zerolinewidth\":2},\"yaxis\":{\"gridcolor\":\"white\",\"linecolor\":\"white\",\"ticks\":\"\",\"title\":{\"standoff\":15},\"zerolinecolor\":\"white\",\"automargin\":true,\"zerolinewidth\":2},\"scene\":{\"xaxis\":{\"backgroundcolor\":\"#E5ECF6\",\"gridcolor\":\"white\",\"linecolor\":\"white\",\"showbackground\":true,\"ticks\":\"\",\"zerolinecolor\":\"white\",\"gridwidth\":2},\"yaxis\":{\"backgroundcolor\":\"#E5ECF6\",\"gridcolor\":\"white\",\"linecolor\":\"white\",\"showbackground\":true,\"ticks\":\"\",\"zerolinecolor\":\"white\",\"gridwidth\":2},\"zaxis\":{\"backgroundcolor\":\"#E5ECF6\",\"gridcolor\":\"white\",\"linecolor\":\"white\",\"showbackground\":true,\"ticks\":\"\",\"zerolinecolor\":\"white\",\"gridwidth\":2}},\"shapedefaults\":{\"line\":{\"color\":\"#2a3f5f\"}},\"annotationdefaults\":{\"arrowcolor\":\"#2a3f5f\",\"arrowhead\":0,\"arrowwidth\":1},\"geo\":{\"bgcolor\":\"white\",\"landcolor\":\"#E5ECF6\",\"subunitcolor\":\"white\",\"showland\":true,\"showlakes\":true,\"lakecolor\":\"white\"},\"title\":{\"x\":0.05},\"mapbox\":{\"style\":\"light\"}}},\"title\":{\"text\":\"Simple Plot\"},\"xaxis\":{\"title\":{\"text\":\"X Axis\"}},\"yaxis\":{\"title\":{\"text\":\"Y Axis\"}}},                        {\"responsive\": true}                    ).then(function(){\n",
              "                            \n",
              "var gd = document.getElementById('b119f1a5-ee18-4324-bfb4-5074ba71c5bc');\n",
              "var x = new MutationObserver(function (mutations, observer) {{\n",
              "        var display = window.getComputedStyle(gd).display;\n",
              "        if (!display || display === 'none') {{\n",
              "            console.log([gd, 'removed!']);\n",
              "            Plotly.purge(gd);\n",
              "            observer.disconnect();\n",
              "        }}\n",
              "}});\n",
              "\n",
              "// Listen for the removal of the full notebook cells\n",
              "var notebookContainer = gd.closest('#notebook-container');\n",
              "if (notebookContainer) {{\n",
              "    x.observe(notebookContainer, {childList: true});\n",
              "}}\n",
              "\n",
              "// Listen for the clearing of the current output cell\n",
              "var outputEl = gd.closest('.output');\n",
              "if (outputEl) {{\n",
              "    x.observe(outputEl, {childList: true});\n",
              "}}\n",
              "\n",
              "                        })                };                            </script>        </div>\n",
              "</body>\n",
              "</html>"
            ]
          },
          "metadata": {}
        }
      ]
    },
    {
      "cell_type": "code",
      "source": [
        "import numpy as np\n",
        "import plotly.graph_objects as go\n",
        "import ipywidgets as widgets\n",
        "from IPython.display import display, clear_output\n",
        "import plotly.io as pio\n",
        "\n",
        "pio.renderers.default = \"colab\""
      ],
      "metadata": {
        "id": "yvlyWMCxnnvf"
      },
      "execution_count": 5,
      "outputs": []
    },
    {
      "cell_type": "code",
      "source": [
        "# Create sample data\n",
        "x = np.linspace(0, 10, 100)\n",
        "y = np.sin(x)\n",
        "\n",
        "# Create widgets\n",
        "amplitude_slider = widgets.FloatSlider(value=1.0, min=0.1, max=2.0, step=0.1, description='Amplitude:')\n",
        "frequency_slider = widgets.FloatSlider(value=1.0, min=0.1, max=2.0, step=0.1, description='Frequency:')\n",
        "run_button = widgets.Button(description=\"Update Plot\")\n",
        "\n",
        "def update_plot(b):\n",
        "    amplitude = amplitude_slider.value\n",
        "    frequency = frequency_slider.value\n",
        "    y = amplitude * np.sin(frequency * x)\n",
        "\n",
        "    fig = go.Figure(data=go.Scatter(x=x, y=y, mode='lines', name='Sine Wave'))\n",
        "    fig.update_layout(title='Interactive Sine Wave',\n",
        "                      xaxis_title='X',\n",
        "                      yaxis_title='Y')\n",
        "    fig.show()\n",
        "\n",
        "run_button.on_click(update_plot)\n",
        "\n",
        "display(amplitude_slider, frequency_slider, run_button)"
      ],
      "metadata": {
        "colab": {
          "base_uri": "https://localhost:8080/",
          "height": 636,
          "referenced_widgets": [
            "f4c8570436264aceabe889ff31dddb17",
            "315e178e15ac4a2ea00c7a96c49defd7",
            "c375b1c70fbe4bd29ddbe1fa877ef304",
            "0d594c7180b2493583c34951f37aafff",
            "6448353b51114030a8d86d98f18c2049",
            "04b74bc678ff45c5a9150dedeae27bd0",
            "c71fe8902a64492eaaf2aa628fa665fe",
            "e23397c8d0a841e185e3b911d6fbae87",
            "fcef64cb37144b3dbd10277e8a23e235"
          ]
        },
        "id": "CtUDJn7HnhPt",
        "outputId": "11b20c5c-87d7-4064-a617-f94b1424a9de"
      },
      "execution_count": 6,
      "outputs": [
        {
          "output_type": "display_data",
          "data": {
            "text/plain": [
              "FloatSlider(value=1.0, description='Amplitude:', max=2.0, min=0.1)"
            ],
            "application/vnd.jupyter.widget-view+json": {
              "version_major": 2,
              "version_minor": 0,
              "model_id": "f4c8570436264aceabe889ff31dddb17"
            }
          },
          "metadata": {}
        },
        {
          "output_type": "display_data",
          "data": {
            "text/plain": [
              "FloatSlider(value=1.0, description='Frequency:', max=2.0, min=0.1)"
            ],
            "application/vnd.jupyter.widget-view+json": {
              "version_major": 2,
              "version_minor": 0,
              "model_id": "0d594c7180b2493583c34951f37aafff"
            }
          },
          "metadata": {}
        },
        {
          "output_type": "display_data",
          "data": {
            "text/plain": [
              "Button(description='Update Plot', style=ButtonStyle())"
            ],
            "application/vnd.jupyter.widget-view+json": {
              "version_major": 2,
              "version_minor": 0,
              "model_id": "c71fe8902a64492eaaf2aa628fa665fe"
            }
          },
          "metadata": {}
        },
        {
          "output_type": "display_data",
          "data": {
            "text/html": [
              "<html>\n",
              "<head><meta charset=\"utf-8\" /></head>\n",
              "<body>\n",
              "    <div>            <script src=\"https://cdnjs.cloudflare.com/ajax/libs/mathjax/2.7.5/MathJax.js?config=TeX-AMS-MML_SVG\"></script><script type=\"text/javascript\">if (window.MathJax && window.MathJax.Hub && window.MathJax.Hub.Config) {window.MathJax.Hub.Config({SVG: {font: \"STIX-Web\"}});}</script>                <script type=\"text/javascript\">window.PlotlyConfig = {MathJaxConfig: 'local'};</script>\n",
              "        <script charset=\"utf-8\" src=\"https://cdn.plot.ly/plotly-2.24.1.min.js\"></script>                <div id=\"9145c276-680d-405f-81e2-852ae6ad1779\" class=\"plotly-graph-div\" style=\"height:525px; width:100%;\"></div>            <script type=\"text/javascript\">                                    window.PLOTLYENV=window.PLOTLYENV || {};                                    if (document.getElementById(\"9145c276-680d-405f-81e2-852ae6ad1779\")) {                    Plotly.newPlot(                        \"9145c276-680d-405f-81e2-852ae6ad1779\",                        [{\"mode\":\"lines\",\"name\":\"Sine Wave\",\"x\":[0.0,0.10101010101010101,0.20202020202020202,0.30303030303030304,0.40404040404040403,0.5050505050505051,0.6060606060606061,0.7070707070707071,0.8080808080808081,0.9090909090909091,1.0101010101010102,1.1111111111111112,1.2121212121212122,1.3131313131313131,1.4141414141414141,1.5151515151515151,1.6161616161616161,1.7171717171717171,1.8181818181818181,1.9191919191919191,2.0202020202020203,2.121212121212121,2.2222222222222223,2.323232323232323,2.4242424242424243,2.525252525252525,2.6262626262626263,2.727272727272727,2.8282828282828283,2.929292929292929,3.0303030303030303,3.131313131313131,3.2323232323232323,3.3333333333333335,3.4343434343434343,3.5353535353535355,3.6363636363636362,3.7373737373737375,3.8383838383838382,3.9393939393939394,4.040404040404041,4.141414141414141,4.242424242424242,4.343434343434343,4.444444444444445,4.545454545454545,4.646464646464646,4.747474747474747,4.848484848484849,4.94949494949495,5.05050505050505,5.151515151515151,5.252525252525253,5.353535353535354,5.454545454545454,5.555555555555555,5.656565656565657,5.757575757575758,5.858585858585858,5.959595959595959,6.0606060606060606,6.161616161616162,6.262626262626262,6.363636363636363,6.4646464646464645,6.565656565656566,6.666666666666667,6.767676767676767,6.8686868686868685,6.96969696969697,7.070707070707071,7.171717171717171,7.2727272727272725,7.373737373737374,7.474747474747475,7.575757575757575,7.6767676767676765,7.777777777777778,7.878787878787879,7.979797979797979,8.080808080808081,8.181818181818182,8.282828282828282,8.383838383838384,8.484848484848484,8.585858585858587,8.686868686868687,8.787878787878787,8.88888888888889,8.98989898989899,9.09090909090909,9.191919191919192,9.292929292929292,9.393939393939394,9.494949494949495,9.595959595959595,9.696969696969697,9.797979797979798,9.8989898989899,10.0],\"y\":[0.0,0.1008384202581046,0.2006488565226854,0.2984138044476411,0.3931366121483298,0.48385164043793466,0.5696341069089657,0.6496095135057065,0.7229625614794605,0.7889454628442574,0.8468855636029834,0.8961922010299563,0.9363627251042848,0.9669876227092996,0.9877546923600838,0.9984522269003895,0.9989711717233568,0.9893062365143401,0.9695559491823237,0.9399216514301312,0.9007054462029555,0.8523071179396752,0.7952200570230491,0.7300262299764464,0.6573902466827755,0.5780525851065732,0.4928220425889235,0.40256749066949654,0.30820901749007684,0.2107085480771929,0.11106003812412972,0.010279341240534697,-0.09060614703340773,-0.19056796287548539,-0.28858705872043244,-0.38366419180611233,-0.47483011082223947,-0.5611554368152017,-0.6417601376193878,-0.7158224992291902,-0.7825875026542022,-0.8413745208608701,-0.8915842573351402,-0.9327048555318336,-0.9643171169287782,-0.9860987744909296,-0.9978277779792126,-0.9993845576124357,-0.9907532430056771,-0.9720218249588334,-0.9433812584459996,-0.9051235159501367,-0.8576386109880517,-0.8014106221689697,-0.7370127583189133,-0.6651015149788224,-0.586409981847235,-0.5017403693939113,-0.4119558308308628,-0.31797166281061867,-0.22074597455506334,-0.12126992053716677,-0.020557596287260064,0.08036429967028173,0.18046693235991093,0.27872981867755725,0.37415123057121996,0.4657584070256517,0.5526174707464059,0.6338429484489058,0.7086067976992182,0.7761468482835805,0.8357745720522589,0.8868821020290788,0.9289484292312513,0.9615447140268235,0.9843386578838236,0.9970978909438748,0.9996923408861117,0.9920955589323228,0.9743849894755358,0.9467411805833543,0.9094459434244625,0.8628794793817836,0.8075165041395626,0.7439214082568444,0.6727425035622647,0.5947054140244975,0.510605678474283,0.4213006405886069,0.32770070881349983,0.23076007532505177,0.13146698864295842,0.03083367906114098,-0.07011396040064677,-0.1703468323280965,-0.26884312591038406,-0.3645987336558887,-0.45663748763377376,-0.5440211108893698],\"type\":\"scatter\"}],                        {\"template\":{\"data\":{\"histogram2dcontour\":[{\"type\":\"histogram2dcontour\",\"colorbar\":{\"outlinewidth\":0,\"ticks\":\"\"},\"colorscale\":[[0.0,\"#0d0887\"],[0.1111111111111111,\"#46039f\"],[0.2222222222222222,\"#7201a8\"],[0.3333333333333333,\"#9c179e\"],[0.4444444444444444,\"#bd3786\"],[0.5555555555555556,\"#d8576b\"],[0.6666666666666666,\"#ed7953\"],[0.7777777777777778,\"#fb9f3a\"],[0.8888888888888888,\"#fdca26\"],[1.0,\"#f0f921\"]]}],\"choropleth\":[{\"type\":\"choropleth\",\"colorbar\":{\"outlinewidth\":0,\"ticks\":\"\"}}],\"histogram2d\":[{\"type\":\"histogram2d\",\"colorbar\":{\"outlinewidth\":0,\"ticks\":\"\"},\"colorscale\":[[0.0,\"#0d0887\"],[0.1111111111111111,\"#46039f\"],[0.2222222222222222,\"#7201a8\"],[0.3333333333333333,\"#9c179e\"],[0.4444444444444444,\"#bd3786\"],[0.5555555555555556,\"#d8576b\"],[0.6666666666666666,\"#ed7953\"],[0.7777777777777778,\"#fb9f3a\"],[0.8888888888888888,\"#fdca26\"],[1.0,\"#f0f921\"]]}],\"heatmap\":[{\"type\":\"heatmap\",\"colorbar\":{\"outlinewidth\":0,\"ticks\":\"\"},\"colorscale\":[[0.0,\"#0d0887\"],[0.1111111111111111,\"#46039f\"],[0.2222222222222222,\"#7201a8\"],[0.3333333333333333,\"#9c179e\"],[0.4444444444444444,\"#bd3786\"],[0.5555555555555556,\"#d8576b\"],[0.6666666666666666,\"#ed7953\"],[0.7777777777777778,\"#fb9f3a\"],[0.8888888888888888,\"#fdca26\"],[1.0,\"#f0f921\"]]}],\"heatmapgl\":[{\"type\":\"heatmapgl\",\"colorbar\":{\"outlinewidth\":0,\"ticks\":\"\"},\"colorscale\":[[0.0,\"#0d0887\"],[0.1111111111111111,\"#46039f\"],[0.2222222222222222,\"#7201a8\"],[0.3333333333333333,\"#9c179e\"],[0.4444444444444444,\"#bd3786\"],[0.5555555555555556,\"#d8576b\"],[0.6666666666666666,\"#ed7953\"],[0.7777777777777778,\"#fb9f3a\"],[0.8888888888888888,\"#fdca26\"],[1.0,\"#f0f921\"]]}],\"contourcarpet\":[{\"type\":\"contourcarpet\",\"colorbar\":{\"outlinewidth\":0,\"ticks\":\"\"}}],\"contour\":[{\"type\":\"contour\",\"colorbar\":{\"outlinewidth\":0,\"ticks\":\"\"},\"colorscale\":[[0.0,\"#0d0887\"],[0.1111111111111111,\"#46039f\"],[0.2222222222222222,\"#7201a8\"],[0.3333333333333333,\"#9c179e\"],[0.4444444444444444,\"#bd3786\"],[0.5555555555555556,\"#d8576b\"],[0.6666666666666666,\"#ed7953\"],[0.7777777777777778,\"#fb9f3a\"],[0.8888888888888888,\"#fdca26\"],[1.0,\"#f0f921\"]]}],\"surface\":[{\"type\":\"surface\",\"colorbar\":{\"outlinewidth\":0,\"ticks\":\"\"},\"colorscale\":[[0.0,\"#0d0887\"],[0.1111111111111111,\"#46039f\"],[0.2222222222222222,\"#7201a8\"],[0.3333333333333333,\"#9c179e\"],[0.4444444444444444,\"#bd3786\"],[0.5555555555555556,\"#d8576b\"],[0.6666666666666666,\"#ed7953\"],[0.7777777777777778,\"#fb9f3a\"],[0.8888888888888888,\"#fdca26\"],[1.0,\"#f0f921\"]]}],\"mesh3d\":[{\"type\":\"mesh3d\",\"colorbar\":{\"outlinewidth\":0,\"ticks\":\"\"}}],\"scatter\":[{\"fillpattern\":{\"fillmode\":\"overlay\",\"size\":10,\"solidity\":0.2},\"type\":\"scatter\"}],\"parcoords\":[{\"type\":\"parcoords\",\"line\":{\"colorbar\":{\"outlinewidth\":0,\"ticks\":\"\"}}}],\"scatterpolargl\":[{\"type\":\"scatterpolargl\",\"marker\":{\"colorbar\":{\"outlinewidth\":0,\"ticks\":\"\"}}}],\"bar\":[{\"error_x\":{\"color\":\"#2a3f5f\"},\"error_y\":{\"color\":\"#2a3f5f\"},\"marker\":{\"line\":{\"color\":\"#E5ECF6\",\"width\":0.5},\"pattern\":{\"fillmode\":\"overlay\",\"size\":10,\"solidity\":0.2}},\"type\":\"bar\"}],\"scattergeo\":[{\"type\":\"scattergeo\",\"marker\":{\"colorbar\":{\"outlinewidth\":0,\"ticks\":\"\"}}}],\"scatterpolar\":[{\"type\":\"scatterpolar\",\"marker\":{\"colorbar\":{\"outlinewidth\":0,\"ticks\":\"\"}}}],\"histogram\":[{\"marker\":{\"pattern\":{\"fillmode\":\"overlay\",\"size\":10,\"solidity\":0.2}},\"type\":\"histogram\"}],\"scattergl\":[{\"type\":\"scattergl\",\"marker\":{\"colorbar\":{\"outlinewidth\":0,\"ticks\":\"\"}}}],\"scatter3d\":[{\"type\":\"scatter3d\",\"line\":{\"colorbar\":{\"outlinewidth\":0,\"ticks\":\"\"}},\"marker\":{\"colorbar\":{\"outlinewidth\":0,\"ticks\":\"\"}}}],\"scattermapbox\":[{\"type\":\"scattermapbox\",\"marker\":{\"colorbar\":{\"outlinewidth\":0,\"ticks\":\"\"}}}],\"scatterternary\":[{\"type\":\"scatterternary\",\"marker\":{\"colorbar\":{\"outlinewidth\":0,\"ticks\":\"\"}}}],\"scattercarpet\":[{\"type\":\"scattercarpet\",\"marker\":{\"colorbar\":{\"outlinewidth\":0,\"ticks\":\"\"}}}],\"carpet\":[{\"aaxis\":{\"endlinecolor\":\"#2a3f5f\",\"gridcolor\":\"white\",\"linecolor\":\"white\",\"minorgridcolor\":\"white\",\"startlinecolor\":\"#2a3f5f\"},\"baxis\":{\"endlinecolor\":\"#2a3f5f\",\"gridcolor\":\"white\",\"linecolor\":\"white\",\"minorgridcolor\":\"white\",\"startlinecolor\":\"#2a3f5f\"},\"type\":\"carpet\"}],\"table\":[{\"cells\":{\"fill\":{\"color\":\"#EBF0F8\"},\"line\":{\"color\":\"white\"}},\"header\":{\"fill\":{\"color\":\"#C8D4E3\"},\"line\":{\"color\":\"white\"}},\"type\":\"table\"}],\"barpolar\":[{\"marker\":{\"line\":{\"color\":\"#E5ECF6\",\"width\":0.5},\"pattern\":{\"fillmode\":\"overlay\",\"size\":10,\"solidity\":0.2}},\"type\":\"barpolar\"}],\"pie\":[{\"automargin\":true,\"type\":\"pie\"}]},\"layout\":{\"autotypenumbers\":\"strict\",\"colorway\":[\"#636efa\",\"#EF553B\",\"#00cc96\",\"#ab63fa\",\"#FFA15A\",\"#19d3f3\",\"#FF6692\",\"#B6E880\",\"#FF97FF\",\"#FECB52\"],\"font\":{\"color\":\"#2a3f5f\"},\"hovermode\":\"closest\",\"hoverlabel\":{\"align\":\"left\"},\"paper_bgcolor\":\"white\",\"plot_bgcolor\":\"#E5ECF6\",\"polar\":{\"bgcolor\":\"#E5ECF6\",\"angularaxis\":{\"gridcolor\":\"white\",\"linecolor\":\"white\",\"ticks\":\"\"},\"radialaxis\":{\"gridcolor\":\"white\",\"linecolor\":\"white\",\"ticks\":\"\"}},\"ternary\":{\"bgcolor\":\"#E5ECF6\",\"aaxis\":{\"gridcolor\":\"white\",\"linecolor\":\"white\",\"ticks\":\"\"},\"baxis\":{\"gridcolor\":\"white\",\"linecolor\":\"white\",\"ticks\":\"\"},\"caxis\":{\"gridcolor\":\"white\",\"linecolor\":\"white\",\"ticks\":\"\"}},\"coloraxis\":{\"colorbar\":{\"outlinewidth\":0,\"ticks\":\"\"}},\"colorscale\":{\"sequential\":[[0.0,\"#0d0887\"],[0.1111111111111111,\"#46039f\"],[0.2222222222222222,\"#7201a8\"],[0.3333333333333333,\"#9c179e\"],[0.4444444444444444,\"#bd3786\"],[0.5555555555555556,\"#d8576b\"],[0.6666666666666666,\"#ed7953\"],[0.7777777777777778,\"#fb9f3a\"],[0.8888888888888888,\"#fdca26\"],[1.0,\"#f0f921\"]],\"sequentialminus\":[[0.0,\"#0d0887\"],[0.1111111111111111,\"#46039f\"],[0.2222222222222222,\"#7201a8\"],[0.3333333333333333,\"#9c179e\"],[0.4444444444444444,\"#bd3786\"],[0.5555555555555556,\"#d8576b\"],[0.6666666666666666,\"#ed7953\"],[0.7777777777777778,\"#fb9f3a\"],[0.8888888888888888,\"#fdca26\"],[1.0,\"#f0f921\"]],\"diverging\":[[0,\"#8e0152\"],[0.1,\"#c51b7d\"],[0.2,\"#de77ae\"],[0.3,\"#f1b6da\"],[0.4,\"#fde0ef\"],[0.5,\"#f7f7f7\"],[0.6,\"#e6f5d0\"],[0.7,\"#b8e186\"],[0.8,\"#7fbc41\"],[0.9,\"#4d9221\"],[1,\"#276419\"]]},\"xaxis\":{\"gridcolor\":\"white\",\"linecolor\":\"white\",\"ticks\":\"\",\"title\":{\"standoff\":15},\"zerolinecolor\":\"white\",\"automargin\":true,\"zerolinewidth\":2},\"yaxis\":{\"gridcolor\":\"white\",\"linecolor\":\"white\",\"ticks\":\"\",\"title\":{\"standoff\":15},\"zerolinecolor\":\"white\",\"automargin\":true,\"zerolinewidth\":2},\"scene\":{\"xaxis\":{\"backgroundcolor\":\"#E5ECF6\",\"gridcolor\":\"white\",\"linecolor\":\"white\",\"showbackground\":true,\"ticks\":\"\",\"zerolinecolor\":\"white\",\"gridwidth\":2},\"yaxis\":{\"backgroundcolor\":\"#E5ECF6\",\"gridcolor\":\"white\",\"linecolor\":\"white\",\"showbackground\":true,\"ticks\":\"\",\"zerolinecolor\":\"white\",\"gridwidth\":2},\"zaxis\":{\"backgroundcolor\":\"#E5ECF6\",\"gridcolor\":\"white\",\"linecolor\":\"white\",\"showbackground\":true,\"ticks\":\"\",\"zerolinecolor\":\"white\",\"gridwidth\":2}},\"shapedefaults\":{\"line\":{\"color\":\"#2a3f5f\"}},\"annotationdefaults\":{\"arrowcolor\":\"#2a3f5f\",\"arrowhead\":0,\"arrowwidth\":1},\"geo\":{\"bgcolor\":\"white\",\"landcolor\":\"#E5ECF6\",\"subunitcolor\":\"white\",\"showland\":true,\"showlakes\":true,\"lakecolor\":\"white\"},\"title\":{\"x\":0.05},\"mapbox\":{\"style\":\"light\"}}},\"title\":{\"text\":\"Interactive Sine Wave\"},\"xaxis\":{\"title\":{\"text\":\"X\"}},\"yaxis\":{\"title\":{\"text\":\"Y\"}}},                        {\"responsive\": true}                    ).then(function(){\n",
              "                            \n",
              "var gd = document.getElementById('9145c276-680d-405f-81e2-852ae6ad1779');\n",
              "var x = new MutationObserver(function (mutations, observer) {{\n",
              "        var display = window.getComputedStyle(gd).display;\n",
              "        if (!display || display === 'none') {{\n",
              "            console.log([gd, 'removed!']);\n",
              "            Plotly.purge(gd);\n",
              "            observer.disconnect();\n",
              "        }}\n",
              "}});\n",
              "\n",
              "// Listen for the removal of the full notebook cells\n",
              "var notebookContainer = gd.closest('#notebook-container');\n",
              "if (notebookContainer) {{\n",
              "    x.observe(notebookContainer, {childList: true});\n",
              "}}\n",
              "\n",
              "// Listen for the clearing of the current output cell\n",
              "var outputEl = gd.closest('.output');\n",
              "if (outputEl) {{\n",
              "    x.observe(outputEl, {childList: true});\n",
              "}}\n",
              "\n",
              "                        })                };                            </script>        </div>\n",
              "</body>\n",
              "</html>"
            ]
          },
          "metadata": {}
        }
      ]
    },
    {
      "cell_type": "code",
      "source": [
        "import numpy as np\n",
        "import cellpylib as cpl\n",
        "\n",
        "# Model parameters\n",
        "N = 8000  # Number of traders\n",
        "timesteps = 50\n",
        "sigma_epsilon = 0.33  # Standard deviation of price perception error\n",
        "\n",
        "# Initialize parameters for each trader\n",
        "A = np.ones(N)  # Normalized asset price influence\n",
        "B = np.random.normal(0, 1, N)  # Perceived change in normalized price influence\n",
        "C = np.random.normal(5, 2, N)  # Social influence\n",
        "D = np.random.normal(0, 1, N)  # Innate tendency towards buying or selling\n",
        "\n",
        "# Initialize trust network matrix (random sparse trust)\n",
        "alpha = np.random.choice([0, 1], size=(N, N), p=[0.996, 0.004])\n",
        "\n",
        "# Initial state (0 = hold, -1 = buy, 1 = sell)\n",
        "states = np.zeros(N)\n",
        "\n",
        "def leaning_function(p, p_prev, epsilon, alpha, states, A, B, C, D):\n",
        "    return A * (p + epsilon) + B * ((p + epsilon) - (p_prev + epsilon)) + C * np.dot(alpha, states) + D\n",
        "\n",
        "def state_function(L, b=-1, s=1):\n",
        "    if L < b:\n",
        "        return -1  # buy\n",
        "    elif L > s:\n",
        "        return 1  # sell\n",
        "    else:\n",
        "        return 0  # hold"
      ],
      "metadata": {
        "id": "g_y0s6tpWvhy"
      },
      "execution_count": 7,
      "outputs": []
    },
    {
      "cell_type": "code",
      "source": [
        "class StockMarketCA:\n",
        "    def __init__(self, n, states, alpha, A, B, C, D):\n",
        "        self.n = n\n",
        "        self.states = states\n",
        "        self.alpha = alpha\n",
        "        self.A = A\n",
        "        self.B = B\n",
        "        self.C = C\n",
        "        self.D = D\n",
        "        self.p = 0  # Initial normalized price\n",
        "        self.epsilon = np.random.normal(0, sigma_epsilon, n)\n",
        "\n",
        "    def step(self):\n",
        "        p_prev = self.p\n",
        "        self.epsilon = np.random.normal(0, sigma_epsilon, self.n)\n",
        "        leanings = leaning_function(self.p, p_prev, self.epsilon, self.alpha, self.states, self.A, self.B, self.C, self.D)\n",
        "        self.states = np.array([state_function(L) for L in leanings])\n",
        "        # Update the price to ensure buyers equal sellers\n",
        "        self.p = self.update_price()\n",
        "\n",
        "    def update_price(self):\n",
        "        sorted_leanings = np.sort(leaning_function(self.p, self.p, self.epsilon, self.alpha, self.states, self.A, self.B, self.C, self.D))\n",
        "        mid_point = len(sorted_leanings) // 2\n",
        "        return sorted_leanings[mid_point]\n",
        "\n",
        "# Initialize and run the cellular automaton\n",
        "ca_model = StockMarketCA(N, states, alpha, A, B, C, D)\n",
        "\n",
        "for t in range(timesteps):\n",
        "    ca_model.step()\n",
        "    print(f\"Time step {t+1}, normalized price: {ca_model.p}\")"
      ],
      "metadata": {
        "colab": {
          "base_uri": "https://localhost:8080/"
        },
        "id": "1NvMee9SW2nS",
        "outputId": "601536b0-6542-4d1f-bced-e6b1dda8f4bf"
      },
      "execution_count": 8,
      "outputs": [
        {
          "output_type": "stream",
          "name": "stdout",
          "text": [
            "Time step 1, normalized price: -0.47736696085370744\n",
            "Time step 2, normalized price: -10.530057725453792\n",
            "Time step 3, normalized price: -107.67744303919608\n",
            "Time step 4, normalized price: -265.011626443028\n",
            "Time step 5, normalized price: -422.3058146244998\n",
            "Time step 6, normalized price: -579.6232158347151\n",
            "Time step 7, normalized price: -736.927073751949\n",
            "Time step 8, normalized price: -894.2149824552977\n",
            "Time step 9, normalized price: -1051.5474154374024\n",
            "Time step 10, normalized price: -1208.9289787335322\n",
            "Time step 11, normalized price: -1366.2181573720247\n",
            "Time step 12, normalized price: -1523.6174447790768\n",
            "Time step 13, normalized price: -1681.0651577571266\n",
            "Time step 14, normalized price: -1838.523937924578\n",
            "Time step 15, normalized price: -1995.95202279538\n",
            "Time step 16, normalized price: -2153.1626535154037\n",
            "Time step 17, normalized price: -2310.449139568545\n",
            "Time step 18, normalized price: -2467.716198248245\n",
            "Time step 19, normalized price: -2624.981837555468\n",
            "Time step 20, normalized price: -2782.3925352812475\n",
            "Time step 21, normalized price: -2939.7665851688403\n",
            "Time step 22, normalized price: -3097.0487416587557\n",
            "Time step 23, normalized price: -3254.3579189803677\n",
            "Time step 24, normalized price: -3411.787009206826\n",
            "Time step 25, normalized price: -3569.079683110783\n",
            "Time step 26, normalized price: -3726.387709771189\n",
            "Time step 27, normalized price: -3883.66840227314\n",
            "Time step 28, normalized price: -4040.9179452423073\n",
            "Time step 29, normalized price: -4198.302411892117\n",
            "Time step 30, normalized price: -4355.607688007239\n",
            "Time step 31, normalized price: -4512.955182032582\n",
            "Time step 32, normalized price: -4670.174465544291\n",
            "Time step 33, normalized price: -4827.389327425292\n",
            "Time step 34, normalized price: -4984.742906452401\n",
            "Time step 35, normalized price: -5142.200115057068\n",
            "Time step 36, normalized price: -5299.515087710398\n",
            "Time step 37, normalized price: -5457.003980284713\n",
            "Time step 38, normalized price: -5614.343381309566\n",
            "Time step 39, normalized price: -5771.7524675220175\n",
            "Time step 40, normalized price: -5929.083776602143\n",
            "Time step 41, normalized price: -6086.34567206655\n",
            "Time step 42, normalized price: -6243.668908053296\n",
            "Time step 43, normalized price: -6400.9997986877415\n",
            "Time step 44, normalized price: -6558.321283535416\n",
            "Time step 45, normalized price: -6715.597864990551\n",
            "Time step 46, normalized price: -6872.982056143686\n",
            "Time step 47, normalized price: -7030.293433359651\n",
            "Time step 48, normalized price: -7187.687946100162\n",
            "Time step 49, normalized price: -7344.976725937574\n",
            "Time step 50, normalized price: -7502.406770678126\n"
          ]
        }
      ]
    },
    {
      "cell_type": "code",
      "source": [
        "# Zero trust network\n",
        "alpha_zero_trust = np.zeros((N, N))\n",
        "ca_model_zero_trust = StockMarketCA(N, states, alpha_zero_trust, A, B, C, D)\n",
        "\n",
        "# Random sparse trust network\n",
        "ca_model_random_trust = StockMarketCA(N, states, alpha, A, B, C, D)\n",
        "\n",
        "# Epinions trust network (assuming epinions_alpha is precomputed)\n",
        "# epinions_alpha = ... (load or generate the Epinions trust network)\n",
        "# ca_model_epinions_trust = StockMarketCA(N, states, epinions_alpha, A, B, C, D)\n",
        "\n",
        "# Run and analyze simulations\n",
        "for t in range(timesteps):\n",
        "    ca_model_zero_trust.step()\n",
        "    ca_model_random_trust.step()\n",
        "    # ca_model_epinions_trust.step()\n",
        "    print(f\"Time step {t+1}\")\n",
        "    print(f\"Zero trust normalized price: {ca_model_zero_trust.p}\")\n",
        "    print(f\"Random trust normalized price: {ca_model_random_trust.p}\")\n",
        "    # print(f\"Epinions trust normalized price: {ca_model_epinions_trust.p}\")"
      ],
      "metadata": {
        "colab": {
          "base_uri": "https://localhost:8080/"
        },
        "id": "woWCK0Q5YnOQ",
        "outputId": "f88ac4c0-a2bd-4371-a4b1-82d86fdd7f2c"
      },
      "execution_count": 9,
      "outputs": [
        {
          "output_type": "stream",
          "name": "stdout",
          "text": [
            "Time step 1\n",
            "Zero trust normalized price: -0.04200840924597424\n",
            "Random trust normalized price: -0.4865655053070622\n",
            "Time step 2\n",
            "Zero trust normalized price: -0.08450041988463974\n",
            "Random trust normalized price: -10.78700560251561\n",
            "Time step 3\n",
            "Zero trust normalized price: -0.12073653618752744\n",
            "Random trust normalized price: -107.73576499739076\n",
            "Time step 4\n",
            "Zero trust normalized price: -0.14436378674944972\n",
            "Random trust normalized price: -265.1587101067157\n",
            "Time step 5\n",
            "Zero trust normalized price: -0.1824515114934833\n",
            "Random trust normalized price: -422.5238897061002\n",
            "Time step 6\n",
            "Zero trust normalized price: -0.21763274274703887\n",
            "Random trust normalized price: -579.8663756416781\n",
            "Time step 7\n",
            "Zero trust normalized price: -0.2528070049735178\n",
            "Random trust normalized price: -737.1642774958067\n",
            "Time step 8\n",
            "Zero trust normalized price: -0.28249124241486917\n",
            "Random trust normalized price: -894.3921905598545\n",
            "Time step 9\n",
            "Zero trust normalized price: -0.3189446810052531\n",
            "Random trust normalized price: -1051.63509272552\n",
            "Time step 10\n",
            "Zero trust normalized price: -0.3524838972141223\n",
            "Random trust normalized price: -1208.896805368714\n",
            "Time step 11\n",
            "Zero trust normalized price: -0.3866609787957723\n",
            "Random trust normalized price: -1366.2820962619742\n",
            "Time step 12\n",
            "Zero trust normalized price: -0.410769034285795\n",
            "Random trust normalized price: -1523.645982574973\n",
            "Time step 13\n",
            "Zero trust normalized price: -0.45871994932658333\n",
            "Random trust normalized price: -1680.9201287546207\n",
            "Time step 14\n",
            "Zero trust normalized price: -0.49785568045905126\n",
            "Random trust normalized price: -1838.244514593274\n",
            "Time step 15\n",
            "Zero trust normalized price: -0.53769259531838\n",
            "Random trust normalized price: -1995.5319346560063\n",
            "Time step 16\n",
            "Zero trust normalized price: -0.5765784940240403\n",
            "Random trust normalized price: -2152.8821943196663\n",
            "Time step 17\n",
            "Zero trust normalized price: -0.596761353252418\n",
            "Random trust normalized price: -2310.1704242717383\n",
            "Time step 18\n",
            "Zero trust normalized price: -0.6376499814571839\n",
            "Random trust normalized price: -2467.5181533961304\n",
            "Time step 19\n",
            "Zero trust normalized price: -0.6762580729269975\n",
            "Random trust normalized price: -2624.91614240889\n",
            "Time step 20\n",
            "Zero trust normalized price: -0.7165491301790615\n",
            "Random trust normalized price: -2782.172534600074\n",
            "Time step 21\n",
            "Zero trust normalized price: -0.7551781549474539\n",
            "Random trust normalized price: -2939.5173397723893\n",
            "Time step 22\n",
            "Zero trust normalized price: -0.7898481865389364\n",
            "Random trust normalized price: -3096.8643007138835\n",
            "Time step 23\n",
            "Zero trust normalized price: -0.8276501305729654\n",
            "Random trust normalized price: -3254.11064252046\n",
            "Time step 24\n",
            "Zero trust normalized price: -0.8614052131510986\n",
            "Random trust normalized price: -3411.4414991326703\n",
            "Time step 25\n",
            "Zero trust normalized price: -0.8954791378049567\n",
            "Random trust normalized price: -3568.7310568752882\n",
            "Time step 26\n",
            "Zero trust normalized price: -0.9269353525873135\n",
            "Random trust normalized price: -3726.050298759464\n",
            "Time step 27\n",
            "Zero trust normalized price: -0.9515447014029006\n",
            "Random trust normalized price: -3883.3330793201935\n",
            "Time step 28\n",
            "Zero trust normalized price: -0.9828606538935996\n",
            "Random trust normalized price: -4040.618914914865\n",
            "Time step 29\n",
            "Zero trust normalized price: -1.0125771083877666\n",
            "Random trust normalized price: -4197.853197021982\n",
            "Time step 30\n",
            "Zero trust normalized price: -1.0386636959323385\n",
            "Random trust normalized price: -4355.288284741641\n",
            "Time step 31\n",
            "Zero trust normalized price: -1.0791849816136987\n",
            "Random trust normalized price: -4512.617231482984\n",
            "Time step 32\n",
            "Zero trust normalized price: -1.1142714497775779\n",
            "Random trust normalized price: -4669.922606332027\n",
            "Time step 33\n",
            "Zero trust normalized price: -1.1478441532070018\n",
            "Random trust normalized price: -4827.310760693127\n",
            "Time step 34\n",
            "Zero trust normalized price: -1.1841068920229647\n",
            "Random trust normalized price: -4984.486693378374\n",
            "Time step 35\n",
            "Zero trust normalized price: -1.2217214981079199\n",
            "Random trust normalized price: -5141.940535773234\n",
            "Time step 36\n",
            "Zero trust normalized price: -1.2470216985063884\n",
            "Random trust normalized price: -5299.212727468594\n",
            "Time step 37\n",
            "Zero trust normalized price: -1.2979657595830352\n",
            "Random trust normalized price: -5456.400803999267\n",
            "Time step 38\n",
            "Zero trust normalized price: -1.3415315849789802\n",
            "Random trust normalized price: -5613.734301798146\n",
            "Time step 39\n",
            "Zero trust normalized price: -1.388260120846361\n",
            "Random trust normalized price: -5771.006955158025\n",
            "Time step 40\n",
            "Zero trust normalized price: -1.4254388246640923\n",
            "Random trust normalized price: -5928.2606143997955\n",
            "Time step 41\n",
            "Zero trust normalized price: -1.4731426774553442\n",
            "Random trust normalized price: -6085.624751396566\n",
            "Time step 42\n",
            "Zero trust normalized price: -1.516080170997037\n",
            "Random trust normalized price: -6242.935170891784\n",
            "Time step 43\n",
            "Zero trust normalized price: -1.552229254695665\n",
            "Random trust normalized price: -6400.32442957076\n",
            "Time step 44\n",
            "Zero trust normalized price: -1.5855942884002334\n",
            "Random trust normalized price: -6557.69802843799\n",
            "Time step 45\n",
            "Zero trust normalized price: -1.6171469950610222\n",
            "Random trust normalized price: -6715.055334723555\n",
            "Time step 46\n",
            "Zero trust normalized price: -1.642647038941512\n",
            "Random trust normalized price: -6872.499744663645\n",
            "Time step 47\n",
            "Zero trust normalized price: -1.6779490495290577\n",
            "Random trust normalized price: -7029.830741197066\n",
            "Time step 48\n",
            "Zero trust normalized price: -1.732498978530202\n",
            "Random trust normalized price: -7187.100742813515\n",
            "Time step 49\n",
            "Zero trust normalized price: -1.7626020779627114\n",
            "Random trust normalized price: -7344.340264740103\n",
            "Time step 50\n",
            "Zero trust normalized price: -1.804140828286471\n",
            "Random trust normalized price: -7501.684053717747\n"
          ]
        }
      ]
    },
    {
      "cell_type": "code",
      "source": [
        "!pip install plotly ipywidgets"
      ],
      "metadata": {
        "colab": {
          "base_uri": "https://localhost:8080/"
        },
        "id": "9d_oFClGZX3F",
        "outputId": "ec08df28-497e-4298-e7ee-edb63437b602"
      },
      "execution_count": 14,
      "outputs": [
        {
          "output_type": "stream",
          "name": "stdout",
          "text": [
            "Requirement already satisfied: plotly in /usr/local/lib/python3.10/dist-packages (5.15.0)\n",
            "Requirement already satisfied: ipywidgets in /usr/local/lib/python3.10/dist-packages (7.7.1)\n",
            "Requirement already satisfied: tenacity>=6.2.0 in /usr/local/lib/python3.10/dist-packages (from plotly) (8.4.2)\n",
            "Requirement already satisfied: packaging in /usr/local/lib/python3.10/dist-packages (from plotly) (24.1)\n",
            "Requirement already satisfied: ipykernel>=4.5.1 in /usr/local/lib/python3.10/dist-packages (from ipywidgets) (5.5.6)\n",
            "Requirement already satisfied: ipython-genutils~=0.2.0 in /usr/local/lib/python3.10/dist-packages (from ipywidgets) (0.2.0)\n",
            "Requirement already satisfied: traitlets>=4.3.1 in /usr/local/lib/python3.10/dist-packages (from ipywidgets) (5.7.1)\n",
            "Requirement already satisfied: widgetsnbextension~=3.6.0 in /usr/local/lib/python3.10/dist-packages (from ipywidgets) (3.6.6)\n",
            "Requirement already satisfied: ipython>=4.0.0 in /usr/local/lib/python3.10/dist-packages (from ipywidgets) (7.34.0)\n",
            "Requirement already satisfied: jupyterlab-widgets>=1.0.0 in /usr/local/lib/python3.10/dist-packages (from ipywidgets) (3.0.11)\n",
            "Requirement already satisfied: jupyter-client in /usr/local/lib/python3.10/dist-packages (from ipykernel>=4.5.1->ipywidgets) (6.1.12)\n",
            "Requirement already satisfied: tornado>=4.2 in /usr/local/lib/python3.10/dist-packages (from ipykernel>=4.5.1->ipywidgets) (6.3.3)\n",
            "Requirement already satisfied: setuptools>=18.5 in /usr/local/lib/python3.10/dist-packages (from ipython>=4.0.0->ipywidgets) (67.7.2)\n",
            "Collecting jedi>=0.16 (from ipython>=4.0.0->ipywidgets)\n",
            "  Downloading jedi-0.19.1-py2.py3-none-any.whl (1.6 MB)\n",
            "\u001b[2K     \u001b[90m━━━━━━━━━━━━━━━━━━━━━━━━━━━━━━━━━━━━━━━━\u001b[0m \u001b[32m1.6/1.6 MB\u001b[0m \u001b[31m5.1 MB/s\u001b[0m eta \u001b[36m0:00:00\u001b[0m\n",
            "\u001b[?25hRequirement already satisfied: decorator in /usr/local/lib/python3.10/dist-packages (from ipython>=4.0.0->ipywidgets) (4.4.2)\n",
            "Requirement already satisfied: pickleshare in /usr/local/lib/python3.10/dist-packages (from ipython>=4.0.0->ipywidgets) (0.7.5)\n",
            "Requirement already satisfied: prompt-toolkit!=3.0.0,!=3.0.1,<3.1.0,>=2.0.0 in /usr/local/lib/python3.10/dist-packages (from ipython>=4.0.0->ipywidgets) (3.0.47)\n",
            "Requirement already satisfied: pygments in /usr/local/lib/python3.10/dist-packages (from ipython>=4.0.0->ipywidgets) (2.16.1)\n",
            "Requirement already satisfied: backcall in /usr/local/lib/python3.10/dist-packages (from ipython>=4.0.0->ipywidgets) (0.2.0)\n",
            "Requirement already satisfied: matplotlib-inline in /usr/local/lib/python3.10/dist-packages (from ipython>=4.0.0->ipywidgets) (0.1.7)\n",
            "Requirement already satisfied: pexpect>4.3 in /usr/local/lib/python3.10/dist-packages (from ipython>=4.0.0->ipywidgets) (4.9.0)\n",
            "Requirement already satisfied: notebook>=4.4.1 in /usr/local/lib/python3.10/dist-packages (from widgetsnbextension~=3.6.0->ipywidgets) (6.5.5)\n",
            "Requirement already satisfied: parso<0.9.0,>=0.8.3 in /usr/local/lib/python3.10/dist-packages (from jedi>=0.16->ipython>=4.0.0->ipywidgets) (0.8.4)\n",
            "Requirement already satisfied: jinja2 in /usr/local/lib/python3.10/dist-packages (from notebook>=4.4.1->widgetsnbextension~=3.6.0->ipywidgets) (3.1.4)\n",
            "Requirement already satisfied: pyzmq<25,>=17 in /usr/local/lib/python3.10/dist-packages (from notebook>=4.4.1->widgetsnbextension~=3.6.0->ipywidgets) (24.0.1)\n",
            "Requirement already satisfied: argon2-cffi in /usr/local/lib/python3.10/dist-packages (from notebook>=4.4.1->widgetsnbextension~=3.6.0->ipywidgets) (23.1.0)\n",
            "Requirement already satisfied: jupyter-core>=4.6.1 in /usr/local/lib/python3.10/dist-packages (from notebook>=4.4.1->widgetsnbextension~=3.6.0->ipywidgets) (5.7.2)\n",
            "Requirement already satisfied: nbformat in /usr/local/lib/python3.10/dist-packages (from notebook>=4.4.1->widgetsnbextension~=3.6.0->ipywidgets) (5.10.4)\n",
            "Requirement already satisfied: nbconvert>=5 in /usr/local/lib/python3.10/dist-packages (from notebook>=4.4.1->widgetsnbextension~=3.6.0->ipywidgets) (6.5.4)\n",
            "Requirement already satisfied: nest-asyncio>=1.5 in /usr/local/lib/python3.10/dist-packages (from notebook>=4.4.1->widgetsnbextension~=3.6.0->ipywidgets) (1.6.0)\n",
            "Requirement already satisfied: Send2Trash>=1.8.0 in /usr/local/lib/python3.10/dist-packages (from notebook>=4.4.1->widgetsnbextension~=3.6.0->ipywidgets) (1.8.3)\n",
            "Requirement already satisfied: terminado>=0.8.3 in /usr/local/lib/python3.10/dist-packages (from notebook>=4.4.1->widgetsnbextension~=3.6.0->ipywidgets) (0.18.1)\n",
            "Requirement already satisfied: prometheus-client in /usr/local/lib/python3.10/dist-packages (from notebook>=4.4.1->widgetsnbextension~=3.6.0->ipywidgets) (0.20.0)\n",
            "Requirement already satisfied: nbclassic>=0.4.7 in /usr/local/lib/python3.10/dist-packages (from notebook>=4.4.1->widgetsnbextension~=3.6.0->ipywidgets) (1.1.0)\n",
            "Requirement already satisfied: python-dateutil>=2.1 in /usr/local/lib/python3.10/dist-packages (from jupyter-client->ipykernel>=4.5.1->ipywidgets) (2.8.2)\n",
            "Requirement already satisfied: ptyprocess>=0.5 in /usr/local/lib/python3.10/dist-packages (from pexpect>4.3->ipython>=4.0.0->ipywidgets) (0.7.0)\n",
            "Requirement already satisfied: wcwidth in /usr/local/lib/python3.10/dist-packages (from prompt-toolkit!=3.0.0,!=3.0.1,<3.1.0,>=2.0.0->ipython>=4.0.0->ipywidgets) (0.2.13)\n",
            "Requirement already satisfied: platformdirs>=2.5 in /usr/local/lib/python3.10/dist-packages (from jupyter-core>=4.6.1->notebook>=4.4.1->widgetsnbextension~=3.6.0->ipywidgets) (4.2.2)\n",
            "Requirement already satisfied: notebook-shim>=0.2.3 in /usr/local/lib/python3.10/dist-packages (from nbclassic>=0.4.7->notebook>=4.4.1->widgetsnbextension~=3.6.0->ipywidgets) (0.2.4)\n",
            "Requirement already satisfied: lxml in /usr/local/lib/python3.10/dist-packages (from nbconvert>=5->notebook>=4.4.1->widgetsnbextension~=3.6.0->ipywidgets) (4.9.4)\n",
            "Requirement already satisfied: beautifulsoup4 in /usr/local/lib/python3.10/dist-packages (from nbconvert>=5->notebook>=4.4.1->widgetsnbextension~=3.6.0->ipywidgets) (4.12.3)\n",
            "Requirement already satisfied: bleach in /usr/local/lib/python3.10/dist-packages (from nbconvert>=5->notebook>=4.4.1->widgetsnbextension~=3.6.0->ipywidgets) (6.1.0)\n",
            "Requirement already satisfied: defusedxml in /usr/local/lib/python3.10/dist-packages (from nbconvert>=5->notebook>=4.4.1->widgetsnbextension~=3.6.0->ipywidgets) (0.7.1)\n",
            "Requirement already satisfied: entrypoints>=0.2.2 in /usr/local/lib/python3.10/dist-packages (from nbconvert>=5->notebook>=4.4.1->widgetsnbextension~=3.6.0->ipywidgets) (0.4)\n",
            "Requirement already satisfied: jupyterlab-pygments in /usr/local/lib/python3.10/dist-packages (from nbconvert>=5->notebook>=4.4.1->widgetsnbextension~=3.6.0->ipywidgets) (0.3.0)\n",
            "Requirement already satisfied: MarkupSafe>=2.0 in /usr/local/lib/python3.10/dist-packages (from nbconvert>=5->notebook>=4.4.1->widgetsnbextension~=3.6.0->ipywidgets) (2.1.5)\n",
            "Requirement already satisfied: mistune<2,>=0.8.1 in /usr/local/lib/python3.10/dist-packages (from nbconvert>=5->notebook>=4.4.1->widgetsnbextension~=3.6.0->ipywidgets) (0.8.4)\n",
            "Requirement already satisfied: nbclient>=0.5.0 in /usr/local/lib/python3.10/dist-packages (from nbconvert>=5->notebook>=4.4.1->widgetsnbextension~=3.6.0->ipywidgets) (0.10.0)\n",
            "Requirement already satisfied: pandocfilters>=1.4.1 in /usr/local/lib/python3.10/dist-packages (from nbconvert>=5->notebook>=4.4.1->widgetsnbextension~=3.6.0->ipywidgets) (1.5.1)\n",
            "Requirement already satisfied: tinycss2 in /usr/local/lib/python3.10/dist-packages (from nbconvert>=5->notebook>=4.4.1->widgetsnbextension~=3.6.0->ipywidgets) (1.3.0)\n",
            "Requirement already satisfied: fastjsonschema>=2.15 in /usr/local/lib/python3.10/dist-packages (from nbformat->notebook>=4.4.1->widgetsnbextension~=3.6.0->ipywidgets) (2.20.0)\n",
            "Requirement already satisfied: jsonschema>=2.6 in /usr/local/lib/python3.10/dist-packages (from nbformat->notebook>=4.4.1->widgetsnbextension~=3.6.0->ipywidgets) (4.19.2)\n",
            "Requirement already satisfied: six>=1.5 in /usr/local/lib/python3.10/dist-packages (from python-dateutil>=2.1->jupyter-client->ipykernel>=4.5.1->ipywidgets) (1.16.0)\n",
            "Requirement already satisfied: argon2-cffi-bindings in /usr/local/lib/python3.10/dist-packages (from argon2-cffi->notebook>=4.4.1->widgetsnbextension~=3.6.0->ipywidgets) (21.2.0)\n",
            "Requirement already satisfied: attrs>=22.2.0 in /usr/local/lib/python3.10/dist-packages (from jsonschema>=2.6->nbformat->notebook>=4.4.1->widgetsnbextension~=3.6.0->ipywidgets) (23.2.0)\n",
            "Requirement already satisfied: jsonschema-specifications>=2023.03.6 in /usr/local/lib/python3.10/dist-packages (from jsonschema>=2.6->nbformat->notebook>=4.4.1->widgetsnbextension~=3.6.0->ipywidgets) (2023.12.1)\n",
            "Requirement already satisfied: referencing>=0.28.4 in /usr/local/lib/python3.10/dist-packages (from jsonschema>=2.6->nbformat->notebook>=4.4.1->widgetsnbextension~=3.6.0->ipywidgets) (0.35.1)\n",
            "Requirement already satisfied: rpds-py>=0.7.1 in /usr/local/lib/python3.10/dist-packages (from jsonschema>=2.6->nbformat->notebook>=4.4.1->widgetsnbextension~=3.6.0->ipywidgets) (0.18.1)\n",
            "Requirement already satisfied: jupyter-server<3,>=1.8 in /usr/local/lib/python3.10/dist-packages (from notebook-shim>=0.2.3->nbclassic>=0.4.7->notebook>=4.4.1->widgetsnbextension~=3.6.0->ipywidgets) (1.24.0)\n",
            "Requirement already satisfied: cffi>=1.0.1 in /usr/local/lib/python3.10/dist-packages (from argon2-cffi-bindings->argon2-cffi->notebook>=4.4.1->widgetsnbextension~=3.6.0->ipywidgets) (1.16.0)\n",
            "Requirement already satisfied: soupsieve>1.2 in /usr/local/lib/python3.10/dist-packages (from beautifulsoup4->nbconvert>=5->notebook>=4.4.1->widgetsnbextension~=3.6.0->ipywidgets) (2.5)\n",
            "Requirement already satisfied: webencodings in /usr/local/lib/python3.10/dist-packages (from bleach->nbconvert>=5->notebook>=4.4.1->widgetsnbextension~=3.6.0->ipywidgets) (0.5.1)\n",
            "Requirement already satisfied: pycparser in /usr/local/lib/python3.10/dist-packages (from cffi>=1.0.1->argon2-cffi-bindings->argon2-cffi->notebook>=4.4.1->widgetsnbextension~=3.6.0->ipywidgets) (2.22)\n",
            "Requirement already satisfied: anyio<4,>=3.1.0 in /usr/local/lib/python3.10/dist-packages (from jupyter-server<3,>=1.8->notebook-shim>=0.2.3->nbclassic>=0.4.7->notebook>=4.4.1->widgetsnbextension~=3.6.0->ipywidgets) (3.7.1)\n",
            "Requirement already satisfied: websocket-client in /usr/local/lib/python3.10/dist-packages (from jupyter-server<3,>=1.8->notebook-shim>=0.2.3->nbclassic>=0.4.7->notebook>=4.4.1->widgetsnbextension~=3.6.0->ipywidgets) (1.8.0)\n",
            "Requirement already satisfied: idna>=2.8 in /usr/local/lib/python3.10/dist-packages (from anyio<4,>=3.1.0->jupyter-server<3,>=1.8->notebook-shim>=0.2.3->nbclassic>=0.4.7->notebook>=4.4.1->widgetsnbextension~=3.6.0->ipywidgets) (3.7)\n",
            "Requirement already satisfied: sniffio>=1.1 in /usr/local/lib/python3.10/dist-packages (from anyio<4,>=3.1.0->jupyter-server<3,>=1.8->notebook-shim>=0.2.3->nbclassic>=0.4.7->notebook>=4.4.1->widgetsnbextension~=3.6.0->ipywidgets) (1.3.1)\n",
            "Requirement already satisfied: exceptiongroup in /usr/local/lib/python3.10/dist-packages (from anyio<4,>=3.1.0->jupyter-server<3,>=1.8->notebook-shim>=0.2.3->nbclassic>=0.4.7->notebook>=4.4.1->widgetsnbextension~=3.6.0->ipywidgets) (1.2.1)\n",
            "Installing collected packages: jedi\n",
            "Successfully installed jedi-0.19.1\n"
          ]
        }
      ]
    },
    {
      "cell_type": "code",
      "source": [
        "import numpy as np\n",
        "import plotly.graph_objects as go\n",
        "import plotly.offline as pyo\n",
        "import ipywidgets as widgets\n",
        "from IPython.display import display, clear_output\n",
        "\n",
        "pyo.init_notebook_mode(connected=True)\n",
        "\n",
        "class StockMarketCA:\n",
        "    def __init__(self, n, states, alpha, A, B, C, D, sigma_epsilon):\n",
        "        self.n = n\n",
        "        self.states = states\n",
        "        self.alpha = alpha\n",
        "        self.A = A\n",
        "        self.B = B\n",
        "        self.C = C\n",
        "        self.D = D\n",
        "        self.p = 0  # Initial normalized price\n",
        "        self.epsilon = np.random.normal(0, sigma_epsilon, n)\n",
        "        self.prices = []\n",
        "\n",
        "    def step(self):\n",
        "        p_prev = self.p\n",
        "        self.epsilon = np.random.normal(0, sigma_epsilon, self.n)\n",
        "        leanings = self.leaning_function(self.p, p_prev, self.epsilon, self.alpha, self.states, self.A, self.B, self.C, self.D)\n",
        "        self.states = np.array([self.state_function(L) for L in leanings])\n",
        "        # Update the price to ensure buyers equal sellers\n",
        "        self.p = self.update_price()\n",
        "        self.prices.append(self.p)\n",
        "\n",
        "    def leaning_function(self, p, p_prev, epsilon, alpha, states, A, B, C, D):\n",
        "        return A * (p + epsilon) + B * ((p + epsilon) - (p_prev + epsilon)) + C * np.dot(alpha, states) + D\n",
        "\n",
        "    def state_function(self, L, b=-1, s=1):\n",
        "        if L < b:\n",
        "            return -1  # buy\n",
        "        elif L > s:\n",
        "            return 1  # sell\n",
        "        else:\n",
        "            return 0  # hold\n",
        "\n",
        "    def update_price(self):\n",
        "        sorted_leanings = np.sort(self.leaning_function(self.p, self.p, self.epsilon, self.alpha, self.states, self.A, self.B, self.C, self.D))\n",
        "        mid_point = len(sorted_leanings) // 2\n",
        "        return sorted_leanings[mid_point]\n",
        "\n",
        "# Simulation parameters\n",
        "sigma_epsilon = 0.33\n",
        "\n",
        "def run_simulation(timesteps, num_traders):\n",
        "    # Initialize parameters for each trader\n",
        "    A = np.ones(num_traders)\n",
        "    B = np.random.normal(0, 1, num_traders)\n",
        "    C = np.random.normal(5, 2, num_traders)\n",
        "    D = np.random.normal(0, 1, num_traders)\n",
        "    alpha = np.random.choice([0, 1], size=(num_traders, num_traders), p=[0.996, 0.004])\n",
        "    states = np.zeros(num_traders)\n",
        "\n",
        "    ca_model = StockMarketCA(num_traders, states, alpha, A, B, C, D, sigma_epsilon)\n",
        "    for t in range(timesteps):\n",
        "        ca_model.step()\n",
        "    return ca_model.prices"
      ],
      "metadata": {
        "colab": {
          "base_uri": "https://localhost:8080/",
          "height": 17
        },
        "id": "bFFa1ZMBdK61",
        "outputId": "8806c16b-3596-46ea-dcc5-2b1ae7c3aa95"
      },
      "execution_count": 20,
      "outputs": [
        {
          "output_type": "display_data",
          "data": {
            "text/html": [
              "        <script type=\"text/javascript\">\n",
              "        window.PlotlyConfig = {MathJaxConfig: 'local'};\n",
              "        if (window.MathJax && window.MathJax.Hub && window.MathJax.Hub.Config) {window.MathJax.Hub.Config({SVG: {font: \"STIX-Web\"}});}\n",
              "        if (typeof require !== 'undefined') {\n",
              "        require.undef(\"plotly\");\n",
              "        requirejs.config({\n",
              "            paths: {\n",
              "                'plotly': ['https://cdn.plot.ly/plotly-2.24.1.min']\n",
              "            }\n",
              "        });\n",
              "        require(['plotly'], function(Plotly) {\n",
              "            window._Plotly = Plotly;\n",
              "        });\n",
              "        }\n",
              "        </script>\n",
              "        "
            ]
          },
          "metadata": {}
        }
      ]
    },
    {
      "cell_type": "code",
      "source": [
        "num_traders_slider = widgets.IntSlider(value=8000, min=100, max=10000, step=100, description='Num Traders:')\n",
        "timesteps_slider = widgets.IntSlider(value=50, min=10, max=100, step=10, description='Timesteps:')\n",
        "run_button = widgets.Button(description=\"Run Simulation\")\n",
        "output = widgets.Output()\n",
        "\n",
        "def update_simulation(b):\n",
        "    with output:\n",
        "        clear_output(wait=True)\n",
        "        num_traders = num_traders_slider.value\n",
        "        timesteps = timesteps_slider.value\n",
        "        prices = run_simulation(timesteps, num_traders)\n",
        "\n",
        "        fig = go.Figure(data=go.Scatter(y=prices, mode='lines', name='Stock Price'))\n",
        "        fig.update_layout(title='Stock Market Simulation Over Time',\n",
        "                          xaxis_title='Time Steps',\n",
        "                          yaxis_title='Normalized Price')\n",
        "        pyo.iplot(fig)\n",
        "\n",
        "run_button.on_click(update_simulation)\n",
        "\n",
        "display(num_traders_slider, timesteps_slider, run_button, output)"
      ],
      "metadata": {
        "colab": {
          "base_uri": "https://localhost:8080/",
          "height": 636,
          "referenced_widgets": [
            "f399f454fb92485aa9b83499aeccdbb2",
            "0b99725984894f099f7c56939860479c",
            "41d368d8749f42bc9852b5b9e3599d66",
            "6c42cced14c9490eac50c293de904812",
            "7af3fb4904854cc5b946c8a087d5eb52",
            "90eacd9ebf984f028d4b22b90d05c38c",
            "5392a5c6eb5f4f4ab88bbbabdfa24131",
            "b5fd81a411cb44e88db7b3db676b714c",
            "a12c37afeb9842ddbdfbfe5ca253f727",
            "16fd2fbb3efc45878492d8e501580463",
            "e0e922d6e9db4aecbb24d560cad40818"
          ]
        },
        "id": "5KniVVuedN4t",
        "outputId": "1d23d6a1-9427-4182-86cc-3a4d08ff2fb2"
      },
      "execution_count": 21,
      "outputs": [
        {
          "output_type": "display_data",
          "data": {
            "text/plain": [
              "IntSlider(value=8000, description='Num Traders:', max=10000, min=100, step=100)"
            ],
            "application/vnd.jupyter.widget-view+json": {
              "version_major": 2,
              "version_minor": 0,
              "model_id": "f399f454fb92485aa9b83499aeccdbb2"
            }
          },
          "metadata": {}
        },
        {
          "output_type": "display_data",
          "data": {
            "text/plain": [
              "IntSlider(value=50, description='Timesteps:', min=10, step=10)"
            ],
            "application/vnd.jupyter.widget-view+json": {
              "version_major": 2,
              "version_minor": 0,
              "model_id": "6c42cced14c9490eac50c293de904812"
            }
          },
          "metadata": {}
        },
        {
          "output_type": "display_data",
          "data": {
            "text/plain": [
              "Button(description='Run Simulation', style=ButtonStyle())"
            ],
            "application/vnd.jupyter.widget-view+json": {
              "version_major": 2,
              "version_minor": 0,
              "model_id": "5392a5c6eb5f4f4ab88bbbabdfa24131"
            }
          },
          "metadata": {}
        },
        {
          "output_type": "display_data",
          "data": {
            "text/plain": [
              "Output()"
            ],
            "application/vnd.jupyter.widget-view+json": {
              "version_major": 2,
              "version_minor": 0,
              "model_id": "16fd2fbb3efc45878492d8e501580463"
            }
          },
          "metadata": {}
        }
      ]
    },
    {
      "cell_type": "markdown",
      "source": [
        "## MESA"
      ],
      "metadata": {
        "id": "ShfxcfT4Vot8"
      }
    },
    {
      "cell_type": "code",
      "source": [
        "pip install mesa\n"
      ],
      "metadata": {
        "colab": {
          "base_uri": "https://localhost:8080/"
        },
        "id": "lHpwVRaC31h9",
        "outputId": "33a6f31d-72ff-45f6-a481-7807bad93651"
      },
      "execution_count": null,
      "outputs": [
        {
          "output_type": "stream",
          "name": "stdout",
          "text": [
            "Collecting mesa\n",
            "  Downloading mesa-2.3.1-py3-none-any.whl (65 kB)\n",
            "\u001b[2K     \u001b[90m━━━━━━━━━━━━━━━━━━━━━━━━━━━━━━━━━━━━━━━━\u001b[0m \u001b[32m65.7/65.7 kB\u001b[0m \u001b[31m2.0 MB/s\u001b[0m eta \u001b[36m0:00:00\u001b[0m\n",
            "\u001b[?25hRequirement already satisfied: click in /usr/local/lib/python3.10/dist-packages (from mesa) (8.1.7)\n",
            "Collecting cookiecutter (from mesa)\n",
            "  Downloading cookiecutter-2.6.0-py3-none-any.whl (39 kB)\n",
            "Requirement already satisfied: matplotlib in /usr/local/lib/python3.10/dist-packages (from mesa) (3.7.1)\n",
            "Collecting mesa-viz-tornado>=0.1.3,~=0.1.0 (from mesa)\n",
            "  Downloading Mesa_Viz_Tornado-0.1.3-py3-none-any.whl (1.6 MB)\n",
            "\u001b[2K     \u001b[90m━━━━━━━━━━━━━━━━━━━━━━━━━━━━━━━━━━━━━━━━\u001b[0m \u001b[32m1.6/1.6 MB\u001b[0m \u001b[31m32.9 MB/s\u001b[0m eta \u001b[36m0:00:00\u001b[0m\n",
            "\u001b[?25hRequirement already satisfied: networkx in /usr/local/lib/python3.10/dist-packages (from mesa) (3.3)\n",
            "Requirement already satisfied: numpy in /usr/local/lib/python3.10/dist-packages (from mesa) (1.25.2)\n",
            "Requirement already satisfied: pandas in /usr/local/lib/python3.10/dist-packages (from mesa) (2.0.3)\n",
            "Collecting solara (from mesa)\n",
            "  Downloading solara-1.34.1-py2.py3-none-any.whl (5.7 kB)\n",
            "Requirement already satisfied: tqdm in /usr/local/lib/python3.10/dist-packages (from mesa) (4.66.4)\n",
            "Requirement already satisfied: tornado in /usr/local/lib/python3.10/dist-packages (from mesa-viz-tornado>=0.1.3,~=0.1.0->mesa) (6.3.3)\n",
            "Collecting binaryornot>=0.4.4 (from cookiecutter->mesa)\n",
            "  Downloading binaryornot-0.4.4-py2.py3-none-any.whl (9.0 kB)\n",
            "Requirement already satisfied: Jinja2<4.0.0,>=2.7 in /usr/local/lib/python3.10/dist-packages (from cookiecutter->mesa) (3.1.4)\n",
            "Requirement already satisfied: pyyaml>=5.3.1 in /usr/local/lib/python3.10/dist-packages (from cookiecutter->mesa) (6.0.1)\n",
            "Requirement already satisfied: python-slugify>=4.0.0 in /usr/local/lib/python3.10/dist-packages (from cookiecutter->mesa) (8.0.4)\n",
            "Requirement already satisfied: requests>=2.23.0 in /usr/local/lib/python3.10/dist-packages (from cookiecutter->mesa) (2.31.0)\n",
            "Collecting arrow (from cookiecutter->mesa)\n",
            "  Downloading arrow-1.3.0-py3-none-any.whl (66 kB)\n",
            "\u001b[2K     \u001b[90m━━━━━━━━━━━━━━━━━━━━━━━━━━━━━━━━━━━━━━━━\u001b[0m \u001b[32m66.4/66.4 kB\u001b[0m \u001b[31m7.9 MB/s\u001b[0m eta \u001b[36m0:00:00\u001b[0m\n",
            "\u001b[?25hRequirement already satisfied: rich in /usr/local/lib/python3.10/dist-packages (from cookiecutter->mesa) (13.7.1)\n",
            "Requirement already satisfied: contourpy>=1.0.1 in /usr/local/lib/python3.10/dist-packages (from matplotlib->mesa) (1.2.1)\n",
            "Requirement already satisfied: cycler>=0.10 in /usr/local/lib/python3.10/dist-packages (from matplotlib->mesa) (0.12.1)\n",
            "Requirement already satisfied: fonttools>=4.22.0 in /usr/local/lib/python3.10/dist-packages (from matplotlib->mesa) (4.53.0)\n",
            "Requirement already satisfied: kiwisolver>=1.0.1 in /usr/local/lib/python3.10/dist-packages (from matplotlib->mesa) (1.4.5)\n",
            "Requirement already satisfied: packaging>=20.0 in /usr/local/lib/python3.10/dist-packages (from matplotlib->mesa) (24.1)\n",
            "Requirement already satisfied: pillow>=6.2.0 in /usr/local/lib/python3.10/dist-packages (from matplotlib->mesa) (9.4.0)\n",
            "Requirement already satisfied: pyparsing>=2.3.1 in /usr/local/lib/python3.10/dist-packages (from matplotlib->mesa) (3.1.2)\n",
            "Requirement already satisfied: python-dateutil>=2.7 in /usr/local/lib/python3.10/dist-packages (from matplotlib->mesa) (2.8.2)\n",
            "Requirement already satisfied: pytz>=2020.1 in /usr/local/lib/python3.10/dist-packages (from pandas->mesa) (2023.4)\n",
            "Requirement already satisfied: tzdata>=2022.1 in /usr/local/lib/python3.10/dist-packages (from pandas->mesa) (2024.1)\n",
            "Collecting solara-server[dev,starlette]==1.34.1 (from solara->mesa)\n",
            "  Downloading solara_server-1.34.1-py2.py3-none-any.whl (3.9 kB)\n",
            "Collecting solara-ui[all]==1.34.1 (from solara->mesa)\n",
            "  Downloading solara_ui-1.34.1-py2.py3-none-any.whl (1.2 MB)\n",
            "\u001b[2K     \u001b[90m━━━━━━━━━━━━━━━━━━━━━━━━━━━━━━━━━━━━━━━━\u001b[0m \u001b[32m1.2/1.2 MB\u001b[0m \u001b[31m51.6 MB/s\u001b[0m eta \u001b[36m0:00:00\u001b[0m\n",
            "\u001b[?25hRequirement already satisfied: filelock in /usr/local/lib/python3.10/dist-packages (from solara-server[dev,starlette]==1.34.1->solara->mesa) (3.15.4)\n",
            "Requirement already satisfied: ipykernel in /usr/local/lib/python3.10/dist-packages (from solara-server[dev,starlette]==1.34.1->solara->mesa) (5.5.6)\n",
            "Collecting jupyter-client>=7.0.0 (from solara-server[dev,starlette]==1.34.1->solara->mesa)\n",
            "  Downloading jupyter_client-8.6.2-py3-none-any.whl (105 kB)\n",
            "\u001b[2K     \u001b[90m━━━━━━━━━━━━━━━━━━━━━━━━━━━━━━━━━━━━━━━━\u001b[0m \u001b[32m105.9/105.9 kB\u001b[0m \u001b[31m11.3 MB/s\u001b[0m eta \u001b[36m0:00:00\u001b[0m\n",
            "\u001b[?25hRequirement already satisfied: nbformat in /usr/local/lib/python3.10/dist-packages (from solara-server[dev,starlette]==1.34.1->solara->mesa) (5.10.4)\n",
            "Collecting rich-click (from solara-server[dev,starlette]==1.34.1->solara->mesa)\n",
            "  Downloading rich_click-1.8.3-py3-none-any.whl (35 kB)\n",
            "Collecting watchdog (from solara-server[dev,starlette]==1.34.1->solara->mesa)\n",
            "  Downloading watchdog-4.0.1-py3-none-manylinux2014_x86_64.whl (83 kB)\n",
            "\u001b[2K     \u001b[90m━━━━━━━━━━━━━━━━━━━━━━━━━━━━━━━━━━━━━━━━\u001b[0m \u001b[32m83.0/83.0 kB\u001b[0m \u001b[31m6.5 MB/s\u001b[0m eta \u001b[36m0:00:00\u001b[0m\n",
            "\u001b[?25hCollecting watchfiles (from solara-server[dev,starlette]==1.34.1->solara->mesa)\n",
            "  Downloading watchfiles-0.22.0-cp310-cp310-manylinux_2_17_x86_64.manylinux2014_x86_64.whl (1.2 MB)\n",
            "\u001b[2K     \u001b[90m━━━━━━━━━━━━━━━━━━━━━━━━━━━━━━━━━━━━━━━━\u001b[0m \u001b[32m1.2/1.2 MB\u001b[0m \u001b[31m43.6 MB/s\u001b[0m eta \u001b[36m0:00:00\u001b[0m\n",
            "\u001b[?25hCollecting starlette (from solara-server[dev,starlette]==1.34.1->solara->mesa)\n",
            "  Downloading starlette-0.37.2-py3-none-any.whl (71 kB)\n",
            "\u001b[2K     \u001b[90m━━━━━━━━━━━━━━━━━━━━━━━━━━━━━━━━━━━━━━━━\u001b[0m \u001b[32m71.9/71.9 kB\u001b[0m \u001b[31m7.8 MB/s\u001b[0m eta \u001b[36m0:00:00\u001b[0m\n",
            "\u001b[?25hCollecting uvicorn (from solara-server[dev,starlette]==1.34.1->solara->mesa)\n",
            "  Downloading uvicorn-0.30.1-py3-none-any.whl (62 kB)\n",
            "\u001b[2K     \u001b[90m━━━━━━━━━━━━━━━━━━━━━━━━━━━━━━━━━━━━━━━━\u001b[0m \u001b[32m62.4/62.4 kB\u001b[0m \u001b[31m6.9 MB/s\u001b[0m eta \u001b[36m0:00:00\u001b[0m\n",
            "\u001b[?25hCollecting websockets (from solara-server[dev,starlette]==1.34.1->solara->mesa)\n",
            "  Downloading websockets-12.0-cp310-cp310-manylinux_2_5_x86_64.manylinux1_x86_64.manylinux_2_17_x86_64.manylinux2014_x86_64.whl (130 kB)\n",
            "\u001b[2K     \u001b[90m━━━━━━━━━━━━━━━━━━━━━━━━━━━━━━━━━━━━━━━━\u001b[0m \u001b[32m130.2/130.2 kB\u001b[0m \u001b[31m10.8 MB/s\u001b[0m eta \u001b[36m0:00:00\u001b[0m\n",
            "\u001b[?25hRequirement already satisfied: humanize in /usr/local/lib/python3.10/dist-packages (from solara-ui[all]==1.34.1->solara->mesa) (4.7.0)\n",
            "Collecting ipyvue>=1.9.0 (from solara-ui[all]==1.34.1->solara->mesa)\n",
            "  Downloading ipyvue-1.11.1-py2.py3-none-any.whl (2.7 MB)\n",
            "\u001b[2K     \u001b[90m━━━━━━━━━━━━━━━━━━━━━━━━━━━━━━━━━━━━━━━━\u001b[0m \u001b[32m2.7/2.7 MB\u001b[0m \u001b[31m50.6 MB/s\u001b[0m eta \u001b[36m0:00:00\u001b[0m\n",
            "\u001b[?25hCollecting ipyvuetify>=1.6.10 (from solara-ui[all]==1.34.1->solara->mesa)\n",
            "  Downloading ipyvuetify-1.9.4-py2.py3-none-any.whl (6.1 MB)\n",
            "\u001b[2K     \u001b[90m━━━━━━━━━━━━━━━━━━━━━━━━━━━━━━━━━━━━━━━━\u001b[0m \u001b[32m6.1/6.1 MB\u001b[0m \u001b[31m48.6 MB/s\u001b[0m eta \u001b[36m0:00:00\u001b[0m\n",
            "\u001b[?25hRequirement already satisfied: ipywidgets>=7.7 in /usr/local/lib/python3.10/dist-packages (from solara-ui[all]==1.34.1->solara->mesa) (7.7.1)\n",
            "Collecting reacton>=1.7.1 (from solara-ui[all]==1.34.1->solara->mesa)\n",
            "  Downloading reacton-1.8.3-py2.py3-none-any.whl (107 kB)\n",
            "\u001b[2K     \u001b[90m━━━━━━━━━━━━━━━━━━━━━━━━━━━━━━━━━━━━━━━━\u001b[0m \u001b[32m107.9/107.9 kB\u001b[0m \u001b[31m11.4 MB/s\u001b[0m eta \u001b[36m0:00:00\u001b[0m\n",
            "\u001b[?25hRequirement already satisfied: chardet>=3.0.2 in /usr/local/lib/python3.10/dist-packages (from binaryornot>=0.4.4->cookiecutter->mesa) (5.2.0)\n",
            "Requirement already satisfied: MarkupSafe>=2.0 in /usr/local/lib/python3.10/dist-packages (from Jinja2<4.0.0,>=2.7->cookiecutter->mesa) (2.1.5)\n",
            "Requirement already satisfied: six>=1.5 in /usr/local/lib/python3.10/dist-packages (from python-dateutil>=2.7->matplotlib->mesa) (1.16.0)\n",
            "Requirement already satisfied: text-unidecode>=1.3 in /usr/local/lib/python3.10/dist-packages (from python-slugify>=4.0.0->cookiecutter->mesa) (1.3)\n",
            "Requirement already satisfied: charset-normalizer<4,>=2 in /usr/local/lib/python3.10/dist-packages (from requests>=2.23.0->cookiecutter->mesa) (3.3.2)\n",
            "Requirement already satisfied: idna<4,>=2.5 in /usr/local/lib/python3.10/dist-packages (from requests>=2.23.0->cookiecutter->mesa) (3.7)\n",
            "Requirement already satisfied: urllib3<3,>=1.21.1 in /usr/local/lib/python3.10/dist-packages (from requests>=2.23.0->cookiecutter->mesa) (2.0.7)\n",
            "Requirement already satisfied: certifi>=2017.4.17 in /usr/local/lib/python3.10/dist-packages (from requests>=2.23.0->cookiecutter->mesa) (2024.6.2)\n",
            "Collecting types-python-dateutil>=2.8.10 (from arrow->cookiecutter->mesa)\n",
            "  Downloading types_python_dateutil-2.9.0.20240316-py3-none-any.whl (9.7 kB)\n",
            "Requirement already satisfied: markdown-it-py>=2.2.0 in /usr/local/lib/python3.10/dist-packages (from rich->cookiecutter->mesa) (3.0.0)\n",
            "Requirement already satisfied: pygments<3.0.0,>=2.13.0 in /usr/local/lib/python3.10/dist-packages (from rich->cookiecutter->mesa) (2.16.1)\n",
            "Requirement already satisfied: ipython-genutils~=0.2.0 in /usr/local/lib/python3.10/dist-packages (from ipywidgets>=7.7->solara-ui[all]==1.34.1->solara->mesa) (0.2.0)\n",
            "Requirement already satisfied: traitlets>=4.3.1 in /usr/local/lib/python3.10/dist-packages (from ipywidgets>=7.7->solara-ui[all]==1.34.1->solara->mesa) (5.7.1)\n",
            "Requirement already satisfied: widgetsnbextension~=3.6.0 in /usr/local/lib/python3.10/dist-packages (from ipywidgets>=7.7->solara-ui[all]==1.34.1->solara->mesa) (3.6.6)\n",
            "Requirement already satisfied: ipython>=4.0.0 in /usr/local/lib/python3.10/dist-packages (from ipywidgets>=7.7->solara-ui[all]==1.34.1->solara->mesa) (7.34.0)\n",
            "Requirement already satisfied: jupyterlab-widgets>=1.0.0 in /usr/local/lib/python3.10/dist-packages (from ipywidgets>=7.7->solara-ui[all]==1.34.1->solara->mesa) (3.0.11)\n",
            "Requirement already satisfied: jupyter-core!=5.0.*,>=4.12 in /usr/local/lib/python3.10/dist-packages (from jupyter-client>=7.0.0->solara-server[dev,starlette]==1.34.1->solara->mesa) (5.7.2)\n",
            "Requirement already satisfied: pyzmq>=23.0 in /usr/local/lib/python3.10/dist-packages (from jupyter-client>=7.0.0->solara-server[dev,starlette]==1.34.1->solara->mesa) (24.0.1)\n",
            "Requirement already satisfied: mdurl~=0.1 in /usr/local/lib/python3.10/dist-packages (from markdown-it-py>=2.2.0->rich->cookiecutter->mesa) (0.1.2)\n",
            "Requirement already satisfied: typing-extensions>=4.1.1 in /usr/local/lib/python3.10/dist-packages (from reacton>=1.7.1->solara-ui[all]==1.34.1->solara->mesa) (4.12.2)\n",
            "Requirement already satisfied: fastjsonschema>=2.15 in /usr/local/lib/python3.10/dist-packages (from nbformat->solara-server[dev,starlette]==1.34.1->solara->mesa) (2.20.0)\n",
            "Requirement already satisfied: jsonschema>=2.6 in /usr/local/lib/python3.10/dist-packages (from nbformat->solara-server[dev,starlette]==1.34.1->solara->mesa) (4.19.2)\n",
            "Requirement already satisfied: cachetools in /usr/local/lib/python3.10/dist-packages (from solara-ui[all]==1.34.1->solara->mesa) (5.3.3)\n",
            "Requirement already satisfied: markdown in /usr/local/lib/python3.10/dist-packages (from solara-ui[all]==1.34.1->solara->mesa) (3.6)\n",
            "Collecting pymdown-extensions (from solara-ui[all]==1.34.1->solara->mesa)\n",
            "  Downloading pymdown_extensions-10.8.1-py3-none-any.whl (250 kB)\n",
            "\u001b[2K     \u001b[90m━━━━━━━━━━━━━━━━━━━━━━━━━━━━━━━━━━━━━━━━\u001b[0m \u001b[32m250.8/250.8 kB\u001b[0m \u001b[31m27.2 MB/s\u001b[0m eta \u001b[36m0:00:00\u001b[0m\n",
            "\u001b[?25hRequirement already satisfied: anyio<5,>=3.4.0 in /usr/local/lib/python3.10/dist-packages (from starlette->solara-server[dev,starlette]==1.34.1->solara->mesa) (3.7.1)\n",
            "Collecting h11>=0.8 (from uvicorn->solara-server[dev,starlette]==1.34.1->solara->mesa)\n",
            "  Downloading h11-0.14.0-py3-none-any.whl (58 kB)\n",
            "\u001b[2K     \u001b[90m━━━━━━━━━━━━━━━━━━━━━━━━━━━━━━━━━━━━━━━━\u001b[0m \u001b[32m58.3/58.3 kB\u001b[0m \u001b[31m5.8 MB/s\u001b[0m eta \u001b[36m0:00:00\u001b[0m\n",
            "\u001b[?25hRequirement already satisfied: sniffio>=1.1 in /usr/local/lib/python3.10/dist-packages (from anyio<5,>=3.4.0->starlette->solara-server[dev,starlette]==1.34.1->solara->mesa) (1.3.1)\n",
            "Requirement already satisfied: exceptiongroup in /usr/local/lib/python3.10/dist-packages (from anyio<5,>=3.4.0->starlette->solara-server[dev,starlette]==1.34.1->solara->mesa) (1.2.1)\n",
            "Requirement already satisfied: setuptools>=18.5 in /usr/local/lib/python3.10/dist-packages (from ipython>=4.0.0->ipywidgets>=7.7->solara-ui[all]==1.34.1->solara->mesa) (67.7.2)\n",
            "Collecting jedi>=0.16 (from ipython>=4.0.0->ipywidgets>=7.7->solara-ui[all]==1.34.1->solara->mesa)\n",
            "  Downloading jedi-0.19.1-py2.py3-none-any.whl (1.6 MB)\n",
            "\u001b[2K     \u001b[90m━━━━━━━━━━━━━━━━━━━━━━━━━━━━━━━━━━━━━━━━\u001b[0m \u001b[32m1.6/1.6 MB\u001b[0m \u001b[31m63.1 MB/s\u001b[0m eta \u001b[36m0:00:00\u001b[0m\n",
            "\u001b[?25hRequirement already satisfied: decorator in /usr/local/lib/python3.10/dist-packages (from ipython>=4.0.0->ipywidgets>=7.7->solara-ui[all]==1.34.1->solara->mesa) (4.4.2)\n",
            "Requirement already satisfied: pickleshare in /usr/local/lib/python3.10/dist-packages (from ipython>=4.0.0->ipywidgets>=7.7->solara-ui[all]==1.34.1->solara->mesa) (0.7.5)\n",
            "Requirement already satisfied: prompt-toolkit!=3.0.0,!=3.0.1,<3.1.0,>=2.0.0 in /usr/local/lib/python3.10/dist-packages (from ipython>=4.0.0->ipywidgets>=7.7->solara-ui[all]==1.34.1->solara->mesa) (3.0.47)\n",
            "Requirement already satisfied: backcall in /usr/local/lib/python3.10/dist-packages (from ipython>=4.0.0->ipywidgets>=7.7->solara-ui[all]==1.34.1->solara->mesa) (0.2.0)\n",
            "Requirement already satisfied: matplotlib-inline in /usr/local/lib/python3.10/dist-packages (from ipython>=4.0.0->ipywidgets>=7.7->solara-ui[all]==1.34.1->solara->mesa) (0.1.7)\n",
            "Requirement already satisfied: pexpect>4.3 in /usr/local/lib/python3.10/dist-packages (from ipython>=4.0.0->ipywidgets>=7.7->solara-ui[all]==1.34.1->solara->mesa) (4.9.0)\n",
            "Requirement already satisfied: attrs>=22.2.0 in /usr/local/lib/python3.10/dist-packages (from jsonschema>=2.6->nbformat->solara-server[dev,starlette]==1.34.1->solara->mesa) (23.2.0)\n",
            "Requirement already satisfied: jsonschema-specifications>=2023.03.6 in /usr/local/lib/python3.10/dist-packages (from jsonschema>=2.6->nbformat->solara-server[dev,starlette]==1.34.1->solara->mesa) (2023.12.1)\n",
            "Requirement already satisfied: referencing>=0.28.4 in /usr/local/lib/python3.10/dist-packages (from jsonschema>=2.6->nbformat->solara-server[dev,starlette]==1.34.1->solara->mesa) (0.35.1)\n",
            "Requirement already satisfied: rpds-py>=0.7.1 in /usr/local/lib/python3.10/dist-packages (from jsonschema>=2.6->nbformat->solara-server[dev,starlette]==1.34.1->solara->mesa) (0.18.1)\n",
            "Requirement already satisfied: platformdirs>=2.5 in /usr/local/lib/python3.10/dist-packages (from jupyter-core!=5.0.*,>=4.12->jupyter-client>=7.0.0->solara-server[dev,starlette]==1.34.1->solara->mesa) (4.2.2)\n",
            "Requirement already satisfied: notebook>=4.4.1 in /usr/local/lib/python3.10/dist-packages (from widgetsnbextension~=3.6.0->ipywidgets>=7.7->solara-ui[all]==1.34.1->solara->mesa) (6.5.5)\n",
            "Requirement already satisfied: parso<0.9.0,>=0.8.3 in /usr/local/lib/python3.10/dist-packages (from jedi>=0.16->ipython>=4.0.0->ipywidgets>=7.7->solara-ui[all]==1.34.1->solara->mesa) (0.8.4)\n",
            "Requirement already satisfied: argon2-cffi in /usr/local/lib/python3.10/dist-packages (from notebook>=4.4.1->widgetsnbextension~=3.6.0->ipywidgets>=7.7->solara-ui[all]==1.34.1->solara->mesa) (23.1.0)\n",
            "Collecting jupyter-client>=7.0.0 (from solara-server[dev,starlette]==1.34.1->solara->mesa)\n",
            "  Downloading jupyter_client-7.4.9-py3-none-any.whl (133 kB)\n",
            "\u001b[2K     \u001b[90m━━━━━━━━━━━━━━━━━━━━━━━━━━━━━━━━━━━━━━━━\u001b[0m \u001b[32m133.5/133.5 kB\u001b[0m \u001b[31m11.9 MB/s\u001b[0m eta \u001b[36m0:00:00\u001b[0m\n",
            "\u001b[?25hRequirement already satisfied: nbconvert>=5 in /usr/local/lib/python3.10/dist-packages (from notebook>=4.4.1->widgetsnbextension~=3.6.0->ipywidgets>=7.7->solara-ui[all]==1.34.1->solara->mesa) (6.5.4)\n",
            "Requirement already satisfied: nest-asyncio>=1.5 in /usr/local/lib/python3.10/dist-packages (from notebook>=4.4.1->widgetsnbextension~=3.6.0->ipywidgets>=7.7->solara-ui[all]==1.34.1->solara->mesa) (1.6.0)\n",
            "Requirement already satisfied: Send2Trash>=1.8.0 in /usr/local/lib/python3.10/dist-packages (from notebook>=4.4.1->widgetsnbextension~=3.6.0->ipywidgets>=7.7->solara-ui[all]==1.34.1->solara->mesa) (1.8.3)\n",
            "Requirement already satisfied: terminado>=0.8.3 in /usr/local/lib/python3.10/dist-packages (from notebook>=4.4.1->widgetsnbextension~=3.6.0->ipywidgets>=7.7->solara-ui[all]==1.34.1->solara->mesa) (0.18.1)\n",
            "Requirement already satisfied: prometheus-client in /usr/local/lib/python3.10/dist-packages (from notebook>=4.4.1->widgetsnbextension~=3.6.0->ipywidgets>=7.7->solara-ui[all]==1.34.1->solara->mesa) (0.20.0)\n",
            "Requirement already satisfied: nbclassic>=0.4.7 in /usr/local/lib/python3.10/dist-packages (from notebook>=4.4.1->widgetsnbextension~=3.6.0->ipywidgets>=7.7->solara-ui[all]==1.34.1->solara->mesa) (1.1.0)\n",
            "Requirement already satisfied: entrypoints in /usr/local/lib/python3.10/dist-packages (from jupyter-client>=7.0.0->solara-server[dev,starlette]==1.34.1->solara->mesa) (0.4)\n",
            "Requirement already satisfied: ptyprocess>=0.5 in /usr/local/lib/python3.10/dist-packages (from pexpect>4.3->ipython>=4.0.0->ipywidgets>=7.7->solara-ui[all]==1.34.1->solara->mesa) (0.7.0)\n",
            "Requirement already satisfied: wcwidth in /usr/local/lib/python3.10/dist-packages (from prompt-toolkit!=3.0.0,!=3.0.1,<3.1.0,>=2.0.0->ipython>=4.0.0->ipywidgets>=7.7->solara-ui[all]==1.34.1->solara->mesa) (0.2.13)\n",
            "Requirement already satisfied: notebook-shim>=0.2.3 in /usr/local/lib/python3.10/dist-packages (from nbclassic>=0.4.7->notebook>=4.4.1->widgetsnbextension~=3.6.0->ipywidgets>=7.7->solara-ui[all]==1.34.1->solara->mesa) (0.2.4)\n",
            "Requirement already satisfied: lxml in /usr/local/lib/python3.10/dist-packages (from nbconvert>=5->notebook>=4.4.1->widgetsnbextension~=3.6.0->ipywidgets>=7.7->solara-ui[all]==1.34.1->solara->mesa) (4.9.4)\n",
            "Requirement already satisfied: beautifulsoup4 in /usr/local/lib/python3.10/dist-packages (from nbconvert>=5->notebook>=4.4.1->widgetsnbextension~=3.6.0->ipywidgets>=7.7->solara-ui[all]==1.34.1->solara->mesa) (4.12.3)\n",
            "Requirement already satisfied: bleach in /usr/local/lib/python3.10/dist-packages (from nbconvert>=5->notebook>=4.4.1->widgetsnbextension~=3.6.0->ipywidgets>=7.7->solara-ui[all]==1.34.1->solara->mesa) (6.1.0)\n",
            "Requirement already satisfied: defusedxml in /usr/local/lib/python3.10/dist-packages (from nbconvert>=5->notebook>=4.4.1->widgetsnbextension~=3.6.0->ipywidgets>=7.7->solara-ui[all]==1.34.1->solara->mesa) (0.7.1)\n",
            "Requirement already satisfied: jupyterlab-pygments in /usr/local/lib/python3.10/dist-packages (from nbconvert>=5->notebook>=4.4.1->widgetsnbextension~=3.6.0->ipywidgets>=7.7->solara-ui[all]==1.34.1->solara->mesa) (0.3.0)\n",
            "Requirement already satisfied: mistune<2,>=0.8.1 in /usr/local/lib/python3.10/dist-packages (from nbconvert>=5->notebook>=4.4.1->widgetsnbextension~=3.6.0->ipywidgets>=7.7->solara-ui[all]==1.34.1->solara->mesa) (0.8.4)\n",
            "Requirement already satisfied: nbclient>=0.5.0 in /usr/local/lib/python3.10/dist-packages (from nbconvert>=5->notebook>=4.4.1->widgetsnbextension~=3.6.0->ipywidgets>=7.7->solara-ui[all]==1.34.1->solara->mesa) (0.10.0)\n",
            "Requirement already satisfied: pandocfilters>=1.4.1 in /usr/local/lib/python3.10/dist-packages (from nbconvert>=5->notebook>=4.4.1->widgetsnbextension~=3.6.0->ipywidgets>=7.7->solara-ui[all]==1.34.1->solara->mesa) (1.5.1)\n",
            "Requirement already satisfied: tinycss2 in /usr/local/lib/python3.10/dist-packages (from nbconvert>=5->notebook>=4.4.1->widgetsnbextension~=3.6.0->ipywidgets>=7.7->solara-ui[all]==1.34.1->solara->mesa) (1.3.0)\n",
            "Requirement already satisfied: argon2-cffi-bindings in /usr/local/lib/python3.10/dist-packages (from argon2-cffi->notebook>=4.4.1->widgetsnbextension~=3.6.0->ipywidgets>=7.7->solara-ui[all]==1.34.1->solara->mesa) (21.2.0)\n",
            "Requirement already satisfied: jupyter-server<3,>=1.8 in /usr/local/lib/python3.10/dist-packages (from notebook-shim>=0.2.3->nbclassic>=0.4.7->notebook>=4.4.1->widgetsnbextension~=3.6.0->ipywidgets>=7.7->solara-ui[all]==1.34.1->solara->mesa) (1.24.0)\n",
            "Requirement already satisfied: cffi>=1.0.1 in /usr/local/lib/python3.10/dist-packages (from argon2-cffi-bindings->argon2-cffi->notebook>=4.4.1->widgetsnbextension~=3.6.0->ipywidgets>=7.7->solara-ui[all]==1.34.1->solara->mesa) (1.16.0)\n",
            "Requirement already satisfied: soupsieve>1.2 in /usr/local/lib/python3.10/dist-packages (from beautifulsoup4->nbconvert>=5->notebook>=4.4.1->widgetsnbextension~=3.6.0->ipywidgets>=7.7->solara-ui[all]==1.34.1->solara->mesa) (2.5)\n",
            "Requirement already satisfied: webencodings in /usr/local/lib/python3.10/dist-packages (from bleach->nbconvert>=5->notebook>=4.4.1->widgetsnbextension~=3.6.0->ipywidgets>=7.7->solara-ui[all]==1.34.1->solara->mesa) (0.5.1)\n",
            "Requirement already satisfied: pycparser in /usr/local/lib/python3.10/dist-packages (from cffi>=1.0.1->argon2-cffi-bindings->argon2-cffi->notebook>=4.4.1->widgetsnbextension~=3.6.0->ipywidgets>=7.7->solara-ui[all]==1.34.1->solara->mesa) (2.22)\n",
            "Requirement already satisfied: websocket-client in /usr/local/lib/python3.10/dist-packages (from jupyter-server<3,>=1.8->notebook-shim>=0.2.3->nbclassic>=0.4.7->notebook>=4.4.1->widgetsnbextension~=3.6.0->ipywidgets>=7.7->solara-ui[all]==1.34.1->solara->mesa) (1.8.0)\n",
            "Installing collected packages: websockets, watchdog, types-python-dateutil, pymdown-extensions, mesa-viz-tornado, jedi, h11, binaryornot, watchfiles, uvicorn, starlette, jupyter-client, arrow, rich-click, cookiecutter, reacton, ipyvue, ipyvuetify, solara-ui, solara-server, solara, mesa\n",
            "  Attempting uninstall: jupyter-client\n",
            "    Found existing installation: jupyter-client 6.1.12\n",
            "    Uninstalling jupyter-client-6.1.12:\n",
            "      Successfully uninstalled jupyter-client-6.1.12\n",
            "Successfully installed arrow-1.3.0 binaryornot-0.4.4 cookiecutter-2.6.0 h11-0.14.0 ipyvue-1.11.1 ipyvuetify-1.9.4 jedi-0.19.1 jupyter-client-7.4.9 mesa-2.3.1 mesa-viz-tornado-0.1.3 pymdown-extensions-10.8.1 reacton-1.8.3 rich-click-1.8.3 solara-1.34.1 solara-server-1.34.1 solara-ui-1.34.1 starlette-0.37.2 types-python-dateutil-2.9.0.20240316 uvicorn-0.30.1 watchdog-4.0.1 watchfiles-0.22.0 websockets-12.0\n"
          ]
        }
      ]
    },
    {
      "cell_type": "code",
      "source": [
        "from mesa import Agent, Model\n",
        "from mesa.time import RandomActivation\n",
        "from mesa.datacollection import DataCollector\n",
        "import numpy as np\n",
        "import pandas as pd\n",
        "\n",
        "class TechnicalAgent(Agent):\n",
        "    def __init__(self, unique_id, model, fast_window, slow_window, max_wait_time, profit_threshold):\n",
        "        super().__init__(unique_id, model)\n",
        "        self.fast_window = fast_window\n",
        "        self.slow_window = slow_window\n",
        "        self.max_wait_time = max_wait_time\n",
        "        self.profit_threshold = profit_threshold\n",
        "        self.last_signal_price = None\n",
        "        self.wait_time = self.random.uniform(0, max_wait_time)\n",
        "\n",
        "    def step(self):\n",
        "        # Implement the technical analysis strategy\n",
        "        pass\n",
        "\n",
        "class FundamentalAgent(Agent):\n",
        "    def __init__(self, unique_id, model, fundamental_price, market_threshold, opinion_threshold):\n",
        "        super().__init__(unique_id, model)\n",
        "        self.fundamental_price = fundamental_price\n",
        "        self.market_threshold = market_threshold\n",
        "        self.opinion_threshold = opinion_threshold\n",
        "\n",
        "    def step(self):\n",
        "        # Implement the fundamental analysis strategy\n",
        "        pass"
      ],
      "metadata": {
        "id": "LRgLftPh3t6H"
      },
      "execution_count": null,
      "outputs": []
    },
    {
      "cell_type": "code",
      "source": [
        "from mesa import Model\n",
        "from mesa.time import RandomActivation\n",
        "from mesa.datacollection import DataCollector\n",
        "\n",
        "class FinancialMarketModel(Model):\n",
        "    def __init__(self, num_technical_agents, num_fundamental_agents):\n",
        "        self.schedule = RandomActivation(self)\n",
        "        self.order_book = {'buy': [], 'sell': []}\n",
        "        self.price_history = []\n",
        "\n",
        "        # Create agents\n",
        "        for i in range(num_technical_agents):\n",
        "            agent = TechnicalAgent(i, self, fast_window=5, slow_window=10, max_wait_time=50, profit_threshold=0.01)\n",
        "            self.schedule.add(agent)\n",
        "        for i in range(num_fundamental_agents):\n",
        "            agent = FundamentalAgent(i + num_technical_agents, self, fundamental_price=self.random.uniform(20, 25), market_threshold=0.05, opinion_threshold=0.1)\n",
        "            self.schedule.add(agent)\n",
        "\n",
        "        # Set up data collection\n",
        "        self.datacollector = DataCollector(\n",
        "            model_reporters={\"Price\": lambda m: m.price_history[-1] if m.price_history else None},\n",
        "            agent_reporters={\"Wealth\": lambda a: a.wealth}\n",
        "        )\n",
        "\n",
        "    def step(self):\n",
        "        self.schedule.step()\n",
        "        self.match_orders()\n",
        "        self.datacollector.collect(self)\n",
        "\n",
        "    def place_order(self, agent_id, order_type, price):\n",
        "        self.order_book[order_type].append((agent_id, price))\n",
        "\n",
        "    def match_orders(self):\n",
        "        # Implement order matching logic\n",
        "        pass"
      ],
      "metadata": {
        "id": "5akXjWVF4Vt1"
      },
      "execution_count": null,
      "outputs": []
    },
    {
      "cell_type": "code",
      "source": [
        "from mesa.batchrunner import BatchRunner\n",
        "\n",
        "model_params = {\n",
        "    \"num_technical_agents\": 1500,\n",
        "    \"num_fundamental_agents\": 1000\n",
        "}\n",
        "\n",
        "# Create an instance of BatchRunner\n",
        "batch_run = BatchRunner(\n",
        "    FinancialMarketModel,\n",
        "    fixed_parameters=model_params,\n",
        "    iterations=5,  # Number of iterations\n",
        "    max_steps=1000,  # Number of steps per iteration\n",
        "    model_reporters={\"Price\": lambda m: m.price_history[-1] if m.price_history else None}\n",
        ")\n",
        "\n",
        "batch_run.run_all()\n",
        "\n",
        "# Extract and analyze results\n",
        "data = batch_run.get_model_vars_dataframe()\n",
        "print(data)"
      ],
      "metadata": {
        "colab": {
          "base_uri": "https://localhost:8080/",
          "height": 378
        },
        "id": "hE-esxow4ax8",
        "outputId": "325902b0-c1f1-4876-d4cb-362a2b623519"
      },
      "execution_count": null,
      "outputs": [
        {
          "output_type": "error",
          "ename": "ImportError",
          "evalue": "cannot import name 'BatchRunner' from 'mesa.batchrunner' (/usr/local/lib/python3.10/dist-packages/mesa/batchrunner.py)",
          "traceback": [
            "\u001b[0;31m---------------------------------------------------------------------------\u001b[0m",
            "\u001b[0;31mImportError\u001b[0m                               Traceback (most recent call last)",
            "\u001b[0;32m<ipython-input-6-4b20caf92103>\u001b[0m in \u001b[0;36m<cell line: 1>\u001b[0;34m()\u001b[0m\n\u001b[0;32m----> 1\u001b[0;31m \u001b[0;32mfrom\u001b[0m \u001b[0mmesa\u001b[0m\u001b[0;34m.\u001b[0m\u001b[0mbatchrunner\u001b[0m \u001b[0;32mimport\u001b[0m \u001b[0mBatchRunner\u001b[0m\u001b[0;34m\u001b[0m\u001b[0;34m\u001b[0m\u001b[0m\n\u001b[0m\u001b[1;32m      2\u001b[0m \u001b[0;34m\u001b[0m\u001b[0m\n\u001b[1;32m      3\u001b[0m model_params = {\n\u001b[1;32m      4\u001b[0m     \u001b[0;34m\"num_technical_agents\"\u001b[0m\u001b[0;34m:\u001b[0m \u001b[0;36m1500\u001b[0m\u001b[0;34m,\u001b[0m\u001b[0;34m\u001b[0m\u001b[0;34m\u001b[0m\u001b[0m\n\u001b[1;32m      5\u001b[0m     \u001b[0;34m\"num_fundamental_agents\"\u001b[0m\u001b[0;34m:\u001b[0m \u001b[0;36m1000\u001b[0m\u001b[0;34m\u001b[0m\u001b[0;34m\u001b[0m\u001b[0m\n",
            "\u001b[0;31mImportError\u001b[0m: cannot import name 'BatchRunner' from 'mesa.batchrunner' (/usr/local/lib/python3.10/dist-packages/mesa/batchrunner.py)",
            "",
            "\u001b[0;31m---------------------------------------------------------------------------\u001b[0;32m\nNOTE: If your import is failing due to a missing package, you can\nmanually install dependencies using either !pip or !apt.\n\nTo view examples of installing some common dependencies, click the\n\"Open Examples\" button below.\n\u001b[0;31m---------------------------------------------------------------------------\u001b[0m\n"
          ],
          "errorDetails": {
            "actions": [
              {
                "action": "open_url",
                "actionText": "Open Examples",
                "url": "/notebooks/snippets/importing_libraries.ipynb"
              }
            ]
          }
        }
      ]
    },
    {
      "cell_type": "code",
      "source": [
        "from mesa import Agent, Model\n",
        "from mesa.time import RandomActivation\n",
        "from mesa.datacollection import DataCollector\n",
        "from mesa.batchrunner import BatchRunner\n",
        "import numpy as np\n",
        "import pandas as pd\n",
        "\n",
        "class TechnicalAgent(Agent):\n",
        "    def __init__(self, unique_id, model, fast_window, slow_window, max_wait_time, profit_threshold):\n",
        "        super().__init__(unique_id, model)\n",
        "        self.fast_window = fast_window\n",
        "        self.slow_window = slow_window\n",
        "        self.max_wait_time = max_wait_time\n",
        "        self.profit_threshold = profit_threshold\n",
        "        self.last_signal_price = None\n",
        "        self.wait_time = self.random.uniform(0, max_wait_time)\n",
        "\n",
        "    def step(self):\n",
        "        # Implement the technical analysis strategy\n",
        "        pass\n",
        "\n",
        "class FundamentalAgent(Agent):\n",
        "    def __init__(self, unique_id, model, fundamental_price, market_threshold, opinion_threshold):\n",
        "        super().__init__(unique_id, model)\n",
        "        self.fundamental_price = fundamental_price\n",
        "        self.market_threshold = market_threshold\n",
        "        self.opinion_threshold = opinion_threshold\n",
        "\n",
        "    def step(self):\n",
        "        # Implement the fundamental analysis strategy\n",
        "        pass\n",
        "\n",
        "class FinancialMarketModel(Model):\n",
        "    def __init__(self, num_technical_agents, num_fundamental_agents):\n",
        "        self.schedule = RandomActivation(self)\n",
        "        self.order_book = {'buy': [], 'sell': []}\n",
        "        self.price_history = []\n",
        "\n",
        "        # Create agents\n",
        "        for i in range(num_technical_agents):\n",
        "            agent = TechnicalAgent(i, self, fast_window=5, slow_window=10, max_wait_time=50, profit_threshold=0.01)\n",
        "            self.schedule.add(agent)\n",
        "        for i in range(num_fundamental_agents):\n",
        "            agent = FundamentalAgent(i + num_technical_agents, self, fundamental_price=self.random.uniform(20, 25), market_threshold=0.05, opinion_threshold=0.1)\n",
        "            self.schedule.add(agent)\n",
        "\n",
        "        # Set up data collection\n",
        "        self.datacollector = DataCollector(\n",
        "            model_reporters={\"Price\": lambda m: m.price_history[-1] if m.price_history else None},\n",
        "            agent_reporters={\"Wealth\": lambda a: a.wealth if hasattr(a, 'wealth') else None}\n",
        "        )\n",
        "\n",
        "    def step(self):\n",
        "        self.schedule.step()\n",
        "        self.match_orders()\n",
        "        self.datacollector.collect(self)\n",
        "\n",
        "    def place_order(self, agent_id, order_type, price):\n",
        "        self.order_book[order_type].append((agent_id, price))\n",
        "\n",
        "    def match_orders(self):\n",
        "        # Implement order matching logic\n",
        "        pass\n",
        "\n",
        "# Define the model parameters\n",
        "model_params = {\n",
        "    \"num_technical_agents\": 750,\n",
        "    \"num_fundamental_agents\": 1000\n",
        "}\n",
        "\n",
        "# Create an instance of BatchRunner\n",
        "batch_run = BatchRunner(\n",
        "    FinancialMarketModel,\n",
        "    model_params=model_params,\n",
        "    iterations=5,  # Number of iterations\n",
        "    max_steps=1000,  # Number of steps per iteration\n",
        "    model_reporters={\"Price\": lambda m: m.price_history[-1] if m.price_history else None}\n",
        ")\n",
        "\n",
        "# Run the batch run\n",
        "batch_run.run_all()\n",
        "\n",
        "# Extract and analyze results\n",
        "data = batch_run.get_model_vars_dataframe()\n",
        "print(data)"
      ],
      "metadata": {
        "colab": {
          "base_uri": "https://localhost:8080/",
          "height": 378
        },
        "id": "9TWP63ko44K8",
        "outputId": "2d707ced-fe63-45b4-b367-325c03cb6adb"
      },
      "execution_count": null,
      "outputs": [
        {
          "output_type": "error",
          "ename": "ImportError",
          "evalue": "cannot import name 'BatchRunner' from 'mesa.batchrunner' (/usr/local/lib/python3.10/dist-packages/mesa/batchrunner.py)",
          "traceback": [
            "\u001b[0;31m---------------------------------------------------------------------------\u001b[0m",
            "\u001b[0;31mImportError\u001b[0m                               Traceback (most recent call last)",
            "\u001b[0;32m<ipython-input-5-87202c9c4695>\u001b[0m in \u001b[0;36m<cell line: 4>\u001b[0;34m()\u001b[0m\n\u001b[1;32m      2\u001b[0m \u001b[0;32mfrom\u001b[0m \u001b[0mmesa\u001b[0m\u001b[0;34m.\u001b[0m\u001b[0mtime\u001b[0m \u001b[0;32mimport\u001b[0m \u001b[0mRandomActivation\u001b[0m\u001b[0;34m\u001b[0m\u001b[0;34m\u001b[0m\u001b[0m\n\u001b[1;32m      3\u001b[0m \u001b[0;32mfrom\u001b[0m \u001b[0mmesa\u001b[0m\u001b[0;34m.\u001b[0m\u001b[0mdatacollection\u001b[0m \u001b[0;32mimport\u001b[0m \u001b[0mDataCollector\u001b[0m\u001b[0;34m\u001b[0m\u001b[0;34m\u001b[0m\u001b[0m\n\u001b[0;32m----> 4\u001b[0;31m \u001b[0;32mfrom\u001b[0m \u001b[0mmesa\u001b[0m\u001b[0;34m.\u001b[0m\u001b[0mbatchrunner\u001b[0m \u001b[0;32mimport\u001b[0m \u001b[0mBatchRunner\u001b[0m\u001b[0;34m\u001b[0m\u001b[0;34m\u001b[0m\u001b[0m\n\u001b[0m\u001b[1;32m      5\u001b[0m \u001b[0;32mimport\u001b[0m \u001b[0mnumpy\u001b[0m \u001b[0;32mas\u001b[0m \u001b[0mnp\u001b[0m\u001b[0;34m\u001b[0m\u001b[0;34m\u001b[0m\u001b[0m\n\u001b[1;32m      6\u001b[0m \u001b[0;32mimport\u001b[0m \u001b[0mpandas\u001b[0m \u001b[0;32mas\u001b[0m \u001b[0mpd\u001b[0m\u001b[0;34m\u001b[0m\u001b[0;34m\u001b[0m\u001b[0m\n",
            "\u001b[0;31mImportError\u001b[0m: cannot import name 'BatchRunner' from 'mesa.batchrunner' (/usr/local/lib/python3.10/dist-packages/mesa/batchrunner.py)",
            "",
            "\u001b[0;31m---------------------------------------------------------------------------\u001b[0;32m\nNOTE: If your import is failing due to a missing package, you can\nmanually install dependencies using either !pip or !apt.\n\nTo view examples of installing some common dependencies, click the\n\"Open Examples\" button below.\n\u001b[0;31m---------------------------------------------------------------------------\u001b[0m\n"
          ],
          "errorDetails": {
            "actions": [
              {
                "action": "open_url",
                "actionText": "Open Examples",
                "url": "/notebooks/snippets/importing_libraries.ipynb"
              }
            ]
          }
        }
      ]
    },
    {
      "cell_type": "markdown",
      "source": [
        "# MODEL OF HETEROGENEOUS MARKET WITH INTRINSIC RANDOMNESS"
      ],
      "metadata": {
        "id": "JJ4ezp_clOx4"
      }
    },
    {
      "cell_type": "code",
      "source": [
        "from mesa import Agent, Model\n",
        "from mesa.time import RandomActivation\n",
        "from mesa.space import Grid\n",
        "import numpy as np\n",
        "\n",
        "class TradingAgent(Agent):\n",
        "    def __init__(self, unique_id, model):\n",
        "        super().__init__(unique_id, model)\n",
        "        self.holdings = np.random.uniform(0, 1)\n",
        "        self.is_fundamentalist = np.random.choice([True, False])\n",
        "\n",
        "    def step(self):\n",
        "        market_price = self.model.market_price\n",
        "        if self.is_fundamentalist:\n",
        "            reference_price = np.log(market_price) + 0.5 * (np.log(self.model.fundamental_value) - np.log(market_price))\n",
        "        else:\n",
        "            reference_price = np.log(market_price) + 0.5 * (np.log(market_price) - np.log(market_price))\n",
        "\n",
        "        excess_demand = self.holdings * np.log(reference_price / market_price)\n",
        "        self.holdings += excess_demand\n",
        "\n",
        "        if self.holdings > 1:\n",
        "            self.holdings = 1\n",
        "        elif self.holdings < 0:\n",
        "            self.holdings = 0\n",
        "\n",
        "        self.is_fundamentalist = self.holdings > 0.5"
      ],
      "metadata": {
        "colab": {
          "base_uri": "https://localhost:8080/",
          "height": 378
        },
        "id": "T3nQV_AFlWjP",
        "outputId": "40d24103-dac5-406d-cca9-2576fb10cc77"
      },
      "execution_count": null,
      "outputs": [
        {
          "output_type": "error",
          "ename": "ImportError",
          "evalue": "cannot import name 'Grid' from 'mesa.space' (/usr/local/lib/python3.10/dist-packages/mesa/space.py)",
          "traceback": [
            "\u001b[0;31m---------------------------------------------------------------------------\u001b[0m",
            "\u001b[0;31mImportError\u001b[0m                               Traceback (most recent call last)",
            "\u001b[0;32m<ipython-input-3-5e768047dc51>\u001b[0m in \u001b[0;36m<cell line: 3>\u001b[0;34m()\u001b[0m\n\u001b[1;32m      1\u001b[0m \u001b[0;32mfrom\u001b[0m \u001b[0mmesa\u001b[0m \u001b[0;32mimport\u001b[0m \u001b[0mAgent\u001b[0m\u001b[0;34m,\u001b[0m \u001b[0mModel\u001b[0m\u001b[0;34m\u001b[0m\u001b[0;34m\u001b[0m\u001b[0m\n\u001b[1;32m      2\u001b[0m \u001b[0;32mfrom\u001b[0m \u001b[0mmesa\u001b[0m\u001b[0;34m.\u001b[0m\u001b[0mtime\u001b[0m \u001b[0;32mimport\u001b[0m \u001b[0mRandomActivation\u001b[0m\u001b[0;34m\u001b[0m\u001b[0;34m\u001b[0m\u001b[0m\n\u001b[0;32m----> 3\u001b[0;31m \u001b[0;32mfrom\u001b[0m \u001b[0mmesa\u001b[0m\u001b[0;34m.\u001b[0m\u001b[0mspace\u001b[0m \u001b[0;32mimport\u001b[0m \u001b[0mGrid\u001b[0m\u001b[0;34m\u001b[0m\u001b[0;34m\u001b[0m\u001b[0m\n\u001b[0m\u001b[1;32m      4\u001b[0m \u001b[0;32mimport\u001b[0m \u001b[0mnumpy\u001b[0m \u001b[0;32mas\u001b[0m \u001b[0mnp\u001b[0m\u001b[0;34m\u001b[0m\u001b[0;34m\u001b[0m\u001b[0m\n\u001b[1;32m      5\u001b[0m \u001b[0;34m\u001b[0m\u001b[0m\n",
            "\u001b[0;31mImportError\u001b[0m: cannot import name 'Grid' from 'mesa.space' (/usr/local/lib/python3.10/dist-packages/mesa/space.py)",
            "",
            "\u001b[0;31m---------------------------------------------------------------------------\u001b[0;32m\nNOTE: If your import is failing due to a missing package, you can\nmanually install dependencies using either !pip or !apt.\n\nTo view examples of installing some common dependencies, click the\n\"Open Examples\" button below.\n\u001b[0;31m---------------------------------------------------------------------------\u001b[0m\n"
          ],
          "errorDetails": {
            "actions": [
              {
                "action": "open_url",
                "actionText": "Open Examples",
                "url": "/notebooks/snippets/importing_libraries.ipynb"
              }
            ]
          }
        }
      ]
    },
    {
      "cell_type": "markdown",
      "source": [
        "# To be deleted"
      ],
      "metadata": {
        "id": "eyuVfzwq4YHv"
      }
    },
    {
      "cell_type": "code",
      "execution_count": null,
      "metadata": {
        "id": "SJIfPiZx3Rnw"
      },
      "outputs": [],
      "source": [
        "import pandas as pd\n",
        "import numpy as np\n",
        "import yfinance as yf\n",
        "from datetime import timedelta\n",
        "import matplotlib.pyplot as plt\n",
        "import os\n",
        "import finnhub"
      ]
    },
    {
      "cell_type": "code",
      "execution_count": null,
      "metadata": {
        "id": "znZFbOa13Rn0"
      },
      "outputs": [],
      "source": [
        "finnhub_client = finnhub.Client(api_key=\"cm291hhr01qvesfhj9s0cm291hhr01qvesfhj9sg\")"
      ]
    },
    {
      "cell_type": "code",
      "execution_count": null,
      "metadata": {
        "id": "cM6VklAN3Rn0"
      },
      "outputs": [],
      "source": [
        "# res_df = pd.DataFrame([])\n",
        "\n",
        "# for ticker in tickers:\n",
        "#     res = finnhub_client.transcripts_list(ticker)\n",
        "#     res = res['transcripts']\n",
        "#     res = pd.DataFrame(res)\n",
        "#     print(res.shape)\n",
        "#     res_df = pd.concat([res_df, res])\n",
        "\n",
        "# res_df.to_csv('earnings_res.csv', index=False)"
      ]
    },
    {
      "cell_type": "code",
      "execution_count": null,
      "metadata": {
        "id": "VVtVAJJ43Rn0"
      },
      "outputs": [],
      "source": [
        "\n",
        "\n",
        "# earnings_res = pd.read_csv('earnings_res.csv')\n",
        "\n",
        "# res_dfs = pd.DataFrame([])\n",
        "\n",
        "# for transcript_id in earnings_res['id'].to_list():\n",
        "#     res = finnhub_client.transcripts(transcript_id)\n",
        "\n",
        "#     res_df = pd.DataFrame(res['transcript'])\n",
        "#     if len(res_df):\n",
        "#         res_df['id'] = res['id']\n",
        "#         res_df['time'] = res['time']\n",
        "#         res_df['quarter'] = res['quarter']\n",
        "#         res_df['symbol'] = res['symbol']\n",
        "\n",
        "#     res_dfs = pd.concat([res_dfs, res_df])\n",
        "\n",
        "# res_dfs.to_csv('earnings_res_details.csv', index=False)"
      ]
    },
    {
      "cell_type": "code",
      "execution_count": null,
      "metadata": {
        "id": "krRPpQbE3Rn1"
      },
      "outputs": [],
      "source": [
        "[j for j in os.listdir('../data') if 'ibe' in j]"
      ]
    },
    {
      "cell_type": "code",
      "execution_count": null,
      "metadata": {
        "id": "L1CLogtz3Rn1"
      },
      "outputs": [],
      "source": [
        "details = pd.read_csv('../data/ibes_us_details_200501_202402.csv').sort_values(['TICKER', 'FPEDATS']).dropna(subset=['VALUE'])\n",
        "actuals = pd.read_csv('../data/ibes_us_actuals_200501_202402.csv').sort_values(['TICKER', 'PENDS']).dropna(subset=['VALUE'])"
      ]
    },
    {
      "cell_type": "code",
      "execution_count": null,
      "metadata": {
        "id": "OotuFRmR3Rn1"
      },
      "outputs": [],
      "source": [
        "tickers = list(details['TICKER'].unique())"
      ]
    },
    {
      "cell_type": "code",
      "execution_count": null,
      "metadata": {
        "id": "D7KVMk7d3Rn2"
      },
      "outputs": [],
      "source": [
        "symbols = list(actuals['TICKER'].unique())"
      ]
    },
    {
      "cell_type": "code",
      "execution_count": null,
      "metadata": {
        "id": "LnfE2ep73Rn2"
      },
      "outputs": [],
      "source": [
        "price_df = yf.download(symbols)\n",
        "price_df = price_df.dropna(how='all', axis=1)\n",
        "price_df = price_df.stack().reset_index()\n",
        "price_df = price_df.rename(columns={'Date':'ANNDATS', 'Ticker':'TICKER'})"
      ]
    },
    {
      "cell_type": "code",
      "execution_count": null,
      "metadata": {
        "id": "dbWSKA1Y3Rn2"
      },
      "outputs": [],
      "source": [
        "# PENDS - Financial Dates\n",
        "# ANNDATS - Annoucements Dates\n",
        "# Assume that between the PENDS and ACTDATS for the Actuals, the analyst details ACTDATS has to be within that range\n",
        "\n",
        "# Use ANALYS to know if it is more star analyst or not\n",
        "# Need the PENDS to merge but need the ANNDATS to trade\n",
        "\n",
        "# Care about QTR vs ANN?\n",
        "# Just take the latest or take the change: latest for now"
      ]
    },
    {
      "cell_type": "code",
      "execution_count": null,
      "metadata": {
        "id": "_E6yr85O3Rn2"
      },
      "outputs": [],
      "source": [
        "# # Filter for test purposes only\n",
        "# details = details[details['FPEDATS'] >= '2021-01-01']\n",
        "# actuals = actuals[actuals['PENDS'] >= '2021-01-01']"
      ]
    },
    {
      "cell_type": "code",
      "execution_count": null,
      "metadata": {
        "id": "dUS7B6nO3Rn3"
      },
      "outputs": [],
      "source": [
        "details = details[details['report_curr'] == 'USD']\n",
        "actuals = actuals[actuals['CURR_ACT'] == 'USD']"
      ]
    },
    {
      "cell_type": "code",
      "execution_count": null,
      "metadata": {
        "id": "7BuUrc8y3Rn3"
      },
      "outputs": [],
      "source": [
        "print(details.shape)"
      ]
    },
    {
      "cell_type": "code",
      "execution_count": null,
      "metadata": {
        "id": "Kn8qjABb3Rn3"
      },
      "outputs": [],
      "source": [
        "filter = actuals.nunique().sort_values().reset_index()\n",
        "actuals = actuals.drop(columns=filter[filter[0] < 2]['index'].to_list())\n",
        "\n",
        "filter = details.nunique().sort_values().reset_index()\n",
        "details = details.drop(columns=filter[filter[0] < 3]['index'].to_list())"
      ]
    },
    {
      "cell_type": "code",
      "execution_count": null,
      "metadata": {
        "id": "Hn_75pJO3Rn3"
      },
      "outputs": [],
      "source": [
        "actuals = actuals.drop(columns=[j for j in actuals.columns if 'TIMS' in j])\n",
        "details = details.drop(columns=[j for j in details.columns if 'TIMS' in j])"
      ]
    },
    {
      "cell_type": "code",
      "execution_count": null,
      "metadata": {
        "id": "6Ye6pj7q3Rn4"
      },
      "outputs": [],
      "source": [
        "# # Filter for analysts that write too many (can do more complex next time)\n",
        "# details['max_date'] = np.max(details[['ACTDATS', 'FPEDATS', 'ANNDATS']], axis=1)\n",
        "# details = details.sort_values(['TICKER', 'FPEDATS', 'ANALYS', 'max_date'])\n",
        "# details = details.drop_duplicates(subset=['TICKER', 'FPEDATS', 'ANALYS'], keep='last')"
      ]
    },
    {
      "cell_type": "code",
      "execution_count": null,
      "metadata": {
        "id": "GCDLNaqL3Rn4"
      },
      "outputs": [],
      "source": [
        "details = details.sort_values(['TICKER', 'FPEDATS', 'VALUE'])\n",
        "details['ANALYS_VALUE_diff'] = details.groupby(['TICKER', 'FPEDATS', 'ANALYS'])['VALUE'].diff()\n",
        "details['VALUE_diff'] = details.groupby(['TICKER', 'FPEDATS'])['VALUE'].diff()\n",
        "details['diff'] = np.where(details['ANALYS_VALUE_diff'].notnull(), details['ANALYS_VALUE_diff'], details['VALUE_diff'])\n",
        "details = details.drop(columns=['ANALYS_VALUE_diff', 'VALUE_diff'])"
      ]
    },
    {
      "cell_type": "code",
      "execution_count": null,
      "metadata": {
        "id": "rwZrrr563Rn4"
      },
      "outputs": [],
      "source": [
        "max_diff = details.groupby(['TICKER', 'FPEDATS', 'ANALYS'], as_index=False)['diff'].max().rename(columns={'diff':'max_diff'})\n",
        "max_diff = pd.merge(details, max_diff, how='left')\n",
        "max_diff = max_diff[max_diff['diff'] == max_diff['max_diff']][['TICKER', 'FPEDATS', 'ANALYS', 'VALUE']].rename(columns={'VALUE':'max_VALUE'})\n",
        "max_diff = max_diff.groupby(['TICKER', 'FPEDATS', 'ANALYS'], as_index=False).agg({'max_VALUE':'max'})\n",
        "max_diff = max_diff.drop_duplicates()"
      ]
    },
    {
      "cell_type": "code",
      "execution_count": null,
      "metadata": {
        "id": "W3cnf6VY3Rn4"
      },
      "outputs": [],
      "source": [
        "details = pd.merge(details, max_diff, how='left')\n",
        "details['max_VALUE'] = np.where(details['max_VALUE'].isnull(), details['VALUE'], details['max_VALUE'])\n",
        "details['freq'] = np.where(details['VALUE'] < details['max_VALUE'], 'QTR', 'ANN')\n",
        "details = details.drop(columns=['diff', 'max_VALUE'])\n",
        "# a lot of assumptions"
      ]
    },
    {
      "cell_type": "code",
      "execution_count": null,
      "metadata": {
        "id": "2AHCv4We3Rn4"
      },
      "outputs": [],
      "source": [
        "#can add more filters\n",
        "expec_df = details.groupby(['TICKER', 'FPEDATS', 'freq'], as_index=False).agg({'VALUE':['median', 'std', 'count']})\n",
        "expec_df.columns = ['TICKER', 'PENDS', 'PDICITY', 'consensus_median', 'consensus_dispersion', 'consensus_attention']"
      ]
    },
    {
      "cell_type": "code",
      "execution_count": null,
      "metadata": {
        "id": "r6IN8g9o3Rn5"
      },
      "outputs": [],
      "source": [
        "# actuals_expec = pd.merge(actuals, expec_df, how='left')\n",
        "# actuals_expec['earnings_surprise'] = (actuals_expec['VALUE'] - actuals_expec['consensus_median'])/actuals_expec['VALUE']\n",
        "\n",
        "# Assume ANN and QTR equally important\n",
        "# 'TICKER', 'PENDS', 'ANNDATS' is not accurate because apparently multiple PENDS can be on the same ANNDATS (so just use ANNDATS)\n",
        "actuals_expec_group = actuals_expec.groupby(['TICKER', 'ANNDATS'], as_index=False).agg({'earnings_surprise':'mean'})\n",
        "actuals_expec_group['earnings_surprise_sign'] = np.sign(actuals_expec_group['earnings_surprise'])"
      ]
    },
    {
      "cell_type": "code",
      "execution_count": null,
      "metadata": {
        "id": "K4AxcIg93Rn5"
      },
      "outputs": [],
      "source": [
        "actuals_expec[(actuals_expec['TICKER'] == 'RIMS') & (actuals_expec['ANNDATS'] == '2005-01-03')]"
      ]
    },
    {
      "cell_type": "code",
      "execution_count": null,
      "metadata": {
        "id": "DZC-3mYK3Rn5"
      },
      "outputs": [],
      "source": [
        "trading_days = sorted(list(actuals_expec_group['ANNDATS'].unique()))\n",
        "symbols = sorted(list(actuals_expec_group['TICKER'].unique()))\n",
        "rebalance_days = 30"
      ]
    },
    {
      "cell_type": "code",
      "execution_count": null,
      "metadata": {
        "id": "YuIVsxgl3Rn5"
      },
      "outputs": [],
      "source": [
        "actuals_expec_group['ANNDATS'] = pd.to_datetime(actuals_expec_group['ANNDATS'])\n",
        "actuals_expec_group = pd.merge(price_df, actuals_expec_group, how='left')\n",
        "\n",
        "# actuals_expec_group = actuals_expec_group.dropna(subset=['Adj Close'])\n",
        "actuals_expec_group = actuals_expec_group.sort_values(['TICKER', 'ANNDATS'])\n",
        "\n",
        "actuals_expec_group['rebalance_price'] = actuals_expec_group.groupby(['TICKER'])['Adj Close'].shift(-rebalance_days)\n",
        "actuals_expec_group = actuals_expec_group.dropna(subset=['earnings_surprise'])\n",
        "\n",
        "actuals_expec_group['returns'] = actuals_expec_group['rebalance_price']/actuals_expec_group['Adj Close']-1\n",
        "actuals_expec_group['year'] = actuals_expec_group['ANNDATS'].dt.year\n",
        "\n",
        "actuals_expec_group['month'] = actuals_expec_group['ANNDATS'].dt.month"
      ]
    },
    {
      "cell_type": "code",
      "execution_count": null,
      "metadata": {
        "id": "vXvudRnJ3Rn5"
      },
      "outputs": [],
      "source": [
        "calendar_weights = actuals_expec_group[['ANNDATS', 'earnings_surprise']].dropna(subset=['earnings_surprise'])\n",
        "calendar_weights['year'] = calendar_weights['ANNDATS'].dt.year\n",
        "calendar_weights['month'] = calendar_weights['ANNDATS'].dt.month\n",
        "calendar_weights['date'] = calendar_weights['ANNDATS'].dt.day\n",
        "calendar_weights = calendar_weights.groupby(['year', 'month'], as_index=False).agg({'date':'nunique'})\n",
        "calendar_weights['month_weights'] = 1/calendar_weights['date']"
      ]
    },
    {
      "cell_type": "code",
      "execution_count": null,
      "metadata": {
        "id": "X2pjVnqH3Rn6"
      },
      "outputs": [],
      "source": [
        "actuals_expec_group = pd.merge(actuals_expec_group, calendar_weights[['year', 'month', 'month_weights']], how='left')"
      ]
    },
    {
      "cell_type": "code",
      "execution_count": null,
      "metadata": {
        "id": "mTEV0CPi3Rn6"
      },
      "outputs": [],
      "source": [
        "actuals_expec_group\n"
      ]
    },
    {
      "cell_type": "code",
      "execution_count": null,
      "metadata": {
        "id": "Ibiad0gh3Rn6"
      },
      "outputs": [],
      "source": [
        "# actuals_expec_group.isnull().sum()"
      ]
    },
    {
      "cell_type": "code",
      "execution_count": null,
      "metadata": {
        "id": "bvNILlhS3Rn6"
      },
      "outputs": [],
      "source": [
        "max_cash = True"
      ]
    },
    {
      "cell_type": "code",
      "execution_count": null,
      "metadata": {
        "id": "FwFTSsJt3Rn6"
      },
      "outputs": [],
      "source": [
        "trade_dfs = pd.DataFrame([])\n",
        "\n",
        "for trading_date in trading_days:\n",
        "    if len(actuals_expec_group[actuals_expec_group['ANNDATS'] == trading_date]):\n",
        "        trade_df = actuals_expec_group[actuals_expec_group['ANNDATS'] == trading_date]\n",
        "        trade_df['weights'] = 1/len(trade_df)\n",
        "        if max_cash:\n",
        "            trade_df['weighted_returns'] = trade_df['earnings_surprise_sign'] * trade_df['returns'] * trade_df['weights'] * trade_df['month_weights']\n",
        "        else:\n",
        "            trade_df['weighted_returns'] = trade_df['earnings_surprise_sign'] * trade_df['returns'] * trade_df['weights'] * 1/rebalance_days\n",
        "\n",
        "        trade_dfs = pd.concat([trade_dfs, trade_df[['ANNDATS', 'weighted_returns']]])"
      ]
    },
    {
      "cell_type": "code",
      "execution_count": null,
      "metadata": {
        "id": "nr3NKD9M3Rn6"
      },
      "outputs": [],
      "source": [
        "agg_trade_dfs = trade_dfs.groupby('ANNDATS', as_index=False).agg({'weighted_returns':'sum'})\n",
        "agg_trade_dfs  = agg_trade_dfs[agg_trade_dfs['ANNDATS'] >= '2021-01-01']\n",
        "agg_trade_dfs ['cumsum_returns'] = agg_trade_dfs ['weighted_returns'].cumsum()\n",
        "agg_trade_dfs = agg_trade_dfs.set_index('ANNDATS')"
      ]
    },
    {
      "cell_type": "code",
      "execution_count": null,
      "metadata": {
        "id": "f7_GBD313Rn6"
      },
      "outputs": [],
      "source": [
        "spy = yf.download('SPY')\n",
        "spy['returns'] = spy['Adj Close'].pct_change().shift(-1)\n",
        "spy  = spy[spy.index >= '2021-01-01']\n",
        "spy['cumsum_returns'] = spy['returns'].cumsum()"
      ]
    },
    {
      "cell_type": "code",
      "execution_count": null,
      "metadata": {
        "id": "51D6vWAF3Rn7"
      },
      "outputs": [],
      "source": [
        "plt.figure(figsize=(10,7))\n",
        "plt.title('Cum Returns for Earnings Surprise Computation just follow')\n",
        "plt.plot(agg_trade_dfs['cumsum_returns'], label='earnings strat')\n",
        "plt.plot(spy['cumsum_returns'], label = 'spy')\n",
        "plt.legend()\n",
        "plt.show()"
      ]
    },
    {
      "cell_type": "code",
      "execution_count": null,
      "metadata": {
        "id": "CezlC1Nh3Rn7"
      },
      "outputs": [],
      "source": []
    },
    {
      "cell_type": "code",
      "execution_count": null,
      "metadata": {
        "id": "Z4h167SV3Rn7"
      },
      "outputs": [],
      "source": []
    },
    {
      "cell_type": "code",
      "execution_count": null,
      "metadata": {
        "id": "kBeJPUl23Rn7"
      },
      "outputs": [],
      "source": []
    }
  ],
  "metadata": {
    "kernelspec": {
      "display_name": "expr",
      "language": "python",
      "name": "python3"
    },
    "language_info": {
      "codemirror_mode": {
        "name": "ipython",
        "version": 3
      },
      "file_extension": ".py",
      "mimetype": "text/x-python",
      "name": "python",
      "nbconvert_exporter": "python",
      "pygments_lexer": "ipython3",
      "version": "3.10.14"
    },
    "colab": {
      "provenance": [],
      "toc_visible": true,
      "include_colab_link": true
    },
    "widgets": {
      "application/vnd.jupyter.widget-state+json": {
        "f4c8570436264aceabe889ff31dddb17": {
          "model_module": "@jupyter-widgets/controls",
          "model_name": "FloatSliderModel",
          "model_module_version": "1.5.0",
          "state": {
            "_dom_classes": [],
            "_model_module": "@jupyter-widgets/controls",
            "_model_module_version": "1.5.0",
            "_model_name": "FloatSliderModel",
            "_view_count": null,
            "_view_module": "@jupyter-widgets/controls",
            "_view_module_version": "1.5.0",
            "_view_name": "FloatSliderView",
            "continuous_update": true,
            "description": "Amplitude:",
            "description_tooltip": null,
            "disabled": false,
            "layout": "IPY_MODEL_315e178e15ac4a2ea00c7a96c49defd7",
            "max": 2,
            "min": 0.1,
            "orientation": "horizontal",
            "readout": true,
            "readout_format": ".2f",
            "step": 0.1,
            "style": "IPY_MODEL_c375b1c70fbe4bd29ddbe1fa877ef304",
            "value": 1
          }
        },
        "315e178e15ac4a2ea00c7a96c49defd7": {
          "model_module": "@jupyter-widgets/base",
          "model_name": "LayoutModel",
          "model_module_version": "1.2.0",
          "state": {
            "_model_module": "@jupyter-widgets/base",
            "_model_module_version": "1.2.0",
            "_model_name": "LayoutModel",
            "_view_count": null,
            "_view_module": "@jupyter-widgets/base",
            "_view_module_version": "1.2.0",
            "_view_name": "LayoutView",
            "align_content": null,
            "align_items": null,
            "align_self": null,
            "border": null,
            "bottom": null,
            "display": null,
            "flex": null,
            "flex_flow": null,
            "grid_area": null,
            "grid_auto_columns": null,
            "grid_auto_flow": null,
            "grid_auto_rows": null,
            "grid_column": null,
            "grid_gap": null,
            "grid_row": null,
            "grid_template_areas": null,
            "grid_template_columns": null,
            "grid_template_rows": null,
            "height": null,
            "justify_content": null,
            "justify_items": null,
            "left": null,
            "margin": null,
            "max_height": null,
            "max_width": null,
            "min_height": null,
            "min_width": null,
            "object_fit": null,
            "object_position": null,
            "order": null,
            "overflow": null,
            "overflow_x": null,
            "overflow_y": null,
            "padding": null,
            "right": null,
            "top": null,
            "visibility": null,
            "width": null
          }
        },
        "c375b1c70fbe4bd29ddbe1fa877ef304": {
          "model_module": "@jupyter-widgets/controls",
          "model_name": "SliderStyleModel",
          "model_module_version": "1.5.0",
          "state": {
            "_model_module": "@jupyter-widgets/controls",
            "_model_module_version": "1.5.0",
            "_model_name": "SliderStyleModel",
            "_view_count": null,
            "_view_module": "@jupyter-widgets/base",
            "_view_module_version": "1.2.0",
            "_view_name": "StyleView",
            "description_width": "",
            "handle_color": null
          }
        },
        "0d594c7180b2493583c34951f37aafff": {
          "model_module": "@jupyter-widgets/controls",
          "model_name": "FloatSliderModel",
          "model_module_version": "1.5.0",
          "state": {
            "_dom_classes": [],
            "_model_module": "@jupyter-widgets/controls",
            "_model_module_version": "1.5.0",
            "_model_name": "FloatSliderModel",
            "_view_count": null,
            "_view_module": "@jupyter-widgets/controls",
            "_view_module_version": "1.5.0",
            "_view_name": "FloatSliderView",
            "continuous_update": true,
            "description": "Frequency:",
            "description_tooltip": null,
            "disabled": false,
            "layout": "IPY_MODEL_6448353b51114030a8d86d98f18c2049",
            "max": 2,
            "min": 0.1,
            "orientation": "horizontal",
            "readout": true,
            "readout_format": ".2f",
            "step": 0.1,
            "style": "IPY_MODEL_04b74bc678ff45c5a9150dedeae27bd0",
            "value": 1
          }
        },
        "6448353b51114030a8d86d98f18c2049": {
          "model_module": "@jupyter-widgets/base",
          "model_name": "LayoutModel",
          "model_module_version": "1.2.0",
          "state": {
            "_model_module": "@jupyter-widgets/base",
            "_model_module_version": "1.2.0",
            "_model_name": "LayoutModel",
            "_view_count": null,
            "_view_module": "@jupyter-widgets/base",
            "_view_module_version": "1.2.0",
            "_view_name": "LayoutView",
            "align_content": null,
            "align_items": null,
            "align_self": null,
            "border": null,
            "bottom": null,
            "display": null,
            "flex": null,
            "flex_flow": null,
            "grid_area": null,
            "grid_auto_columns": null,
            "grid_auto_flow": null,
            "grid_auto_rows": null,
            "grid_column": null,
            "grid_gap": null,
            "grid_row": null,
            "grid_template_areas": null,
            "grid_template_columns": null,
            "grid_template_rows": null,
            "height": null,
            "justify_content": null,
            "justify_items": null,
            "left": null,
            "margin": null,
            "max_height": null,
            "max_width": null,
            "min_height": null,
            "min_width": null,
            "object_fit": null,
            "object_position": null,
            "order": null,
            "overflow": null,
            "overflow_x": null,
            "overflow_y": null,
            "padding": null,
            "right": null,
            "top": null,
            "visibility": null,
            "width": null
          }
        },
        "04b74bc678ff45c5a9150dedeae27bd0": {
          "model_module": "@jupyter-widgets/controls",
          "model_name": "SliderStyleModel",
          "model_module_version": "1.5.0",
          "state": {
            "_model_module": "@jupyter-widgets/controls",
            "_model_module_version": "1.5.0",
            "_model_name": "SliderStyleModel",
            "_view_count": null,
            "_view_module": "@jupyter-widgets/base",
            "_view_module_version": "1.2.0",
            "_view_name": "StyleView",
            "description_width": "",
            "handle_color": null
          }
        },
        "c71fe8902a64492eaaf2aa628fa665fe": {
          "model_module": "@jupyter-widgets/controls",
          "model_name": "ButtonModel",
          "model_module_version": "1.5.0",
          "state": {
            "_dom_classes": [],
            "_model_module": "@jupyter-widgets/controls",
            "_model_module_version": "1.5.0",
            "_model_name": "ButtonModel",
            "_view_count": null,
            "_view_module": "@jupyter-widgets/controls",
            "_view_module_version": "1.5.0",
            "_view_name": "ButtonView",
            "button_style": "",
            "description": "Update Plot",
            "disabled": false,
            "icon": "",
            "layout": "IPY_MODEL_e23397c8d0a841e185e3b911d6fbae87",
            "style": "IPY_MODEL_fcef64cb37144b3dbd10277e8a23e235",
            "tooltip": ""
          }
        },
        "e23397c8d0a841e185e3b911d6fbae87": {
          "model_module": "@jupyter-widgets/base",
          "model_name": "LayoutModel",
          "model_module_version": "1.2.0",
          "state": {
            "_model_module": "@jupyter-widgets/base",
            "_model_module_version": "1.2.0",
            "_model_name": "LayoutModel",
            "_view_count": null,
            "_view_module": "@jupyter-widgets/base",
            "_view_module_version": "1.2.0",
            "_view_name": "LayoutView",
            "align_content": null,
            "align_items": null,
            "align_self": null,
            "border": null,
            "bottom": null,
            "display": null,
            "flex": null,
            "flex_flow": null,
            "grid_area": null,
            "grid_auto_columns": null,
            "grid_auto_flow": null,
            "grid_auto_rows": null,
            "grid_column": null,
            "grid_gap": null,
            "grid_row": null,
            "grid_template_areas": null,
            "grid_template_columns": null,
            "grid_template_rows": null,
            "height": null,
            "justify_content": null,
            "justify_items": null,
            "left": null,
            "margin": null,
            "max_height": null,
            "max_width": null,
            "min_height": null,
            "min_width": null,
            "object_fit": null,
            "object_position": null,
            "order": null,
            "overflow": null,
            "overflow_x": null,
            "overflow_y": null,
            "padding": null,
            "right": null,
            "top": null,
            "visibility": null,
            "width": null
          }
        },
        "fcef64cb37144b3dbd10277e8a23e235": {
          "model_module": "@jupyter-widgets/controls",
          "model_name": "ButtonStyleModel",
          "model_module_version": "1.5.0",
          "state": {
            "_model_module": "@jupyter-widgets/controls",
            "_model_module_version": "1.5.0",
            "_model_name": "ButtonStyleModel",
            "_view_count": null,
            "_view_module": "@jupyter-widgets/base",
            "_view_module_version": "1.2.0",
            "_view_name": "StyleView",
            "button_color": null,
            "font_weight": ""
          }
        },
        "f399f454fb92485aa9b83499aeccdbb2": {
          "model_module": "@jupyter-widgets/controls",
          "model_name": "IntSliderModel",
          "model_module_version": "1.5.0",
          "state": {
            "_dom_classes": [],
            "_model_module": "@jupyter-widgets/controls",
            "_model_module_version": "1.5.0",
            "_model_name": "IntSliderModel",
            "_view_count": null,
            "_view_module": "@jupyter-widgets/controls",
            "_view_module_version": "1.5.0",
            "_view_name": "IntSliderView",
            "continuous_update": true,
            "description": "Num Traders:",
            "description_tooltip": null,
            "disabled": false,
            "layout": "IPY_MODEL_0b99725984894f099f7c56939860479c",
            "max": 10000,
            "min": 100,
            "orientation": "horizontal",
            "readout": true,
            "readout_format": "d",
            "step": 100,
            "style": "IPY_MODEL_41d368d8749f42bc9852b5b9e3599d66",
            "value": 8000
          }
        },
        "0b99725984894f099f7c56939860479c": {
          "model_module": "@jupyter-widgets/base",
          "model_name": "LayoutModel",
          "model_module_version": "1.2.0",
          "state": {
            "_model_module": "@jupyter-widgets/base",
            "_model_module_version": "1.2.0",
            "_model_name": "LayoutModel",
            "_view_count": null,
            "_view_module": "@jupyter-widgets/base",
            "_view_module_version": "1.2.0",
            "_view_name": "LayoutView",
            "align_content": null,
            "align_items": null,
            "align_self": null,
            "border": null,
            "bottom": null,
            "display": null,
            "flex": null,
            "flex_flow": null,
            "grid_area": null,
            "grid_auto_columns": null,
            "grid_auto_flow": null,
            "grid_auto_rows": null,
            "grid_column": null,
            "grid_gap": null,
            "grid_row": null,
            "grid_template_areas": null,
            "grid_template_columns": null,
            "grid_template_rows": null,
            "height": null,
            "justify_content": null,
            "justify_items": null,
            "left": null,
            "margin": null,
            "max_height": null,
            "max_width": null,
            "min_height": null,
            "min_width": null,
            "object_fit": null,
            "object_position": null,
            "order": null,
            "overflow": null,
            "overflow_x": null,
            "overflow_y": null,
            "padding": null,
            "right": null,
            "top": null,
            "visibility": null,
            "width": null
          }
        },
        "41d368d8749f42bc9852b5b9e3599d66": {
          "model_module": "@jupyter-widgets/controls",
          "model_name": "SliderStyleModel",
          "model_module_version": "1.5.0",
          "state": {
            "_model_module": "@jupyter-widgets/controls",
            "_model_module_version": "1.5.0",
            "_model_name": "SliderStyleModel",
            "_view_count": null,
            "_view_module": "@jupyter-widgets/base",
            "_view_module_version": "1.2.0",
            "_view_name": "StyleView",
            "description_width": "",
            "handle_color": null
          }
        },
        "6c42cced14c9490eac50c293de904812": {
          "model_module": "@jupyter-widgets/controls",
          "model_name": "IntSliderModel",
          "model_module_version": "1.5.0",
          "state": {
            "_dom_classes": [],
            "_model_module": "@jupyter-widgets/controls",
            "_model_module_version": "1.5.0",
            "_model_name": "IntSliderModel",
            "_view_count": null,
            "_view_module": "@jupyter-widgets/controls",
            "_view_module_version": "1.5.0",
            "_view_name": "IntSliderView",
            "continuous_update": true,
            "description": "Timesteps:",
            "description_tooltip": null,
            "disabled": false,
            "layout": "IPY_MODEL_7af3fb4904854cc5b946c8a087d5eb52",
            "max": 100,
            "min": 10,
            "orientation": "horizontal",
            "readout": true,
            "readout_format": "d",
            "step": 10,
            "style": "IPY_MODEL_90eacd9ebf984f028d4b22b90d05c38c",
            "value": 50
          }
        },
        "7af3fb4904854cc5b946c8a087d5eb52": {
          "model_module": "@jupyter-widgets/base",
          "model_name": "LayoutModel",
          "model_module_version": "1.2.0",
          "state": {
            "_model_module": "@jupyter-widgets/base",
            "_model_module_version": "1.2.0",
            "_model_name": "LayoutModel",
            "_view_count": null,
            "_view_module": "@jupyter-widgets/base",
            "_view_module_version": "1.2.0",
            "_view_name": "LayoutView",
            "align_content": null,
            "align_items": null,
            "align_self": null,
            "border": null,
            "bottom": null,
            "display": null,
            "flex": null,
            "flex_flow": null,
            "grid_area": null,
            "grid_auto_columns": null,
            "grid_auto_flow": null,
            "grid_auto_rows": null,
            "grid_column": null,
            "grid_gap": null,
            "grid_row": null,
            "grid_template_areas": null,
            "grid_template_columns": null,
            "grid_template_rows": null,
            "height": null,
            "justify_content": null,
            "justify_items": null,
            "left": null,
            "margin": null,
            "max_height": null,
            "max_width": null,
            "min_height": null,
            "min_width": null,
            "object_fit": null,
            "object_position": null,
            "order": null,
            "overflow": null,
            "overflow_x": null,
            "overflow_y": null,
            "padding": null,
            "right": null,
            "top": null,
            "visibility": null,
            "width": null
          }
        },
        "90eacd9ebf984f028d4b22b90d05c38c": {
          "model_module": "@jupyter-widgets/controls",
          "model_name": "SliderStyleModel",
          "model_module_version": "1.5.0",
          "state": {
            "_model_module": "@jupyter-widgets/controls",
            "_model_module_version": "1.5.0",
            "_model_name": "SliderStyleModel",
            "_view_count": null,
            "_view_module": "@jupyter-widgets/base",
            "_view_module_version": "1.2.0",
            "_view_name": "StyleView",
            "description_width": "",
            "handle_color": null
          }
        },
        "5392a5c6eb5f4f4ab88bbbabdfa24131": {
          "model_module": "@jupyter-widgets/controls",
          "model_name": "ButtonModel",
          "model_module_version": "1.5.0",
          "state": {
            "_dom_classes": [],
            "_model_module": "@jupyter-widgets/controls",
            "_model_module_version": "1.5.0",
            "_model_name": "ButtonModel",
            "_view_count": null,
            "_view_module": "@jupyter-widgets/controls",
            "_view_module_version": "1.5.0",
            "_view_name": "ButtonView",
            "button_style": "",
            "description": "Run Simulation",
            "disabled": false,
            "icon": "",
            "layout": "IPY_MODEL_b5fd81a411cb44e88db7b3db676b714c",
            "style": "IPY_MODEL_a12c37afeb9842ddbdfbfe5ca253f727",
            "tooltip": ""
          }
        },
        "b5fd81a411cb44e88db7b3db676b714c": {
          "model_module": "@jupyter-widgets/base",
          "model_name": "LayoutModel",
          "model_module_version": "1.2.0",
          "state": {
            "_model_module": "@jupyter-widgets/base",
            "_model_module_version": "1.2.0",
            "_model_name": "LayoutModel",
            "_view_count": null,
            "_view_module": "@jupyter-widgets/base",
            "_view_module_version": "1.2.0",
            "_view_name": "LayoutView",
            "align_content": null,
            "align_items": null,
            "align_self": null,
            "border": null,
            "bottom": null,
            "display": null,
            "flex": null,
            "flex_flow": null,
            "grid_area": null,
            "grid_auto_columns": null,
            "grid_auto_flow": null,
            "grid_auto_rows": null,
            "grid_column": null,
            "grid_gap": null,
            "grid_row": null,
            "grid_template_areas": null,
            "grid_template_columns": null,
            "grid_template_rows": null,
            "height": null,
            "justify_content": null,
            "justify_items": null,
            "left": null,
            "margin": null,
            "max_height": null,
            "max_width": null,
            "min_height": null,
            "min_width": null,
            "object_fit": null,
            "object_position": null,
            "order": null,
            "overflow": null,
            "overflow_x": null,
            "overflow_y": null,
            "padding": null,
            "right": null,
            "top": null,
            "visibility": null,
            "width": null
          }
        },
        "a12c37afeb9842ddbdfbfe5ca253f727": {
          "model_module": "@jupyter-widgets/controls",
          "model_name": "ButtonStyleModel",
          "model_module_version": "1.5.0",
          "state": {
            "_model_module": "@jupyter-widgets/controls",
            "_model_module_version": "1.5.0",
            "_model_name": "ButtonStyleModel",
            "_view_count": null,
            "_view_module": "@jupyter-widgets/base",
            "_view_module_version": "1.2.0",
            "_view_name": "StyleView",
            "button_color": null,
            "font_weight": ""
          }
        },
        "16fd2fbb3efc45878492d8e501580463": {
          "model_module": "@jupyter-widgets/output",
          "model_name": "OutputModel",
          "model_module_version": "1.0.0",
          "state": {
            "_dom_classes": [],
            "_model_module": "@jupyter-widgets/output",
            "_model_module_version": "1.0.0",
            "_model_name": "OutputModel",
            "_view_count": null,
            "_view_module": "@jupyter-widgets/output",
            "_view_module_version": "1.0.0",
            "_view_name": "OutputView",
            "layout": "IPY_MODEL_e0e922d6e9db4aecbb24d560cad40818",
            "msg_id": "",
            "outputs": [
              {
                "output_type": "display_data",
                "data": {
                  "application/vnd.plotly.v1+json": {
                    "data": [
                      {
                        "mode": "lines",
                        "name": "Stock Price",
                        "y": [
                          -0.3925555140987108,
                          -8.95543572246818,
                          -96.21133746532865,
                          -252.97823491923265,
                          -409.86119327511494,
                          -566.7604735726813,
                          -723.5610839670871,
                          -880.338013661695,
                          -1037.2131362991233,
                          -1194.111345691153,
                          -1350.9569574190605,
                          -1507.8446035980885,
                          -1664.7119297404895,
                          -1821.5659836329198,
                          -1978.39172152152,
                          -2135.2663236764406,
                          -2292.119000883184,
                          -2448.8535139852524,
                          -2605.7211510737534,
                          -2762.4981519589587,
                          -2919.3562754053646,
                          -3076.174030507605,
                          -3232.9395653660767,
                          -3389.9158124615965,
                          -3546.7364173600054,
                          -3703.6073631403347,
                          -3860.447414220838,
                          -4017.45948571387,
                          -4174.336348031494,
                          -4331.221441520274,
                          -4488.105177455597,
                          -4644.949713777319,
                          -4801.815909345074,
                          -4958.606761336052,
                          -5115.4268338002685,
                          -5272.382924241784,
                          -5429.249177744802,
                          -5586.014056799377,
                          -5742.903781191487,
                          -5899.741111808117,
                          -6056.56824075701,
                          -6213.39857808422,
                          -6370.215134780595,
                          -6527.032913733272,
                          -6683.842154769386,
                          -6840.606791771947,
                          -6997.410584521368,
                          -7154.25709134796,
                          -7311.094118765774,
                          -7467.9423103724
                        ],
                        "type": "scatter"
                      }
                    ],
                    "layout": {
                      "template": {
                        "data": {
                          "barpolar": [
                            {
                              "marker": {
                                "line": {
                                  "color": "#E5ECF6",
                                  "width": 0.5
                                },
                                "pattern": {
                                  "fillmode": "overlay",
                                  "size": 10,
                                  "solidity": 0.2
                                }
                              },
                              "type": "barpolar"
                            }
                          ],
                          "bar": [
                            {
                              "error_x": {
                                "color": "#2a3f5f"
                              },
                              "error_y": {
                                "color": "#2a3f5f"
                              },
                              "marker": {
                                "line": {
                                  "color": "#E5ECF6",
                                  "width": 0.5
                                },
                                "pattern": {
                                  "fillmode": "overlay",
                                  "size": 10,
                                  "solidity": 0.2
                                }
                              },
                              "type": "bar"
                            }
                          ],
                          "carpet": [
                            {
                              "aaxis": {
                                "endlinecolor": "#2a3f5f",
                                "gridcolor": "white",
                                "linecolor": "white",
                                "minorgridcolor": "white",
                                "startlinecolor": "#2a3f5f"
                              },
                              "baxis": {
                                "endlinecolor": "#2a3f5f",
                                "gridcolor": "white",
                                "linecolor": "white",
                                "minorgridcolor": "white",
                                "startlinecolor": "#2a3f5f"
                              },
                              "type": "carpet"
                            }
                          ],
                          "choropleth": [
                            {
                              "colorbar": {
                                "outlinewidth": 0,
                                "ticks": ""
                              },
                              "type": "choropleth"
                            }
                          ],
                          "contourcarpet": [
                            {
                              "colorbar": {
                                "outlinewidth": 0,
                                "ticks": ""
                              },
                              "type": "contourcarpet"
                            }
                          ],
                          "contour": [
                            {
                              "colorbar": {
                                "outlinewidth": 0,
                                "ticks": ""
                              },
                              "colorscale": [
                                [
                                  0,
                                  "#0d0887"
                                ],
                                [
                                  0.1111111111111111,
                                  "#46039f"
                                ],
                                [
                                  0.2222222222222222,
                                  "#7201a8"
                                ],
                                [
                                  0.3333333333333333,
                                  "#9c179e"
                                ],
                                [
                                  0.4444444444444444,
                                  "#bd3786"
                                ],
                                [
                                  0.5555555555555556,
                                  "#d8576b"
                                ],
                                [
                                  0.6666666666666666,
                                  "#ed7953"
                                ],
                                [
                                  0.7777777777777778,
                                  "#fb9f3a"
                                ],
                                [
                                  0.8888888888888888,
                                  "#fdca26"
                                ],
                                [
                                  1,
                                  "#f0f921"
                                ]
                              ],
                              "type": "contour"
                            }
                          ],
                          "heatmapgl": [
                            {
                              "colorbar": {
                                "outlinewidth": 0,
                                "ticks": ""
                              },
                              "colorscale": [
                                [
                                  0,
                                  "#0d0887"
                                ],
                                [
                                  0.1111111111111111,
                                  "#46039f"
                                ],
                                [
                                  0.2222222222222222,
                                  "#7201a8"
                                ],
                                [
                                  0.3333333333333333,
                                  "#9c179e"
                                ],
                                [
                                  0.4444444444444444,
                                  "#bd3786"
                                ],
                                [
                                  0.5555555555555556,
                                  "#d8576b"
                                ],
                                [
                                  0.6666666666666666,
                                  "#ed7953"
                                ],
                                [
                                  0.7777777777777778,
                                  "#fb9f3a"
                                ],
                                [
                                  0.8888888888888888,
                                  "#fdca26"
                                ],
                                [
                                  1,
                                  "#f0f921"
                                ]
                              ],
                              "type": "heatmapgl"
                            }
                          ],
                          "heatmap": [
                            {
                              "colorbar": {
                                "outlinewidth": 0,
                                "ticks": ""
                              },
                              "colorscale": [
                                [
                                  0,
                                  "#0d0887"
                                ],
                                [
                                  0.1111111111111111,
                                  "#46039f"
                                ],
                                [
                                  0.2222222222222222,
                                  "#7201a8"
                                ],
                                [
                                  0.3333333333333333,
                                  "#9c179e"
                                ],
                                [
                                  0.4444444444444444,
                                  "#bd3786"
                                ],
                                [
                                  0.5555555555555556,
                                  "#d8576b"
                                ],
                                [
                                  0.6666666666666666,
                                  "#ed7953"
                                ],
                                [
                                  0.7777777777777778,
                                  "#fb9f3a"
                                ],
                                [
                                  0.8888888888888888,
                                  "#fdca26"
                                ],
                                [
                                  1,
                                  "#f0f921"
                                ]
                              ],
                              "type": "heatmap"
                            }
                          ],
                          "histogram2dcontour": [
                            {
                              "colorbar": {
                                "outlinewidth": 0,
                                "ticks": ""
                              },
                              "colorscale": [
                                [
                                  0,
                                  "#0d0887"
                                ],
                                [
                                  0.1111111111111111,
                                  "#46039f"
                                ],
                                [
                                  0.2222222222222222,
                                  "#7201a8"
                                ],
                                [
                                  0.3333333333333333,
                                  "#9c179e"
                                ],
                                [
                                  0.4444444444444444,
                                  "#bd3786"
                                ],
                                [
                                  0.5555555555555556,
                                  "#d8576b"
                                ],
                                [
                                  0.6666666666666666,
                                  "#ed7953"
                                ],
                                [
                                  0.7777777777777778,
                                  "#fb9f3a"
                                ],
                                [
                                  0.8888888888888888,
                                  "#fdca26"
                                ],
                                [
                                  1,
                                  "#f0f921"
                                ]
                              ],
                              "type": "histogram2dcontour"
                            }
                          ],
                          "histogram2d": [
                            {
                              "colorbar": {
                                "outlinewidth": 0,
                                "ticks": ""
                              },
                              "colorscale": [
                                [
                                  0,
                                  "#0d0887"
                                ],
                                [
                                  0.1111111111111111,
                                  "#46039f"
                                ],
                                [
                                  0.2222222222222222,
                                  "#7201a8"
                                ],
                                [
                                  0.3333333333333333,
                                  "#9c179e"
                                ],
                                [
                                  0.4444444444444444,
                                  "#bd3786"
                                ],
                                [
                                  0.5555555555555556,
                                  "#d8576b"
                                ],
                                [
                                  0.6666666666666666,
                                  "#ed7953"
                                ],
                                [
                                  0.7777777777777778,
                                  "#fb9f3a"
                                ],
                                [
                                  0.8888888888888888,
                                  "#fdca26"
                                ],
                                [
                                  1,
                                  "#f0f921"
                                ]
                              ],
                              "type": "histogram2d"
                            }
                          ],
                          "histogram": [
                            {
                              "marker": {
                                "pattern": {
                                  "fillmode": "overlay",
                                  "size": 10,
                                  "solidity": 0.2
                                }
                              },
                              "type": "histogram"
                            }
                          ],
                          "mesh3d": [
                            {
                              "colorbar": {
                                "outlinewidth": 0,
                                "ticks": ""
                              },
                              "type": "mesh3d"
                            }
                          ],
                          "parcoords": [
                            {
                              "line": {
                                "colorbar": {
                                  "outlinewidth": 0,
                                  "ticks": ""
                                }
                              },
                              "type": "parcoords"
                            }
                          ],
                          "pie": [
                            {
                              "automargin": true,
                              "type": "pie"
                            }
                          ],
                          "scatter3d": [
                            {
                              "line": {
                                "colorbar": {
                                  "outlinewidth": 0,
                                  "ticks": ""
                                }
                              },
                              "marker": {
                                "colorbar": {
                                  "outlinewidth": 0,
                                  "ticks": ""
                                }
                              },
                              "type": "scatter3d"
                            }
                          ],
                          "scattercarpet": [
                            {
                              "marker": {
                                "colorbar": {
                                  "outlinewidth": 0,
                                  "ticks": ""
                                }
                              },
                              "type": "scattercarpet"
                            }
                          ],
                          "scattergeo": [
                            {
                              "marker": {
                                "colorbar": {
                                  "outlinewidth": 0,
                                  "ticks": ""
                                }
                              },
                              "type": "scattergeo"
                            }
                          ],
                          "scattergl": [
                            {
                              "marker": {
                                "colorbar": {
                                  "outlinewidth": 0,
                                  "ticks": ""
                                }
                              },
                              "type": "scattergl"
                            }
                          ],
                          "scattermapbox": [
                            {
                              "marker": {
                                "colorbar": {
                                  "outlinewidth": 0,
                                  "ticks": ""
                                }
                              },
                              "type": "scattermapbox"
                            }
                          ],
                          "scatterpolargl": [
                            {
                              "marker": {
                                "colorbar": {
                                  "outlinewidth": 0,
                                  "ticks": ""
                                }
                              },
                              "type": "scatterpolargl"
                            }
                          ],
                          "scatterpolar": [
                            {
                              "marker": {
                                "colorbar": {
                                  "outlinewidth": 0,
                                  "ticks": ""
                                }
                              },
                              "type": "scatterpolar"
                            }
                          ],
                          "scatter": [
                            {
                              "fillpattern": {
                                "fillmode": "overlay",
                                "size": 10,
                                "solidity": 0.2
                              },
                              "type": "scatter"
                            }
                          ],
                          "scatterternary": [
                            {
                              "marker": {
                                "colorbar": {
                                  "outlinewidth": 0,
                                  "ticks": ""
                                }
                              },
                              "type": "scatterternary"
                            }
                          ],
                          "surface": [
                            {
                              "colorbar": {
                                "outlinewidth": 0,
                                "ticks": ""
                              },
                              "colorscale": [
                                [
                                  0,
                                  "#0d0887"
                                ],
                                [
                                  0.1111111111111111,
                                  "#46039f"
                                ],
                                [
                                  0.2222222222222222,
                                  "#7201a8"
                                ],
                                [
                                  0.3333333333333333,
                                  "#9c179e"
                                ],
                                [
                                  0.4444444444444444,
                                  "#bd3786"
                                ],
                                [
                                  0.5555555555555556,
                                  "#d8576b"
                                ],
                                [
                                  0.6666666666666666,
                                  "#ed7953"
                                ],
                                [
                                  0.7777777777777778,
                                  "#fb9f3a"
                                ],
                                [
                                  0.8888888888888888,
                                  "#fdca26"
                                ],
                                [
                                  1,
                                  "#f0f921"
                                ]
                              ],
                              "type": "surface"
                            }
                          ],
                          "table": [
                            {
                              "cells": {
                                "fill": {
                                  "color": "#EBF0F8"
                                },
                                "line": {
                                  "color": "white"
                                }
                              },
                              "header": {
                                "fill": {
                                  "color": "#C8D4E3"
                                },
                                "line": {
                                  "color": "white"
                                }
                              },
                              "type": "table"
                            }
                          ]
                        },
                        "layout": {
                          "annotationdefaults": {
                            "arrowcolor": "#2a3f5f",
                            "arrowhead": 0,
                            "arrowwidth": 1
                          },
                          "autotypenumbers": "strict",
                          "coloraxis": {
                            "colorbar": {
                              "outlinewidth": 0,
                              "ticks": ""
                            }
                          },
                          "colorscale": {
                            "diverging": [
                              [
                                0,
                                "#8e0152"
                              ],
                              [
                                0.1,
                                "#c51b7d"
                              ],
                              [
                                0.2,
                                "#de77ae"
                              ],
                              [
                                0.3,
                                "#f1b6da"
                              ],
                              [
                                0.4,
                                "#fde0ef"
                              ],
                              [
                                0.5,
                                "#f7f7f7"
                              ],
                              [
                                0.6,
                                "#e6f5d0"
                              ],
                              [
                                0.7,
                                "#b8e186"
                              ],
                              [
                                0.8,
                                "#7fbc41"
                              ],
                              [
                                0.9,
                                "#4d9221"
                              ],
                              [
                                1,
                                "#276419"
                              ]
                            ],
                            "sequential": [
                              [
                                0,
                                "#0d0887"
                              ],
                              [
                                0.1111111111111111,
                                "#46039f"
                              ],
                              [
                                0.2222222222222222,
                                "#7201a8"
                              ],
                              [
                                0.3333333333333333,
                                "#9c179e"
                              ],
                              [
                                0.4444444444444444,
                                "#bd3786"
                              ],
                              [
                                0.5555555555555556,
                                "#d8576b"
                              ],
                              [
                                0.6666666666666666,
                                "#ed7953"
                              ],
                              [
                                0.7777777777777778,
                                "#fb9f3a"
                              ],
                              [
                                0.8888888888888888,
                                "#fdca26"
                              ],
                              [
                                1,
                                "#f0f921"
                              ]
                            ],
                            "sequentialminus": [
                              [
                                0,
                                "#0d0887"
                              ],
                              [
                                0.1111111111111111,
                                "#46039f"
                              ],
                              [
                                0.2222222222222222,
                                "#7201a8"
                              ],
                              [
                                0.3333333333333333,
                                "#9c179e"
                              ],
                              [
                                0.4444444444444444,
                                "#bd3786"
                              ],
                              [
                                0.5555555555555556,
                                "#d8576b"
                              ],
                              [
                                0.6666666666666666,
                                "#ed7953"
                              ],
                              [
                                0.7777777777777778,
                                "#fb9f3a"
                              ],
                              [
                                0.8888888888888888,
                                "#fdca26"
                              ],
                              [
                                1,
                                "#f0f921"
                              ]
                            ]
                          },
                          "colorway": [
                            "#636efa",
                            "#EF553B",
                            "#00cc96",
                            "#ab63fa",
                            "#FFA15A",
                            "#19d3f3",
                            "#FF6692",
                            "#B6E880",
                            "#FF97FF",
                            "#FECB52"
                          ],
                          "font": {
                            "color": "#2a3f5f"
                          },
                          "geo": {
                            "bgcolor": "white",
                            "lakecolor": "white",
                            "landcolor": "#E5ECF6",
                            "showlakes": true,
                            "showland": true,
                            "subunitcolor": "white"
                          },
                          "hoverlabel": {
                            "align": "left"
                          },
                          "hovermode": "closest",
                          "mapbox": {
                            "style": "light"
                          },
                          "paper_bgcolor": "white",
                          "plot_bgcolor": "#E5ECF6",
                          "polar": {
                            "angularaxis": {
                              "gridcolor": "white",
                              "linecolor": "white",
                              "ticks": ""
                            },
                            "bgcolor": "#E5ECF6",
                            "radialaxis": {
                              "gridcolor": "white",
                              "linecolor": "white",
                              "ticks": ""
                            }
                          },
                          "scene": {
                            "xaxis": {
                              "backgroundcolor": "#E5ECF6",
                              "gridcolor": "white",
                              "gridwidth": 2,
                              "linecolor": "white",
                              "showbackground": true,
                              "ticks": "",
                              "zerolinecolor": "white"
                            },
                            "yaxis": {
                              "backgroundcolor": "#E5ECF6",
                              "gridcolor": "white",
                              "gridwidth": 2,
                              "linecolor": "white",
                              "showbackground": true,
                              "ticks": "",
                              "zerolinecolor": "white"
                            },
                            "zaxis": {
                              "backgroundcolor": "#E5ECF6",
                              "gridcolor": "white",
                              "gridwidth": 2,
                              "linecolor": "white",
                              "showbackground": true,
                              "ticks": "",
                              "zerolinecolor": "white"
                            }
                          },
                          "shapedefaults": {
                            "line": {
                              "color": "#2a3f5f"
                            }
                          },
                          "ternary": {
                            "aaxis": {
                              "gridcolor": "white",
                              "linecolor": "white",
                              "ticks": ""
                            },
                            "baxis": {
                              "gridcolor": "white",
                              "linecolor": "white",
                              "ticks": ""
                            },
                            "bgcolor": "#E5ECF6",
                            "caxis": {
                              "gridcolor": "white",
                              "linecolor": "white",
                              "ticks": ""
                            }
                          },
                          "title": {
                            "x": 0.05
                          },
                          "xaxis": {
                            "automargin": true,
                            "gridcolor": "white",
                            "linecolor": "white",
                            "ticks": "",
                            "title": {
                              "standoff": 15
                            },
                            "zerolinecolor": "white",
                            "zerolinewidth": 2
                          },
                          "yaxis": {
                            "automargin": true,
                            "gridcolor": "white",
                            "linecolor": "white",
                            "ticks": "",
                            "title": {
                              "standoff": 15
                            },
                            "zerolinecolor": "white",
                            "zerolinewidth": 2
                          }
                        }
                      },
                      "title": {
                        "text": "Stock Market Simulation Over Time"
                      },
                      "xaxis": {
                        "title": {
                          "text": "Time Steps"
                        }
                      },
                      "yaxis": {
                        "title": {
                          "text": "Normalized Price"
                        }
                      }
                    },
                    "config": {
                      "showLink": false,
                      "linkText": "Export to plot.ly",
                      "plotlyServerURL": "https://plot.ly"
                    }
                  },
                  "text/html": "<div>                            <div id=\"85910c4a-7ecd-43ce-b2c5-036f877a0a26\" class=\"plotly-graph-div\" style=\"height:525px; width:100%;\"></div>            <script type=\"text/javascript\">                require([\"plotly\"], function(Plotly) {                    window.PLOTLYENV=window.PLOTLYENV || {};                                    if (document.getElementById(\"85910c4a-7ecd-43ce-b2c5-036f877a0a26\")) {                    Plotly.newPlot(                        \"85910c4a-7ecd-43ce-b2c5-036f877a0a26\",                        [{\"mode\":\"lines\",\"name\":\"Stock Price\",\"y\":[-0.3925555140987108,-8.95543572246818,-96.21133746532865,-252.97823491923265,-409.86119327511494,-566.7604735726813,-723.5610839670871,-880.338013661695,-1037.2131362991233,-1194.111345691153,-1350.9569574190605,-1507.8446035980885,-1664.7119297404895,-1821.5659836329198,-1978.39172152152,-2135.2663236764406,-2292.119000883184,-2448.8535139852524,-2605.7211510737534,-2762.4981519589587,-2919.3562754053646,-3076.174030507605,-3232.9395653660767,-3389.9158124615965,-3546.7364173600054,-3703.6073631403347,-3860.447414220838,-4017.45948571387,-4174.336348031494,-4331.221441520274,-4488.105177455597,-4644.949713777319,-4801.815909345074,-4958.606761336052,-5115.4268338002685,-5272.382924241784,-5429.249177744802,-5586.014056799377,-5742.903781191487,-5899.741111808117,-6056.56824075701,-6213.39857808422,-6370.215134780595,-6527.032913733272,-6683.842154769386,-6840.606791771947,-6997.410584521368,-7154.25709134796,-7311.094118765774,-7467.9423103724],\"type\":\"scatter\"}],                        {\"template\":{\"data\":{\"barpolar\":[{\"marker\":{\"line\":{\"color\":\"#E5ECF6\",\"width\":0.5},\"pattern\":{\"fillmode\":\"overlay\",\"size\":10,\"solidity\":0.2}},\"type\":\"barpolar\"}],\"bar\":[{\"error_x\":{\"color\":\"#2a3f5f\"},\"error_y\":{\"color\":\"#2a3f5f\"},\"marker\":{\"line\":{\"color\":\"#E5ECF6\",\"width\":0.5},\"pattern\":{\"fillmode\":\"overlay\",\"size\":10,\"solidity\":0.2}},\"type\":\"bar\"}],\"carpet\":[{\"aaxis\":{\"endlinecolor\":\"#2a3f5f\",\"gridcolor\":\"white\",\"linecolor\":\"white\",\"minorgridcolor\":\"white\",\"startlinecolor\":\"#2a3f5f\"},\"baxis\":{\"endlinecolor\":\"#2a3f5f\",\"gridcolor\":\"white\",\"linecolor\":\"white\",\"minorgridcolor\":\"white\",\"startlinecolor\":\"#2a3f5f\"},\"type\":\"carpet\"}],\"choropleth\":[{\"colorbar\":{\"outlinewidth\":0,\"ticks\":\"\"},\"type\":\"choropleth\"}],\"contourcarpet\":[{\"colorbar\":{\"outlinewidth\":0,\"ticks\":\"\"},\"type\":\"contourcarpet\"}],\"contour\":[{\"colorbar\":{\"outlinewidth\":0,\"ticks\":\"\"},\"colorscale\":[[0.0,\"#0d0887\"],[0.1111111111111111,\"#46039f\"],[0.2222222222222222,\"#7201a8\"],[0.3333333333333333,\"#9c179e\"],[0.4444444444444444,\"#bd3786\"],[0.5555555555555556,\"#d8576b\"],[0.6666666666666666,\"#ed7953\"],[0.7777777777777778,\"#fb9f3a\"],[0.8888888888888888,\"#fdca26\"],[1.0,\"#f0f921\"]],\"type\":\"contour\"}],\"heatmapgl\":[{\"colorbar\":{\"outlinewidth\":0,\"ticks\":\"\"},\"colorscale\":[[0.0,\"#0d0887\"],[0.1111111111111111,\"#46039f\"],[0.2222222222222222,\"#7201a8\"],[0.3333333333333333,\"#9c179e\"],[0.4444444444444444,\"#bd3786\"],[0.5555555555555556,\"#d8576b\"],[0.6666666666666666,\"#ed7953\"],[0.7777777777777778,\"#fb9f3a\"],[0.8888888888888888,\"#fdca26\"],[1.0,\"#f0f921\"]],\"type\":\"heatmapgl\"}],\"heatmap\":[{\"colorbar\":{\"outlinewidth\":0,\"ticks\":\"\"},\"colorscale\":[[0.0,\"#0d0887\"],[0.1111111111111111,\"#46039f\"],[0.2222222222222222,\"#7201a8\"],[0.3333333333333333,\"#9c179e\"],[0.4444444444444444,\"#bd3786\"],[0.5555555555555556,\"#d8576b\"],[0.6666666666666666,\"#ed7953\"],[0.7777777777777778,\"#fb9f3a\"],[0.8888888888888888,\"#fdca26\"],[1.0,\"#f0f921\"]],\"type\":\"heatmap\"}],\"histogram2dcontour\":[{\"colorbar\":{\"outlinewidth\":0,\"ticks\":\"\"},\"colorscale\":[[0.0,\"#0d0887\"],[0.1111111111111111,\"#46039f\"],[0.2222222222222222,\"#7201a8\"],[0.3333333333333333,\"#9c179e\"],[0.4444444444444444,\"#bd3786\"],[0.5555555555555556,\"#d8576b\"],[0.6666666666666666,\"#ed7953\"],[0.7777777777777778,\"#fb9f3a\"],[0.8888888888888888,\"#fdca26\"],[1.0,\"#f0f921\"]],\"type\":\"histogram2dcontour\"}],\"histogram2d\":[{\"colorbar\":{\"outlinewidth\":0,\"ticks\":\"\"},\"colorscale\":[[0.0,\"#0d0887\"],[0.1111111111111111,\"#46039f\"],[0.2222222222222222,\"#7201a8\"],[0.3333333333333333,\"#9c179e\"],[0.4444444444444444,\"#bd3786\"],[0.5555555555555556,\"#d8576b\"],[0.6666666666666666,\"#ed7953\"],[0.7777777777777778,\"#fb9f3a\"],[0.8888888888888888,\"#fdca26\"],[1.0,\"#f0f921\"]],\"type\":\"histogram2d\"}],\"histogram\":[{\"marker\":{\"pattern\":{\"fillmode\":\"overlay\",\"size\":10,\"solidity\":0.2}},\"type\":\"histogram\"}],\"mesh3d\":[{\"colorbar\":{\"outlinewidth\":0,\"ticks\":\"\"},\"type\":\"mesh3d\"}],\"parcoords\":[{\"line\":{\"colorbar\":{\"outlinewidth\":0,\"ticks\":\"\"}},\"type\":\"parcoords\"}],\"pie\":[{\"automargin\":true,\"type\":\"pie\"}],\"scatter3d\":[{\"line\":{\"colorbar\":{\"outlinewidth\":0,\"ticks\":\"\"}},\"marker\":{\"colorbar\":{\"outlinewidth\":0,\"ticks\":\"\"}},\"type\":\"scatter3d\"}],\"scattercarpet\":[{\"marker\":{\"colorbar\":{\"outlinewidth\":0,\"ticks\":\"\"}},\"type\":\"scattercarpet\"}],\"scattergeo\":[{\"marker\":{\"colorbar\":{\"outlinewidth\":0,\"ticks\":\"\"}},\"type\":\"scattergeo\"}],\"scattergl\":[{\"marker\":{\"colorbar\":{\"outlinewidth\":0,\"ticks\":\"\"}},\"type\":\"scattergl\"}],\"scattermapbox\":[{\"marker\":{\"colorbar\":{\"outlinewidth\":0,\"ticks\":\"\"}},\"type\":\"scattermapbox\"}],\"scatterpolargl\":[{\"marker\":{\"colorbar\":{\"outlinewidth\":0,\"ticks\":\"\"}},\"type\":\"scatterpolargl\"}],\"scatterpolar\":[{\"marker\":{\"colorbar\":{\"outlinewidth\":0,\"ticks\":\"\"}},\"type\":\"scatterpolar\"}],\"scatter\":[{\"fillpattern\":{\"fillmode\":\"overlay\",\"size\":10,\"solidity\":0.2},\"type\":\"scatter\"}],\"scatterternary\":[{\"marker\":{\"colorbar\":{\"outlinewidth\":0,\"ticks\":\"\"}},\"type\":\"scatterternary\"}],\"surface\":[{\"colorbar\":{\"outlinewidth\":0,\"ticks\":\"\"},\"colorscale\":[[0.0,\"#0d0887\"],[0.1111111111111111,\"#46039f\"],[0.2222222222222222,\"#7201a8\"],[0.3333333333333333,\"#9c179e\"],[0.4444444444444444,\"#bd3786\"],[0.5555555555555556,\"#d8576b\"],[0.6666666666666666,\"#ed7953\"],[0.7777777777777778,\"#fb9f3a\"],[0.8888888888888888,\"#fdca26\"],[1.0,\"#f0f921\"]],\"type\":\"surface\"}],\"table\":[{\"cells\":{\"fill\":{\"color\":\"#EBF0F8\"},\"line\":{\"color\":\"white\"}},\"header\":{\"fill\":{\"color\":\"#C8D4E3\"},\"line\":{\"color\":\"white\"}},\"type\":\"table\"}]},\"layout\":{\"annotationdefaults\":{\"arrowcolor\":\"#2a3f5f\",\"arrowhead\":0,\"arrowwidth\":1},\"autotypenumbers\":\"strict\",\"coloraxis\":{\"colorbar\":{\"outlinewidth\":0,\"ticks\":\"\"}},\"colorscale\":{\"diverging\":[[0,\"#8e0152\"],[0.1,\"#c51b7d\"],[0.2,\"#de77ae\"],[0.3,\"#f1b6da\"],[0.4,\"#fde0ef\"],[0.5,\"#f7f7f7\"],[0.6,\"#e6f5d0\"],[0.7,\"#b8e186\"],[0.8,\"#7fbc41\"],[0.9,\"#4d9221\"],[1,\"#276419\"]],\"sequential\":[[0.0,\"#0d0887\"],[0.1111111111111111,\"#46039f\"],[0.2222222222222222,\"#7201a8\"],[0.3333333333333333,\"#9c179e\"],[0.4444444444444444,\"#bd3786\"],[0.5555555555555556,\"#d8576b\"],[0.6666666666666666,\"#ed7953\"],[0.7777777777777778,\"#fb9f3a\"],[0.8888888888888888,\"#fdca26\"],[1.0,\"#f0f921\"]],\"sequentialminus\":[[0.0,\"#0d0887\"],[0.1111111111111111,\"#46039f\"],[0.2222222222222222,\"#7201a8\"],[0.3333333333333333,\"#9c179e\"],[0.4444444444444444,\"#bd3786\"],[0.5555555555555556,\"#d8576b\"],[0.6666666666666666,\"#ed7953\"],[0.7777777777777778,\"#fb9f3a\"],[0.8888888888888888,\"#fdca26\"],[1.0,\"#f0f921\"]]},\"colorway\":[\"#636efa\",\"#EF553B\",\"#00cc96\",\"#ab63fa\",\"#FFA15A\",\"#19d3f3\",\"#FF6692\",\"#B6E880\",\"#FF97FF\",\"#FECB52\"],\"font\":{\"color\":\"#2a3f5f\"},\"geo\":{\"bgcolor\":\"white\",\"lakecolor\":\"white\",\"landcolor\":\"#E5ECF6\",\"showlakes\":true,\"showland\":true,\"subunitcolor\":\"white\"},\"hoverlabel\":{\"align\":\"left\"},\"hovermode\":\"closest\",\"mapbox\":{\"style\":\"light\"},\"paper_bgcolor\":\"white\",\"plot_bgcolor\":\"#E5ECF6\",\"polar\":{\"angularaxis\":{\"gridcolor\":\"white\",\"linecolor\":\"white\",\"ticks\":\"\"},\"bgcolor\":\"#E5ECF6\",\"radialaxis\":{\"gridcolor\":\"white\",\"linecolor\":\"white\",\"ticks\":\"\"}},\"scene\":{\"xaxis\":{\"backgroundcolor\":\"#E5ECF6\",\"gridcolor\":\"white\",\"gridwidth\":2,\"linecolor\":\"white\",\"showbackground\":true,\"ticks\":\"\",\"zerolinecolor\":\"white\"},\"yaxis\":{\"backgroundcolor\":\"#E5ECF6\",\"gridcolor\":\"white\",\"gridwidth\":2,\"linecolor\":\"white\",\"showbackground\":true,\"ticks\":\"\",\"zerolinecolor\":\"white\"},\"zaxis\":{\"backgroundcolor\":\"#E5ECF6\",\"gridcolor\":\"white\",\"gridwidth\":2,\"linecolor\":\"white\",\"showbackground\":true,\"ticks\":\"\",\"zerolinecolor\":\"white\"}},\"shapedefaults\":{\"line\":{\"color\":\"#2a3f5f\"}},\"ternary\":{\"aaxis\":{\"gridcolor\":\"white\",\"linecolor\":\"white\",\"ticks\":\"\"},\"baxis\":{\"gridcolor\":\"white\",\"linecolor\":\"white\",\"ticks\":\"\"},\"bgcolor\":\"#E5ECF6\",\"caxis\":{\"gridcolor\":\"white\",\"linecolor\":\"white\",\"ticks\":\"\"}},\"title\":{\"x\":0.05},\"xaxis\":{\"automargin\":true,\"gridcolor\":\"white\",\"linecolor\":\"white\",\"ticks\":\"\",\"title\":{\"standoff\":15},\"zerolinecolor\":\"white\",\"zerolinewidth\":2},\"yaxis\":{\"automargin\":true,\"gridcolor\":\"white\",\"linecolor\":\"white\",\"ticks\":\"\",\"title\":{\"standoff\":15},\"zerolinecolor\":\"white\",\"zerolinewidth\":2}}},\"title\":{\"text\":\"Stock Market Simulation Over Time\"},\"xaxis\":{\"title\":{\"text\":\"Time Steps\"}},\"yaxis\":{\"title\":{\"text\":\"Normalized Price\"}}},                        {\"responsive\": true}                    ).then(function(){\n                            \nvar gd = document.getElementById('85910c4a-7ecd-43ce-b2c5-036f877a0a26');\nvar x = new MutationObserver(function (mutations, observer) {{\n        var display = window.getComputedStyle(gd).display;\n        if (!display || display === 'none') {{\n            console.log([gd, 'removed!']);\n            Plotly.purge(gd);\n            observer.disconnect();\n        }}\n}});\n\n// Listen for the removal of the full notebook cells\nvar notebookContainer = gd.closest('#notebook-container');\nif (notebookContainer) {{\n    x.observe(notebookContainer, {childList: true});\n}}\n\n// Listen for the clearing of the current output cell\nvar outputEl = gd.closest('.output');\nif (outputEl) {{\n    x.observe(outputEl, {childList: true});\n}}\n\n                        })                };                });            </script>        </div>"
                },
                "metadata": {}
              }
            ]
          }
        },
        "e0e922d6e9db4aecbb24d560cad40818": {
          "model_module": "@jupyter-widgets/base",
          "model_name": "LayoutModel",
          "model_module_version": "1.2.0",
          "state": {
            "_model_module": "@jupyter-widgets/base",
            "_model_module_version": "1.2.0",
            "_model_name": "LayoutModel",
            "_view_count": null,
            "_view_module": "@jupyter-widgets/base",
            "_view_module_version": "1.2.0",
            "_view_name": "LayoutView",
            "align_content": null,
            "align_items": null,
            "align_self": null,
            "border": null,
            "bottom": null,
            "display": null,
            "flex": null,
            "flex_flow": null,
            "grid_area": null,
            "grid_auto_columns": null,
            "grid_auto_flow": null,
            "grid_auto_rows": null,
            "grid_column": null,
            "grid_gap": null,
            "grid_row": null,
            "grid_template_areas": null,
            "grid_template_columns": null,
            "grid_template_rows": null,
            "height": null,
            "justify_content": null,
            "justify_items": null,
            "left": null,
            "margin": null,
            "max_height": null,
            "max_width": null,
            "min_height": null,
            "min_width": null,
            "object_fit": null,
            "object_position": null,
            "order": null,
            "overflow": null,
            "overflow_x": null,
            "overflow_y": null,
            "padding": null,
            "right": null,
            "top": null,
            "visibility": null,
            "width": null
          }
        }
      }
    }
  },
  "nbformat": 4,
  "nbformat_minor": 0
}